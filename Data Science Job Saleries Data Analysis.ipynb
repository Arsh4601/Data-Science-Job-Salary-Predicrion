{
 "cells": [
  {
   "cell_type": "markdown",
   "id": "36882155",
   "metadata": {},
   "source": [
    "# Data Description"
   ]
  },
  {
   "cell_type": "code",
   "execution_count": null,
   "id": "af9dfb3a",
   "metadata": {},
   "outputs": [],
   "source": []
  },
  {
   "cell_type": "raw",
   "id": "65b4ef4c",
   "metadata": {},
   "source": [
    "work_year: The year the salary was paid.\n",
    "\n",
    "experience_level: The experience level in the job during the year with the following possible values\n",
    "EN Entry-level / Junior MI Mid-level / Intermediate SE Senior-level / Expert EX Executive-level / Director\n",
    "\n",
    "employment_type: The type of employement for the role: PT Part-time FT Full-time CT Contract FL Freelance\n",
    "\n",
    "job_title: The role worked in during the year.\n",
    "\n",
    "salary: The total gross salary amount paid\n",
    "\n",
    "salary_currency: The currency of the salary paid as an ISO 4217 currency code.\n",
    "\n",
    "salaryinusd: The salary in USD (FX rate divided by avg. USD rate for the respective year via fxdata.foorilla.com).\n",
    "\n",
    "employee_residence: Employee's primary country of residence in during the work year as an ISO 3166 country code.\n",
    "\n",
    "Company_location: Country of employer's main office or contracting branch an iso 3166 country code\n",
    "\n",
    "remote_ratio: The overall amount of work done remotely, possible values are as follows: 0 No remote work (less than 20%) 50 Partially remote 100 Fully remote (more than 80%)\n",
    "\n",
    "company_size: The average number of people that worked for the company during the year: S less than 50 employees (small) M 50 to 250 employees (medium) L more than 250 employees (large)"
   ]
  },
  {
   "cell_type": "code",
   "execution_count": null,
   "id": "93d277e1",
   "metadata": {},
   "outputs": [],
   "source": []
  },
  {
   "cell_type": "code",
   "execution_count": 1,
   "id": "660287b0",
   "metadata": {},
   "outputs": [],
   "source": [
    "import pandas as pd\n",
    "import numpy as np\n",
    "import matplotlib.pyplot as plt\n",
    "import seaborn as sns"
   ]
  },
  {
   "cell_type": "code",
   "execution_count": null,
   "id": "03aa4793",
   "metadata": {},
   "outputs": [],
   "source": []
  },
  {
   "cell_type": "code",
   "execution_count": 2,
   "id": "42e740bd",
   "metadata": {},
   "outputs": [
    {
     "data": {
      "text/html": [
       "<div>\n",
       "<style scoped>\n",
       "    .dataframe tbody tr th:only-of-type {\n",
       "        vertical-align: middle;\n",
       "    }\n",
       "\n",
       "    .dataframe tbody tr th {\n",
       "        vertical-align: top;\n",
       "    }\n",
       "\n",
       "    .dataframe thead th {\n",
       "        text-align: right;\n",
       "    }\n",
       "</style>\n",
       "<table border=\"1\" class=\"dataframe\">\n",
       "  <thead>\n",
       "    <tr style=\"text-align: right;\">\n",
       "      <th></th>\n",
       "      <th>Unnamed: 0</th>\n",
       "      <th>work_year</th>\n",
       "      <th>experience_level</th>\n",
       "      <th>employment_type</th>\n",
       "      <th>job_title</th>\n",
       "      <th>salary</th>\n",
       "      <th>salary_currency</th>\n",
       "      <th>salary_in_usd</th>\n",
       "      <th>employee_residence</th>\n",
       "      <th>remote_ratio</th>\n",
       "      <th>company_location</th>\n",
       "      <th>company_size</th>\n",
       "    </tr>\n",
       "  </thead>\n",
       "  <tbody>\n",
       "    <tr>\n",
       "      <th>0</th>\n",
       "      <td>0</td>\n",
       "      <td>2020</td>\n",
       "      <td>MI</td>\n",
       "      <td>FT</td>\n",
       "      <td>Data Scientist</td>\n",
       "      <td>70000</td>\n",
       "      <td>EUR</td>\n",
       "      <td>79833</td>\n",
       "      <td>DE</td>\n",
       "      <td>0</td>\n",
       "      <td>DE</td>\n",
       "      <td>L</td>\n",
       "    </tr>\n",
       "    <tr>\n",
       "      <th>1</th>\n",
       "      <td>1</td>\n",
       "      <td>2020</td>\n",
       "      <td>SE</td>\n",
       "      <td>FT</td>\n",
       "      <td>Machine Learning Scientist</td>\n",
       "      <td>260000</td>\n",
       "      <td>USD</td>\n",
       "      <td>260000</td>\n",
       "      <td>JP</td>\n",
       "      <td>0</td>\n",
       "      <td>JP</td>\n",
       "      <td>S</td>\n",
       "    </tr>\n",
       "    <tr>\n",
       "      <th>2</th>\n",
       "      <td>2</td>\n",
       "      <td>2020</td>\n",
       "      <td>SE</td>\n",
       "      <td>FT</td>\n",
       "      <td>Big Data Engineer</td>\n",
       "      <td>85000</td>\n",
       "      <td>GBP</td>\n",
       "      <td>109024</td>\n",
       "      <td>GB</td>\n",
       "      <td>50</td>\n",
       "      <td>GB</td>\n",
       "      <td>M</td>\n",
       "    </tr>\n",
       "    <tr>\n",
       "      <th>3</th>\n",
       "      <td>3</td>\n",
       "      <td>2020</td>\n",
       "      <td>MI</td>\n",
       "      <td>FT</td>\n",
       "      <td>Product Data Analyst</td>\n",
       "      <td>20000</td>\n",
       "      <td>USD</td>\n",
       "      <td>20000</td>\n",
       "      <td>HN</td>\n",
       "      <td>0</td>\n",
       "      <td>HN</td>\n",
       "      <td>S</td>\n",
       "    </tr>\n",
       "    <tr>\n",
       "      <th>4</th>\n",
       "      <td>4</td>\n",
       "      <td>2020</td>\n",
       "      <td>SE</td>\n",
       "      <td>FT</td>\n",
       "      <td>Machine Learning Engineer</td>\n",
       "      <td>150000</td>\n",
       "      <td>USD</td>\n",
       "      <td>150000</td>\n",
       "      <td>US</td>\n",
       "      <td>50</td>\n",
       "      <td>US</td>\n",
       "      <td>L</td>\n",
       "    </tr>\n",
       "    <tr>\n",
       "      <th>...</th>\n",
       "      <td>...</td>\n",
       "      <td>...</td>\n",
       "      <td>...</td>\n",
       "      <td>...</td>\n",
       "      <td>...</td>\n",
       "      <td>...</td>\n",
       "      <td>...</td>\n",
       "      <td>...</td>\n",
       "      <td>...</td>\n",
       "      <td>...</td>\n",
       "      <td>...</td>\n",
       "      <td>...</td>\n",
       "    </tr>\n",
       "    <tr>\n",
       "      <th>602</th>\n",
       "      <td>602</td>\n",
       "      <td>2022</td>\n",
       "      <td>SE</td>\n",
       "      <td>FT</td>\n",
       "      <td>Data Engineer</td>\n",
       "      <td>154000</td>\n",
       "      <td>USD</td>\n",
       "      <td>154000</td>\n",
       "      <td>US</td>\n",
       "      <td>100</td>\n",
       "      <td>US</td>\n",
       "      <td>M</td>\n",
       "    </tr>\n",
       "    <tr>\n",
       "      <th>603</th>\n",
       "      <td>603</td>\n",
       "      <td>2022</td>\n",
       "      <td>SE</td>\n",
       "      <td>FT</td>\n",
       "      <td>Data Engineer</td>\n",
       "      <td>126000</td>\n",
       "      <td>USD</td>\n",
       "      <td>126000</td>\n",
       "      <td>US</td>\n",
       "      <td>100</td>\n",
       "      <td>US</td>\n",
       "      <td>M</td>\n",
       "    </tr>\n",
       "    <tr>\n",
       "      <th>604</th>\n",
       "      <td>604</td>\n",
       "      <td>2022</td>\n",
       "      <td>SE</td>\n",
       "      <td>FT</td>\n",
       "      <td>Data Analyst</td>\n",
       "      <td>129000</td>\n",
       "      <td>USD</td>\n",
       "      <td>129000</td>\n",
       "      <td>US</td>\n",
       "      <td>0</td>\n",
       "      <td>US</td>\n",
       "      <td>M</td>\n",
       "    </tr>\n",
       "    <tr>\n",
       "      <th>605</th>\n",
       "      <td>605</td>\n",
       "      <td>2022</td>\n",
       "      <td>SE</td>\n",
       "      <td>FT</td>\n",
       "      <td>Data Analyst</td>\n",
       "      <td>150000</td>\n",
       "      <td>USD</td>\n",
       "      <td>150000</td>\n",
       "      <td>US</td>\n",
       "      <td>100</td>\n",
       "      <td>US</td>\n",
       "      <td>M</td>\n",
       "    </tr>\n",
       "    <tr>\n",
       "      <th>606</th>\n",
       "      <td>606</td>\n",
       "      <td>2022</td>\n",
       "      <td>MI</td>\n",
       "      <td>FT</td>\n",
       "      <td>AI Scientist</td>\n",
       "      <td>200000</td>\n",
       "      <td>USD</td>\n",
       "      <td>200000</td>\n",
       "      <td>IN</td>\n",
       "      <td>100</td>\n",
       "      <td>US</td>\n",
       "      <td>L</td>\n",
       "    </tr>\n",
       "  </tbody>\n",
       "</table>\n",
       "<p>607 rows × 12 columns</p>\n",
       "</div>"
      ],
      "text/plain": [
       "     Unnamed: 0  work_year experience_level employment_type  \\\n",
       "0             0       2020               MI              FT   \n",
       "1             1       2020               SE              FT   \n",
       "2             2       2020               SE              FT   \n",
       "3             3       2020               MI              FT   \n",
       "4             4       2020               SE              FT   \n",
       "..          ...        ...              ...             ...   \n",
       "602         602       2022               SE              FT   \n",
       "603         603       2022               SE              FT   \n",
       "604         604       2022               SE              FT   \n",
       "605         605       2022               SE              FT   \n",
       "606         606       2022               MI              FT   \n",
       "\n",
       "                      job_title  salary salary_currency  salary_in_usd  \\\n",
       "0                Data Scientist   70000             EUR          79833   \n",
       "1    Machine Learning Scientist  260000             USD         260000   \n",
       "2             Big Data Engineer   85000             GBP         109024   \n",
       "3          Product Data Analyst   20000             USD          20000   \n",
       "4     Machine Learning Engineer  150000             USD         150000   \n",
       "..                          ...     ...             ...            ...   \n",
       "602               Data Engineer  154000             USD         154000   \n",
       "603               Data Engineer  126000             USD         126000   \n",
       "604                Data Analyst  129000             USD         129000   \n",
       "605                Data Analyst  150000             USD         150000   \n",
       "606                AI Scientist  200000             USD         200000   \n",
       "\n",
       "    employee_residence  remote_ratio company_location company_size  \n",
       "0                   DE             0               DE            L  \n",
       "1                   JP             0               JP            S  \n",
       "2                   GB            50               GB            M  \n",
       "3                   HN             0               HN            S  \n",
       "4                   US            50               US            L  \n",
       "..                 ...           ...              ...          ...  \n",
       "602                 US           100               US            M  \n",
       "603                 US           100               US            M  \n",
       "604                 US             0               US            M  \n",
       "605                 US           100               US            M  \n",
       "606                 IN           100               US            L  \n",
       "\n",
       "[607 rows x 12 columns]"
      ]
     },
     "execution_count": 2,
     "metadata": {},
     "output_type": "execute_result"
    }
   ],
   "source": [
    "data=pd.read_csv(\"C:/Users/Arsh/Desktop/my project/DS job saleries/ds_salaries.csv\")\n",
    "\n",
    "data"
   ]
  },
  {
   "cell_type": "code",
   "execution_count": null,
   "id": "375a80ac",
   "metadata": {},
   "outputs": [],
   "source": []
  },
  {
   "cell_type": "code",
   "execution_count": 3,
   "id": "2fc7c0fc",
   "metadata": {},
   "outputs": [
    {
     "data": {
      "text/html": [
       "<div>\n",
       "<style scoped>\n",
       "    .dataframe tbody tr th:only-of-type {\n",
       "        vertical-align: middle;\n",
       "    }\n",
       "\n",
       "    .dataframe tbody tr th {\n",
       "        vertical-align: top;\n",
       "    }\n",
       "\n",
       "    .dataframe thead th {\n",
       "        text-align: right;\n",
       "    }\n",
       "</style>\n",
       "<table border=\"1\" class=\"dataframe\">\n",
       "  <thead>\n",
       "    <tr style=\"text-align: right;\">\n",
       "      <th></th>\n",
       "      <th>Unnamed: 0</th>\n",
       "      <th>work_year</th>\n",
       "      <th>experience_level</th>\n",
       "      <th>employment_type</th>\n",
       "      <th>job_title</th>\n",
       "      <th>salary</th>\n",
       "      <th>salary_currency</th>\n",
       "      <th>salary_in_usd</th>\n",
       "      <th>employee_residence</th>\n",
       "      <th>remote_ratio</th>\n",
       "      <th>company_location</th>\n",
       "      <th>company_size</th>\n",
       "    </tr>\n",
       "  </thead>\n",
       "  <tbody>\n",
       "    <tr>\n",
       "      <th>0</th>\n",
       "      <td>0</td>\n",
       "      <td>2020</td>\n",
       "      <td>MI</td>\n",
       "      <td>FT</td>\n",
       "      <td>Data Scientist</td>\n",
       "      <td>70000</td>\n",
       "      <td>EUR</td>\n",
       "      <td>79833</td>\n",
       "      <td>DE</td>\n",
       "      <td>0</td>\n",
       "      <td>DE</td>\n",
       "      <td>L</td>\n",
       "    </tr>\n",
       "    <tr>\n",
       "      <th>1</th>\n",
       "      <td>1</td>\n",
       "      <td>2020</td>\n",
       "      <td>SE</td>\n",
       "      <td>FT</td>\n",
       "      <td>Machine Learning Scientist</td>\n",
       "      <td>260000</td>\n",
       "      <td>USD</td>\n",
       "      <td>260000</td>\n",
       "      <td>JP</td>\n",
       "      <td>0</td>\n",
       "      <td>JP</td>\n",
       "      <td>S</td>\n",
       "    </tr>\n",
       "    <tr>\n",
       "      <th>2</th>\n",
       "      <td>2</td>\n",
       "      <td>2020</td>\n",
       "      <td>SE</td>\n",
       "      <td>FT</td>\n",
       "      <td>Big Data Engineer</td>\n",
       "      <td>85000</td>\n",
       "      <td>GBP</td>\n",
       "      <td>109024</td>\n",
       "      <td>GB</td>\n",
       "      <td>50</td>\n",
       "      <td>GB</td>\n",
       "      <td>M</td>\n",
       "    </tr>\n",
       "    <tr>\n",
       "      <th>3</th>\n",
       "      <td>3</td>\n",
       "      <td>2020</td>\n",
       "      <td>MI</td>\n",
       "      <td>FT</td>\n",
       "      <td>Product Data Analyst</td>\n",
       "      <td>20000</td>\n",
       "      <td>USD</td>\n",
       "      <td>20000</td>\n",
       "      <td>HN</td>\n",
       "      <td>0</td>\n",
       "      <td>HN</td>\n",
       "      <td>S</td>\n",
       "    </tr>\n",
       "    <tr>\n",
       "      <th>4</th>\n",
       "      <td>4</td>\n",
       "      <td>2020</td>\n",
       "      <td>SE</td>\n",
       "      <td>FT</td>\n",
       "      <td>Machine Learning Engineer</td>\n",
       "      <td>150000</td>\n",
       "      <td>USD</td>\n",
       "      <td>150000</td>\n",
       "      <td>US</td>\n",
       "      <td>50</td>\n",
       "      <td>US</td>\n",
       "      <td>L</td>\n",
       "    </tr>\n",
       "    <tr>\n",
       "      <th>...</th>\n",
       "      <td>...</td>\n",
       "      <td>...</td>\n",
       "      <td>...</td>\n",
       "      <td>...</td>\n",
       "      <td>...</td>\n",
       "      <td>...</td>\n",
       "      <td>...</td>\n",
       "      <td>...</td>\n",
       "      <td>...</td>\n",
       "      <td>...</td>\n",
       "      <td>...</td>\n",
       "      <td>...</td>\n",
       "    </tr>\n",
       "    <tr>\n",
       "      <th>602</th>\n",
       "      <td>602</td>\n",
       "      <td>2022</td>\n",
       "      <td>SE</td>\n",
       "      <td>FT</td>\n",
       "      <td>Data Engineer</td>\n",
       "      <td>154000</td>\n",
       "      <td>USD</td>\n",
       "      <td>154000</td>\n",
       "      <td>US</td>\n",
       "      <td>100</td>\n",
       "      <td>US</td>\n",
       "      <td>M</td>\n",
       "    </tr>\n",
       "    <tr>\n",
       "      <th>603</th>\n",
       "      <td>603</td>\n",
       "      <td>2022</td>\n",
       "      <td>SE</td>\n",
       "      <td>FT</td>\n",
       "      <td>Data Engineer</td>\n",
       "      <td>126000</td>\n",
       "      <td>USD</td>\n",
       "      <td>126000</td>\n",
       "      <td>US</td>\n",
       "      <td>100</td>\n",
       "      <td>US</td>\n",
       "      <td>M</td>\n",
       "    </tr>\n",
       "    <tr>\n",
       "      <th>604</th>\n",
       "      <td>604</td>\n",
       "      <td>2022</td>\n",
       "      <td>SE</td>\n",
       "      <td>FT</td>\n",
       "      <td>Data Analyst</td>\n",
       "      <td>129000</td>\n",
       "      <td>USD</td>\n",
       "      <td>129000</td>\n",
       "      <td>US</td>\n",
       "      <td>0</td>\n",
       "      <td>US</td>\n",
       "      <td>M</td>\n",
       "    </tr>\n",
       "    <tr>\n",
       "      <th>605</th>\n",
       "      <td>605</td>\n",
       "      <td>2022</td>\n",
       "      <td>SE</td>\n",
       "      <td>FT</td>\n",
       "      <td>Data Analyst</td>\n",
       "      <td>150000</td>\n",
       "      <td>USD</td>\n",
       "      <td>150000</td>\n",
       "      <td>US</td>\n",
       "      <td>100</td>\n",
       "      <td>US</td>\n",
       "      <td>M</td>\n",
       "    </tr>\n",
       "    <tr>\n",
       "      <th>606</th>\n",
       "      <td>606</td>\n",
       "      <td>2022</td>\n",
       "      <td>MI</td>\n",
       "      <td>FT</td>\n",
       "      <td>AI Scientist</td>\n",
       "      <td>200000</td>\n",
       "      <td>USD</td>\n",
       "      <td>200000</td>\n",
       "      <td>IN</td>\n",
       "      <td>100</td>\n",
       "      <td>US</td>\n",
       "      <td>L</td>\n",
       "    </tr>\n",
       "  </tbody>\n",
       "</table>\n",
       "<p>607 rows × 12 columns</p>\n",
       "</div>"
      ],
      "text/plain": [
       "     Unnamed: 0  work_year experience_level employment_type  \\\n",
       "0             0       2020               MI              FT   \n",
       "1             1       2020               SE              FT   \n",
       "2             2       2020               SE              FT   \n",
       "3             3       2020               MI              FT   \n",
       "4             4       2020               SE              FT   \n",
       "..          ...        ...              ...             ...   \n",
       "602         602       2022               SE              FT   \n",
       "603         603       2022               SE              FT   \n",
       "604         604       2022               SE              FT   \n",
       "605         605       2022               SE              FT   \n",
       "606         606       2022               MI              FT   \n",
       "\n",
       "                      job_title  salary salary_currency  salary_in_usd  \\\n",
       "0                Data Scientist   70000             EUR          79833   \n",
       "1    Machine Learning Scientist  260000             USD         260000   \n",
       "2             Big Data Engineer   85000             GBP         109024   \n",
       "3          Product Data Analyst   20000             USD          20000   \n",
       "4     Machine Learning Engineer  150000             USD         150000   \n",
       "..                          ...     ...             ...            ...   \n",
       "602               Data Engineer  154000             USD         154000   \n",
       "603               Data Engineer  126000             USD         126000   \n",
       "604                Data Analyst  129000             USD         129000   \n",
       "605                Data Analyst  150000             USD         150000   \n",
       "606                AI Scientist  200000             USD         200000   \n",
       "\n",
       "    employee_residence  remote_ratio company_location company_size  \n",
       "0                   DE             0               DE            L  \n",
       "1                   JP             0               JP            S  \n",
       "2                   GB            50               GB            M  \n",
       "3                   HN             0               HN            S  \n",
       "4                   US            50               US            L  \n",
       "..                 ...           ...              ...          ...  \n",
       "602                 US           100               US            M  \n",
       "603                 US           100               US            M  \n",
       "604                 US             0               US            M  \n",
       "605                 US           100               US            M  \n",
       "606                 IN           100               US            L  \n",
       "\n",
       "[607 rows x 12 columns]"
      ]
     },
     "execution_count": 3,
     "metadata": {},
     "output_type": "execute_result"
    }
   ],
   "source": [
    "data1=data.copy()\n",
    "\n",
    "data1"
   ]
  },
  {
   "cell_type": "code",
   "execution_count": null,
   "id": "8afcdbbe",
   "metadata": {},
   "outputs": [],
   "source": []
  },
  {
   "cell_type": "code",
   "execution_count": 4,
   "id": "d86a8e1b",
   "metadata": {},
   "outputs": [
    {
     "data": {
      "text/html": [
       "<div>\n",
       "<style scoped>\n",
       "    .dataframe tbody tr th:only-of-type {\n",
       "        vertical-align: middle;\n",
       "    }\n",
       "\n",
       "    .dataframe tbody tr th {\n",
       "        vertical-align: top;\n",
       "    }\n",
       "\n",
       "    .dataframe thead th {\n",
       "        text-align: right;\n",
       "    }\n",
       "</style>\n",
       "<table border=\"1\" class=\"dataframe\">\n",
       "  <thead>\n",
       "    <tr style=\"text-align: right;\">\n",
       "      <th></th>\n",
       "      <th>work_year</th>\n",
       "      <th>experience_level</th>\n",
       "      <th>employment_type</th>\n",
       "      <th>job_title</th>\n",
       "      <th>salary</th>\n",
       "      <th>salary_currency</th>\n",
       "      <th>salary_in_usd</th>\n",
       "      <th>employee_residence</th>\n",
       "      <th>remote_ratio</th>\n",
       "      <th>company_location</th>\n",
       "      <th>company_size</th>\n",
       "    </tr>\n",
       "  </thead>\n",
       "  <tbody>\n",
       "    <tr>\n",
       "      <th>0</th>\n",
       "      <td>2020</td>\n",
       "      <td>MI</td>\n",
       "      <td>FT</td>\n",
       "      <td>Data Scientist</td>\n",
       "      <td>70000</td>\n",
       "      <td>EUR</td>\n",
       "      <td>79833</td>\n",
       "      <td>DE</td>\n",
       "      <td>0</td>\n",
       "      <td>DE</td>\n",
       "      <td>L</td>\n",
       "    </tr>\n",
       "    <tr>\n",
       "      <th>1</th>\n",
       "      <td>2020</td>\n",
       "      <td>SE</td>\n",
       "      <td>FT</td>\n",
       "      <td>Machine Learning Scientist</td>\n",
       "      <td>260000</td>\n",
       "      <td>USD</td>\n",
       "      <td>260000</td>\n",
       "      <td>JP</td>\n",
       "      <td>0</td>\n",
       "      <td>JP</td>\n",
       "      <td>S</td>\n",
       "    </tr>\n",
       "    <tr>\n",
       "      <th>2</th>\n",
       "      <td>2020</td>\n",
       "      <td>SE</td>\n",
       "      <td>FT</td>\n",
       "      <td>Big Data Engineer</td>\n",
       "      <td>85000</td>\n",
       "      <td>GBP</td>\n",
       "      <td>109024</td>\n",
       "      <td>GB</td>\n",
       "      <td>50</td>\n",
       "      <td>GB</td>\n",
       "      <td>M</td>\n",
       "    </tr>\n",
       "    <tr>\n",
       "      <th>3</th>\n",
       "      <td>2020</td>\n",
       "      <td>MI</td>\n",
       "      <td>FT</td>\n",
       "      <td>Product Data Analyst</td>\n",
       "      <td>20000</td>\n",
       "      <td>USD</td>\n",
       "      <td>20000</td>\n",
       "      <td>HN</td>\n",
       "      <td>0</td>\n",
       "      <td>HN</td>\n",
       "      <td>S</td>\n",
       "    </tr>\n",
       "    <tr>\n",
       "      <th>4</th>\n",
       "      <td>2020</td>\n",
       "      <td>SE</td>\n",
       "      <td>FT</td>\n",
       "      <td>Machine Learning Engineer</td>\n",
       "      <td>150000</td>\n",
       "      <td>USD</td>\n",
       "      <td>150000</td>\n",
       "      <td>US</td>\n",
       "      <td>50</td>\n",
       "      <td>US</td>\n",
       "      <td>L</td>\n",
       "    </tr>\n",
       "    <tr>\n",
       "      <th>...</th>\n",
       "      <td>...</td>\n",
       "      <td>...</td>\n",
       "      <td>...</td>\n",
       "      <td>...</td>\n",
       "      <td>...</td>\n",
       "      <td>...</td>\n",
       "      <td>...</td>\n",
       "      <td>...</td>\n",
       "      <td>...</td>\n",
       "      <td>...</td>\n",
       "      <td>...</td>\n",
       "    </tr>\n",
       "    <tr>\n",
       "      <th>602</th>\n",
       "      <td>2022</td>\n",
       "      <td>SE</td>\n",
       "      <td>FT</td>\n",
       "      <td>Data Engineer</td>\n",
       "      <td>154000</td>\n",
       "      <td>USD</td>\n",
       "      <td>154000</td>\n",
       "      <td>US</td>\n",
       "      <td>100</td>\n",
       "      <td>US</td>\n",
       "      <td>M</td>\n",
       "    </tr>\n",
       "    <tr>\n",
       "      <th>603</th>\n",
       "      <td>2022</td>\n",
       "      <td>SE</td>\n",
       "      <td>FT</td>\n",
       "      <td>Data Engineer</td>\n",
       "      <td>126000</td>\n",
       "      <td>USD</td>\n",
       "      <td>126000</td>\n",
       "      <td>US</td>\n",
       "      <td>100</td>\n",
       "      <td>US</td>\n",
       "      <td>M</td>\n",
       "    </tr>\n",
       "    <tr>\n",
       "      <th>604</th>\n",
       "      <td>2022</td>\n",
       "      <td>SE</td>\n",
       "      <td>FT</td>\n",
       "      <td>Data Analyst</td>\n",
       "      <td>129000</td>\n",
       "      <td>USD</td>\n",
       "      <td>129000</td>\n",
       "      <td>US</td>\n",
       "      <td>0</td>\n",
       "      <td>US</td>\n",
       "      <td>M</td>\n",
       "    </tr>\n",
       "    <tr>\n",
       "      <th>605</th>\n",
       "      <td>2022</td>\n",
       "      <td>SE</td>\n",
       "      <td>FT</td>\n",
       "      <td>Data Analyst</td>\n",
       "      <td>150000</td>\n",
       "      <td>USD</td>\n",
       "      <td>150000</td>\n",
       "      <td>US</td>\n",
       "      <td>100</td>\n",
       "      <td>US</td>\n",
       "      <td>M</td>\n",
       "    </tr>\n",
       "    <tr>\n",
       "      <th>606</th>\n",
       "      <td>2022</td>\n",
       "      <td>MI</td>\n",
       "      <td>FT</td>\n",
       "      <td>AI Scientist</td>\n",
       "      <td>200000</td>\n",
       "      <td>USD</td>\n",
       "      <td>200000</td>\n",
       "      <td>IN</td>\n",
       "      <td>100</td>\n",
       "      <td>US</td>\n",
       "      <td>L</td>\n",
       "    </tr>\n",
       "  </tbody>\n",
       "</table>\n",
       "<p>607 rows × 11 columns</p>\n",
       "</div>"
      ],
      "text/plain": [
       "     work_year experience_level employment_type                   job_title  \\\n",
       "0         2020               MI              FT              Data Scientist   \n",
       "1         2020               SE              FT  Machine Learning Scientist   \n",
       "2         2020               SE              FT           Big Data Engineer   \n",
       "3         2020               MI              FT        Product Data Analyst   \n",
       "4         2020               SE              FT   Machine Learning Engineer   \n",
       "..         ...              ...             ...                         ...   \n",
       "602       2022               SE              FT               Data Engineer   \n",
       "603       2022               SE              FT               Data Engineer   \n",
       "604       2022               SE              FT                Data Analyst   \n",
       "605       2022               SE              FT                Data Analyst   \n",
       "606       2022               MI              FT                AI Scientist   \n",
       "\n",
       "     salary salary_currency  salary_in_usd employee_residence  remote_ratio  \\\n",
       "0     70000             EUR          79833                 DE             0   \n",
       "1    260000             USD         260000                 JP             0   \n",
       "2     85000             GBP         109024                 GB            50   \n",
       "3     20000             USD          20000                 HN             0   \n",
       "4    150000             USD         150000                 US            50   \n",
       "..      ...             ...            ...                ...           ...   \n",
       "602  154000             USD         154000                 US           100   \n",
       "603  126000             USD         126000                 US           100   \n",
       "604  129000             USD         129000                 US             0   \n",
       "605  150000             USD         150000                 US           100   \n",
       "606  200000             USD         200000                 IN           100   \n",
       "\n",
       "    company_location company_size  \n",
       "0                 DE            L  \n",
       "1                 JP            S  \n",
       "2                 GB            M  \n",
       "3                 HN            S  \n",
       "4                 US            L  \n",
       "..               ...          ...  \n",
       "602               US            M  \n",
       "603               US            M  \n",
       "604               US            M  \n",
       "605               US            M  \n",
       "606               US            L  \n",
       "\n",
       "[607 rows x 11 columns]"
      ]
     },
     "execution_count": 4,
     "metadata": {},
     "output_type": "execute_result"
    }
   ],
   "source": [
    "data1=data1.drop([\"Unnamed: 0\"],axis=1)\n",
    "\n",
    "data1"
   ]
  },
  {
   "cell_type": "code",
   "execution_count": null,
   "id": "ca992ef5",
   "metadata": {},
   "outputs": [],
   "source": []
  },
  {
   "cell_type": "markdown",
   "id": "c6945c3e",
   "metadata": {},
   "source": [
    "# EDA"
   ]
  },
  {
   "cell_type": "code",
   "execution_count": null,
   "id": "351d97fd",
   "metadata": {},
   "outputs": [],
   "source": []
  },
  {
   "cell_type": "code",
   "execution_count": 5,
   "id": "579731cc",
   "metadata": {},
   "outputs": [
    {
     "data": {
      "text/plain": [
       "work_year              int64\n",
       "experience_level      object\n",
       "employment_type       object\n",
       "job_title             object\n",
       "salary                 int64\n",
       "salary_currency       object\n",
       "salary_in_usd          int64\n",
       "employee_residence    object\n",
       "remote_ratio           int64\n",
       "company_location      object\n",
       "company_size          object\n",
       "dtype: object"
      ]
     },
     "execution_count": 5,
     "metadata": {},
     "output_type": "execute_result"
    }
   ],
   "source": [
    "data1.dtypes"
   ]
  },
  {
   "cell_type": "code",
   "execution_count": null,
   "id": "cc91b744",
   "metadata": {},
   "outputs": [],
   "source": []
  },
  {
   "cell_type": "code",
   "execution_count": 6,
   "id": "820ed118",
   "metadata": {},
   "outputs": [
    {
     "data": {
      "text/plain": [
       "work_year             0\n",
       "experience_level      0\n",
       "employment_type       0\n",
       "job_title             0\n",
       "salary                0\n",
       "salary_currency       0\n",
       "salary_in_usd         0\n",
       "employee_residence    0\n",
       "remote_ratio          0\n",
       "company_location      0\n",
       "company_size          0\n",
       "dtype: int64"
      ]
     },
     "execution_count": 6,
     "metadata": {},
     "output_type": "execute_result"
    }
   ],
   "source": [
    "data1.isna().sum()"
   ]
  },
  {
   "cell_type": "code",
   "execution_count": null,
   "id": "4dcecdb6",
   "metadata": {},
   "outputs": [],
   "source": []
  },
  {
   "cell_type": "raw",
   "id": "7f51d18f",
   "metadata": {},
   "source": [
    "No empty values"
   ]
  },
  {
   "cell_type": "code",
   "execution_count": null,
   "id": "63f465a4",
   "metadata": {},
   "outputs": [],
   "source": []
  },
  {
   "cell_type": "code",
   "execution_count": 7,
   "id": "79af8681",
   "metadata": {},
   "outputs": [
    {
     "data": {
      "text/html": [
       "<div>\n",
       "<style scoped>\n",
       "    .dataframe tbody tr th:only-of-type {\n",
       "        vertical-align: middle;\n",
       "    }\n",
       "\n",
       "    .dataframe tbody tr th {\n",
       "        vertical-align: top;\n",
       "    }\n",
       "\n",
       "    .dataframe thead th {\n",
       "        text-align: right;\n",
       "    }\n",
       "</style>\n",
       "<table border=\"1\" class=\"dataframe\">\n",
       "  <thead>\n",
       "    <tr style=\"text-align: right;\">\n",
       "      <th></th>\n",
       "      <th>count</th>\n",
       "      <th>mean</th>\n",
       "      <th>std</th>\n",
       "      <th>min</th>\n",
       "      <th>25%</th>\n",
       "      <th>50%</th>\n",
       "      <th>75%</th>\n",
       "      <th>max</th>\n",
       "    </tr>\n",
       "  </thead>\n",
       "  <tbody>\n",
       "    <tr>\n",
       "      <th>work_year</th>\n",
       "      <td>607.0</td>\n",
       "      <td>2021.405272</td>\n",
       "      <td>6.921330e-01</td>\n",
       "      <td>2020.0</td>\n",
       "      <td>2021.0</td>\n",
       "      <td>2022.0</td>\n",
       "      <td>2022.0</td>\n",
       "      <td>2022.0</td>\n",
       "    </tr>\n",
       "    <tr>\n",
       "      <th>salary</th>\n",
       "      <td>607.0</td>\n",
       "      <td>324000.062603</td>\n",
       "      <td>1.544357e+06</td>\n",
       "      <td>4000.0</td>\n",
       "      <td>70000.0</td>\n",
       "      <td>115000.0</td>\n",
       "      <td>165000.0</td>\n",
       "      <td>30400000.0</td>\n",
       "    </tr>\n",
       "    <tr>\n",
       "      <th>salary_in_usd</th>\n",
       "      <td>607.0</td>\n",
       "      <td>112297.869852</td>\n",
       "      <td>7.095726e+04</td>\n",
       "      <td>2859.0</td>\n",
       "      <td>62726.0</td>\n",
       "      <td>101570.0</td>\n",
       "      <td>150000.0</td>\n",
       "      <td>600000.0</td>\n",
       "    </tr>\n",
       "    <tr>\n",
       "      <th>remote_ratio</th>\n",
       "      <td>607.0</td>\n",
       "      <td>70.922570</td>\n",
       "      <td>4.070913e+01</td>\n",
       "      <td>0.0</td>\n",
       "      <td>50.0</td>\n",
       "      <td>100.0</td>\n",
       "      <td>100.0</td>\n",
       "      <td>100.0</td>\n",
       "    </tr>\n",
       "  </tbody>\n",
       "</table>\n",
       "</div>"
      ],
      "text/plain": [
       "               count           mean           std     min      25%       50%  \\\n",
       "work_year      607.0    2021.405272  6.921330e-01  2020.0   2021.0    2022.0   \n",
       "salary         607.0  324000.062603  1.544357e+06  4000.0  70000.0  115000.0   \n",
       "salary_in_usd  607.0  112297.869852  7.095726e+04  2859.0  62726.0  101570.0   \n",
       "remote_ratio   607.0      70.922570  4.070913e+01     0.0     50.0     100.0   \n",
       "\n",
       "                    75%         max  \n",
       "work_year        2022.0      2022.0  \n",
       "salary         165000.0  30400000.0  \n",
       "salary_in_usd  150000.0    600000.0  \n",
       "remote_ratio      100.0       100.0  "
      ]
     },
     "execution_count": 7,
     "metadata": {},
     "output_type": "execute_result"
    }
   ],
   "source": [
    "data1.describe().T"
   ]
  },
  {
   "cell_type": "code",
   "execution_count": null,
   "id": "144f8a19",
   "metadata": {},
   "outputs": [],
   "source": []
  },
  {
   "cell_type": "raw",
   "id": "f7a796a7",
   "metadata": {},
   "source": [
    "Salaries in USD ranges from $2859 to $600,000\n",
    "\n",
    "75% and above people are earrning $150,000(USD)\n",
    "\n",
    "Average Salary in USD is $112297.87(Approx)"
   ]
  },
  {
   "cell_type": "code",
   "execution_count": null,
   "id": "e6ea1dc8",
   "metadata": {},
   "outputs": [],
   "source": []
  },
  {
   "cell_type": "code",
   "execution_count": 8,
   "id": "4d90952a",
   "metadata": {},
   "outputs": [
    {
     "data": {
      "image/png": "[encoded data removed]",
      "text/plain": [
       "<Figure size 798.125x720 with 20 Axes>"
      ]
     },
     "metadata": {
      "needs_background": "light"
     },
     "output_type": "display_data"
    }
   ],
   "source": [
    "import warnings\n",
    "\n",
    "warnings.filterwarnings(\"ignore\")\n",
    "\n",
    "sns.pairplot(data1,hue=\"company_size\")\n",
    "\n",
    "plt.show()"
   ]
  },
  {
   "cell_type": "code",
   "execution_count": null,
   "id": "2dd6c3bf",
   "metadata": {},
   "outputs": [],
   "source": []
  },
  {
   "cell_type": "raw",
   "id": "1c0c4142",
   "metadata": {},
   "source": [
    "There are outliers present which needs to be treated"
   ]
  },
  {
   "cell_type": "code",
   "execution_count": null,
   "id": "2c5152c3",
   "metadata": {},
   "outputs": [],
   "source": []
  },
  {
   "cell_type": "markdown",
   "id": "8e4f2758",
   "metadata": {},
   "source": [
    "# Outlier Detection and Treatement"
   ]
  },
  {
   "cell_type": "code",
   "execution_count": null,
   "id": "13487681",
   "metadata": {},
   "outputs": [],
   "source": []
  },
  {
   "cell_type": "code",
   "execution_count": 9,
   "id": "bfc8f97b",
   "metadata": {},
   "outputs": [
    {
     "data": {
      "image/png": "[encoded data removed]",
      "text/plain": [
       "<Figure size 1152x648 with 1 Axes>"
      ]
     },
     "metadata": {
      "needs_background": "light"
     },
     "output_type": "display_data"
    }
   ],
   "source": [
    "plt.figure(figsize=(16,9))\n",
    "\n",
    "sns.boxplot(x=data1[\"work_year\"],y=data1[\"salary\"],hue=data1[\"company_size\"])\n",
    "\n",
    "plt.xlabel(\"work_year\")\n",
    "\n",
    "plt.ylabel(\"salary\")\n",
    "\n",
    "plt.title(\"work_year V/S salary\")\n",
    "\n",
    "plt.show()"
   ]
  },
  {
   "cell_type": "code",
   "execution_count": null,
   "id": "4a100be5",
   "metadata": {},
   "outputs": [],
   "source": []
  },
  {
   "cell_type": "code",
   "execution_count": 10,
   "id": "1cacede9",
   "metadata": {},
   "outputs": [
    {
     "data": {
      "text/plain": [
       "(565, 11)"
      ]
     },
     "execution_count": 10,
     "metadata": {},
     "output_type": "execute_result"
    }
   ],
   "source": [
    "data1=data1[(data1[\"salary\"]<=350000)]\n",
    "\n",
    "data1.shape"
   ]
  },
  {
   "cell_type": "code",
   "execution_count": null,
   "id": "bb40a804",
   "metadata": {},
   "outputs": [],
   "source": []
  },
  {
   "cell_type": "code",
   "execution_count": 11,
   "id": "8953105c",
   "metadata": {},
   "outputs": [
    {
     "data": {
      "image/png": "[encoded data removed]",
      "text/plain": [
       "<Figure size 1152x648 with 1 Axes>"
      ]
     },
     "metadata": {
      "needs_background": "light"
     },
     "output_type": "display_data"
    }
   ],
   "source": [
    "plt.figure(figsize=(16,9))\n",
    "\n",
    "sns.boxplot(x=data1[\"work_year\"],y=data1[\"salary\"],hue=data1[\"company_size\"])\n",
    "\n",
    "plt.xlabel(\"work_year\")\n",
    "\n",
    "plt.ylabel(\"salary\")\n",
    "\n",
    "plt.title(\"work_year V/S salary(Treated)\")\n",
    "\n",
    "plt.show()"
   ]
  },
  {
   "cell_type": "code",
   "execution_count": null,
   "id": "2407f1d9",
   "metadata": {},
   "outputs": [],
   "source": []
  },
  {
   "cell_type": "code",
   "execution_count": 12,
   "id": "eae48a76",
   "metadata": {},
   "outputs": [
    {
     "data": {
      "image/png": "[encoded data removed]",
      "text/plain": [
       "<Figure size 1152x648 with 1 Axes>"
      ]
     },
     "metadata": {
      "needs_background": "light"
     },
     "output_type": "display_data"
    }
   ],
   "source": [
    "plt.figure(figsize=(16,9))\n",
    "\n",
    "sns.boxplot(x=data1[\"work_year\"],y=data1[\"salary_in_usd\"],hue=data1[\"company_size\"])\n",
    "\n",
    "plt.xlabel(\"work_year\")\n",
    "\n",
    "plt.ylabel(\"salary_in_usd\")\n",
    "\n",
    "plt.title(\"work_year V/S salary_in_usd\")\n",
    "\n",
    "plt.show()"
   ]
  },
  {
   "cell_type": "code",
   "execution_count": null,
   "id": "11a58013",
   "metadata": {},
   "outputs": [],
   "source": []
  },
  {
   "cell_type": "code",
   "execution_count": 13,
   "id": "84596a1e",
   "metadata": {},
   "outputs": [
    {
     "data": {
      "text/plain": [
       "(563, 11)"
      ]
     },
     "execution_count": 13,
     "metadata": {},
     "output_type": "execute_result"
    }
   ],
   "source": [
    "data1=data1[(data1[\"salary\"]<=350000)&(data1[\"salary_in_usd\"]<280000)]\n",
    "\n",
    "data1.shape"
   ]
  },
  {
   "cell_type": "code",
   "execution_count": null,
   "id": "69cccfe4",
   "metadata": {},
   "outputs": [],
   "source": []
  },
  {
   "cell_type": "code",
   "execution_count": 14,
   "id": "d5374629",
   "metadata": {},
   "outputs": [
    {
     "data": {
      "image/png": "[encoded data removed]",
      "text/plain": [
       "<Figure size 1152x648 with 1 Axes>"
      ]
     },
     "metadata": {
      "needs_background": "light"
     },
     "output_type": "display_data"
    }
   ],
   "source": [
    "plt.figure(figsize=(16,9))\n",
    "\n",
    "sns.boxplot(x=data1[\"work_year\"],y=data1[\"salary_in_usd\"],hue=data1[\"company_size\"])\n",
    "\n",
    "plt.xlabel(\"work_year\")\n",
    "\n",
    "plt.ylabel(\"salary_in_usd\")\n",
    "\n",
    "plt.title(\"work_year V/S salary_in_usd(Treated)\")\n",
    "\n",
    "plt.show()"
   ]
  },
  {
   "cell_type": "code",
   "execution_count": null,
   "id": "43e25c80",
   "metadata": {},
   "outputs": [],
   "source": []
  },
  {
   "cell_type": "code",
   "execution_count": 15,
   "id": "6b1d20e5",
   "metadata": {},
   "outputs": [
    {
     "data": {
      "image/png": "[encoded data removed]",
      "text/plain": [
       "<Figure size 1152x648 with 1 Axes>"
      ]
     },
     "metadata": {
      "needs_background": "light"
     },
     "output_type": "display_data"
    }
   ],
   "source": [
    "plt.figure(figsize=(16,9))\n",
    "\n",
    "sns.boxplot(x=data1[\"work_year\"],y=data1[\"remote_ratio\"],hue=data1[\"company_size\"])\n",
    "\n",
    "plt.xlabel(\"work_year\")\n",
    "\n",
    "plt.ylabel(\"salary\")\n",
    "\n",
    "plt.title(\"work_year V/S salary\")\n",
    "\n",
    "plt.show()"
   ]
  },
  {
   "cell_type": "code",
   "execution_count": null,
   "id": "7deb0dbd",
   "metadata": {},
   "outputs": [],
   "source": []
  },
  {
   "cell_type": "markdown",
   "id": "8863f51e",
   "metadata": {},
   "source": [
    "# Outlier Treatement Results"
   ]
  },
  {
   "cell_type": "code",
   "execution_count": null,
   "id": "8b0db959",
   "metadata": {},
   "outputs": [],
   "source": []
  },
  {
   "cell_type": "code",
   "execution_count": 16,
   "id": "e737a913",
   "metadata": {},
   "outputs": [
    {
     "name": "stdout",
     "output_type": "stream",
     "text": [
      "Number of original records: 607\n",
      "Number of original records: 563\n",
      "Loss of records: 44\n",
      "%records lost:  0.07 %\n",
      "%records saved:  0.93 %\n"
     ]
    }
   ],
   "source": [
    "print(\"Number of original records: 607\")\n",
    "print(\"Number of original records: 563\")\n",
    "print(\"Loss of records: 44\")\n",
    "print(\"%records lost: \",round((44/607),2),\"%\")\n",
    "print(\"%records saved: \",round((563/607),2),\"%\")\n"
   ]
  },
  {
   "cell_type": "code",
   "execution_count": null,
   "id": "36edb48b",
   "metadata": {},
   "outputs": [],
   "source": []
  },
  {
   "cell_type": "raw",
   "id": "ac8a0d88",
   "metadata": {},
   "source": [
    "After outlier Treratement 93% of data is preserved. outlier Treratement done successfully"
   ]
  },
  {
   "cell_type": "code",
   "execution_count": null,
   "id": "ed42cb9c",
   "metadata": {},
   "outputs": [],
   "source": []
  },
  {
   "cell_type": "code",
   "execution_count": null,
   "id": "3a8efc7c",
   "metadata": {},
   "outputs": [],
   "source": []
  },
  {
   "cell_type": "markdown",
   "id": "450808c1",
   "metadata": {},
   "source": [
    "# Data Mining"
   ]
  },
  {
   "cell_type": "code",
   "execution_count": null,
   "id": "36c50c0e",
   "metadata": {},
   "outputs": [],
   "source": []
  },
  {
   "cell_type": "markdown",
   "id": "40041c89",
   "metadata": {},
   "source": [
    "# Univariate Analysis"
   ]
  },
  {
   "cell_type": "code",
   "execution_count": null,
   "id": "f48a9f28",
   "metadata": {},
   "outputs": [],
   "source": []
  },
  {
   "cell_type": "code",
   "execution_count": 17,
   "id": "522f3564",
   "metadata": {},
   "outputs": [
    {
     "data": {
      "image/png": "[encoded data removed]",
      "text/plain": [
       "<Figure size 432x288 with 1 Axes>"
      ]
     },
     "metadata": {
      "needs_background": "light"
     },
     "output_type": "display_data"
    }
   ],
   "source": [
    "x=data1[\"work_year\"].unique()\n",
    "y=[val for val in data1[\"work_year\"].value_counts()]\n",
    "\n",
    "plt.bar(x,y)\n",
    "\n",
    "plt.show()"
   ]
  },
  {
   "cell_type": "code",
   "execution_count": null,
   "id": "65480069",
   "metadata": {},
   "outputs": [],
   "source": []
  },
  {
   "cell_type": "raw",
   "id": "32374d39",
   "metadata": {},
   "source": [
    "The data is about recently paid salaries(In year 2020-2022)\n",
    "\n",
    "Maximum amount of Salaries were Paid in the year 2020(close to 300)\n",
    "\n",
    "Close to 180 salaries  were paid in 2021\n",
    "\n",
    "Very few salaries were paid in the year 2022(close to 50)"
   ]
  },
  {
   "cell_type": "code",
   "execution_count": null,
   "id": "2ee8e165",
   "metadata": {},
   "outputs": [],
   "source": []
  },
  {
   "cell_type": "code",
   "execution_count": 18,
   "id": "35dfba4c",
   "metadata": {},
   "outputs": [
    {
     "data": {
      "image/png": "[encoded data removed]",
      "text/plain": [
       "<Figure size 432x288 with 1 Axes>"
      ]
     },
     "metadata": {
      "needs_background": "light"
     },
     "output_type": "display_data"
    }
   ],
   "source": [
    "x=data1[\"experience_level\"].unique()\n",
    "y=[val for val in data1[\"experience_level\"].value_counts()]\n",
    "\n",
    "plt.bar(x,y)\n",
    "\n",
    "plt.show()"
   ]
  },
  {
   "cell_type": "code",
   "execution_count": null,
   "id": "61274b4f",
   "metadata": {},
   "outputs": [],
   "source": []
  },
  {
   "cell_type": "raw",
   "id": "67e4b344",
   "metadata": {},
   "source": [
    "Most of the experience level in jobs are mid-level juniors and intermediate senior level\n",
    "Some jobs are of Entry level experience \n",
    "There are very few jobs for Executive/Director level "
   ]
  },
  {
   "cell_type": "code",
   "execution_count": null,
   "id": "fe0e8548",
   "metadata": {},
   "outputs": [],
   "source": []
  },
  {
   "cell_type": "code",
   "execution_count": 19,
   "id": "2be6f11b",
   "metadata": {},
   "outputs": [
    {
     "data": {
      "image/png": "[encoded data removed]",
      "text/plain": [
       "<Figure size 432x288 with 1 Axes>"
      ]
     },
     "metadata": {
      "needs_background": "light"
     },
     "output_type": "display_data"
    }
   ],
   "source": [
    "x=data1[\"employment_type\"].unique()\n",
    "y=[val for val in data1[\"employment_type\"].value_counts()]\n",
    "\n",
    "plt.bar(x,y)\n",
    "\n",
    "plt.show()"
   ]
  },
  {
   "cell_type": "code",
   "execution_count": null,
   "id": "0591a3fa",
   "metadata": {},
   "outputs": [],
   "source": []
  },
  {
   "cell_type": "raw",
   "id": "ea261b1f",
   "metadata": {},
   "source": [
    "Almost all jobs are Full Time\n",
    "Very less job profiles on Part-Time,Contract and Freelance Basis "
   ]
  },
  {
   "cell_type": "code",
   "execution_count": null,
   "id": "3df299d8",
   "metadata": {},
   "outputs": [],
   "source": []
  },
  {
   "cell_type": "code",
   "execution_count": 20,
   "id": "9b7b0b56",
   "metadata": {},
   "outputs": [
    {
     "data": {
      "text/plain": [
       "Data Scientist                131\n",
       "Data Engineer                 127\n",
       "Data Analyst                   96\n",
       "Machine Learning Engineer      39\n",
       "Research Scientist             15\n",
       "Data Architect                 11\n",
       "Data Science Manager           10\n",
       "Machine Learning Scientist      8\n",
       "Data Analytics Manager          7\n",
       "Lead Data Engineer              6\n",
       "Director of Data Science        6\n",
       "Name: job_title, dtype: int64"
      ]
     },
     "execution_count": 20,
     "metadata": {},
     "output_type": "execute_result"
    }
   ],
   "source": [
    "data1[\"job_title\"].value_counts().nlargest(11)"
   ]
  },
  {
   "cell_type": "code",
   "execution_count": null,
   "id": "4ce3d994",
   "metadata": {},
   "outputs": [],
   "source": []
  },
  {
   "cell_type": "raw",
   "id": "2f08f2a0",
   "metadata": {},
   "source": [
    "Top 10 most frequent job titles in decreasing order are:\n",
    "\n",
    "1) Data Scientist\n",
    "\n",
    "2) Data Engineer\n",
    "\n",
    "3) Data Analyst\n",
    "\n",
    "4) Machine Learning Engineer\n",
    "\n",
    "5) Research Scientist \n",
    "\n",
    "6) Data Architect \n",
    "\n",
    "7) Data Science Manager\n",
    "\n",
    "8) Data Analytics Manager\n",
    "\n",
    "9) Lead Data Engineer \n",
    "\n",
    "10) Director of Data Science \n"
   ]
  },
  {
   "cell_type": "code",
   "execution_count": null,
   "id": "ff03a5f5",
   "metadata": {},
   "outputs": [],
   "source": []
  },
  {
   "cell_type": "code",
   "execution_count": 21,
   "id": "5f75e9ff",
   "metadata": {},
   "outputs": [
    {
     "data": {
      "text/plain": [
       "US    322\n",
       "GB     44\n",
       "CA     29\n",
       "DE     25\n",
       "FR     18\n",
       "ES     15\n",
       "GR     13\n",
       "BR      6\n",
       "PK      6\n",
       "PT      6\n",
       "NL      5\n",
       "Name: employee_residence, dtype: int64"
      ]
     },
     "execution_count": 21,
     "metadata": {},
     "output_type": "execute_result"
    }
   ],
   "source": [
    "data1[\"employee_residence\"].value_counts().nlargest(11)"
   ]
  },
  {
   "cell_type": "code",
   "execution_count": null,
   "id": "2645e359",
   "metadata": {},
   "outputs": [],
   "source": []
  },
  {
   "cell_type": "raw",
   "id": "773ab6a9",
   "metadata": {},
   "source": [
    "Top 10 countries w.r.t employee's primary residence during work year\n",
    "\n",
    "1) USA\n",
    "2) UK\n",
    "3) Canada\n",
    "4) Germany\n",
    "5) France\n",
    "6) Spain\n",
    "7) Greece\n",
    "8) Brazil\n",
    "9) Portugal\n",
    "10) Netherlands"
   ]
  },
  {
   "cell_type": "code",
   "execution_count": null,
   "id": "0a9f53bf",
   "metadata": {},
   "outputs": [],
   "source": []
  },
  {
   "cell_type": "code",
   "execution_count": 22,
   "id": "d613c573",
   "metadata": {},
   "outputs": [
    {
     "data": {
      "text/plain": [
       "US    342\n",
       "GB     47\n",
       "CA     30\n",
       "DE     28\n",
       "FR     15\n",
       "ES     14\n",
       "GR     11\n",
       "PL      4\n",
       "NL      4\n",
       "AT      4\n",
       "PT      4\n",
       "Name: company_location, dtype: int64"
      ]
     },
     "execution_count": 22,
     "metadata": {},
     "output_type": "execute_result"
    }
   ],
   "source": [
    "data1[\"company_location\"].value_counts().nlargest(11)"
   ]
  },
  {
   "cell_type": "code",
   "execution_count": null,
   "id": "64f165c3",
   "metadata": {},
   "outputs": [],
   "source": []
  },
  {
   "cell_type": "raw",
   "id": "490413ee",
   "metadata": {},
   "source": [
    "Top 10 countries w.r.t employer's main office or contracting branch\n",
    "\n",
    "1) USA\n",
    "2) UK\n",
    "3) Canada\n",
    "4) Germany\n",
    "5) France\n",
    "6) Spain\n",
    "7) Greece\n",
    "8) Brazil\n",
    "9) Poland\n",
    "10)Netherlands "
   ]
  },
  {
   "cell_type": "code",
   "execution_count": null,
   "id": "5dddb040",
   "metadata": {},
   "outputs": [],
   "source": []
  },
  {
   "cell_type": "code",
   "execution_count": 23,
   "id": "00bcf983",
   "metadata": {},
   "outputs": [
    {
     "data": {
      "image/png": "[encoded data removed]",
      "text/plain": [
       "<Figure size 432x288 with 1 Axes>"
      ]
     },
     "metadata": {
      "needs_background": "light"
     },
     "output_type": "display_data"
    }
   ],
   "source": [
    "x=data1[\"salary_currency\"].unique()\n",
    "y=[val for val in data1[\"salary_currency\"].value_counts()]\n",
    "\n",
    "plt.bar(x,y)\n",
    "\n",
    "plt.show()"
   ]
  },
  {
   "cell_type": "code",
   "execution_count": null,
   "id": "34de7753",
   "metadata": {},
   "outputs": [],
   "source": []
  },
  {
   "cell_type": "raw",
   "id": "631deab6",
   "metadata": {},
   "source": [
    "Most of the salaries are paid in Euros(close to 400)\n",
    "Some are paid in USD(Close to 100) and Pounds(Close to 50)\n",
    "Very few jobs have their salaries paid in Yuan,Canadian Dollar,Danish Krone, Chilean Peso etc."
   ]
  },
  {
   "cell_type": "code",
   "execution_count": null,
   "id": "3651ffba",
   "metadata": {},
   "outputs": [],
   "source": []
  },
  {
   "cell_type": "code",
   "execution_count": 24,
   "id": "febe9499",
   "metadata": {},
   "outputs": [
    {
     "data": {
      "image/png": "[encoded data removed]",
      "text/plain": [
       "<Figure size 432x288 with 1 Axes>"
      ]
     },
     "metadata": {
      "needs_background": "light"
     },
     "output_type": "display_data"
    }
   ],
   "source": [
    "x=data1[\"remote_ratio\"].unique()\n",
    "y=[val for val in data1[\"remote_ratio\"].value_counts()]\n",
    "\n",
    "plt.bar(x,y)\n",
    "\n",
    "plt.show()"
   ]
  },
  {
   "cell_type": "code",
   "execution_count": null,
   "id": "96800265",
   "metadata": {},
   "outputs": [],
   "source": []
  },
  {
   "cell_type": "raw",
   "id": "8c7339d4",
   "metadata": {},
   "source": [
    "Maximum amount of jobs have 0% remote work(Around 350)\n",
    "Around 125 jobs have 50% remote work\n",
    "And around 80 jobs have 100% remote work"
   ]
  },
  {
   "cell_type": "code",
   "execution_count": null,
   "id": "d30aaf00",
   "metadata": {},
   "outputs": [],
   "source": []
  },
  {
   "cell_type": "code",
   "execution_count": 25,
   "id": "f4c9cba1",
   "metadata": {},
   "outputs": [
    {
     "data": {
      "image/png": "[encoded data removed]",
      "text/plain": [
       "<Figure size 432x288 with 1 Axes>"
      ]
     },
     "metadata": {
      "needs_background": "light"
     },
     "output_type": "display_data"
    }
   ],
   "source": [
    "x=data1[\"company_size\"].unique()\n",
    "y=[val for val in data1[\"company_size\"].value_counts()]\n",
    "\n",
    "plt.bar(x,y)\n",
    "\n",
    "plt.show()"
   ]
  },
  {
   "cell_type": "code",
   "execution_count": null,
   "id": "c440fb4b",
   "metadata": {},
   "outputs": [],
   "source": []
  },
  {
   "cell_type": "raw",
   "id": "c3ffc15b",
   "metadata": {},
   "source": [
    "Maximum amount of companies(approx 300) are large companies with more than 250 employees \n",
    "Close to 150 companies are Small companies with less than 50 employees \n",
    "Close to 50 companies are medium companies with more 50 to 250 employees "
   ]
  },
  {
   "cell_type": "code",
   "execution_count": null,
   "id": "c252908e",
   "metadata": {},
   "outputs": [],
   "source": []
  },
  {
   "cell_type": "code",
   "execution_count": 26,
   "id": "6de7c51f",
   "metadata": {},
   "outputs": [
    {
     "data": {
      "text/html": [
       "<div>\n",
       "<style scoped>\n",
       "    .dataframe tbody tr th:only-of-type {\n",
       "        vertical-align: middle;\n",
       "    }\n",
       "\n",
       "    .dataframe tbody tr th {\n",
       "        vertical-align: top;\n",
       "    }\n",
       "\n",
       "    .dataframe thead th {\n",
       "        text-align: right;\n",
       "    }\n",
       "</style>\n",
       "<table border=\"1\" class=\"dataframe\">\n",
       "  <thead>\n",
       "    <tr style=\"text-align: right;\">\n",
       "      <th></th>\n",
       "      <th>work_year</th>\n",
       "      <th>experience_level</th>\n",
       "      <th>employment_type</th>\n",
       "      <th>job_title</th>\n",
       "      <th>salary</th>\n",
       "      <th>salary_currency</th>\n",
       "      <th>salary_in_usd</th>\n",
       "      <th>employee_residence</th>\n",
       "      <th>remote_ratio</th>\n",
       "      <th>company_location</th>\n",
       "      <th>company_size</th>\n",
       "    </tr>\n",
       "  </thead>\n",
       "  <tbody>\n",
       "    <tr>\n",
       "      <th>0</th>\n",
       "      <td>2020</td>\n",
       "      <td>MI</td>\n",
       "      <td>FT</td>\n",
       "      <td>Data Scientist</td>\n",
       "      <td>70000</td>\n",
       "      <td>EUR</td>\n",
       "      <td>79833</td>\n",
       "      <td>DE</td>\n",
       "      <td>0</td>\n",
       "      <td>DE</td>\n",
       "      <td>L</td>\n",
       "    </tr>\n",
       "    <tr>\n",
       "      <th>1</th>\n",
       "      <td>2020</td>\n",
       "      <td>SE</td>\n",
       "      <td>FT</td>\n",
       "      <td>Machine Learning Scientist</td>\n",
       "      <td>260000</td>\n",
       "      <td>USD</td>\n",
       "      <td>260000</td>\n",
       "      <td>JP</td>\n",
       "      <td>0</td>\n",
       "      <td>JP</td>\n",
       "      <td>S</td>\n",
       "    </tr>\n",
       "    <tr>\n",
       "      <th>2</th>\n",
       "      <td>2020</td>\n",
       "      <td>SE</td>\n",
       "      <td>FT</td>\n",
       "      <td>Big Data Engineer</td>\n",
       "      <td>85000</td>\n",
       "      <td>GBP</td>\n",
       "      <td>109024</td>\n",
       "      <td>GB</td>\n",
       "      <td>50</td>\n",
       "      <td>GB</td>\n",
       "      <td>M</td>\n",
       "    </tr>\n",
       "    <tr>\n",
       "      <th>3</th>\n",
       "      <td>2020</td>\n",
       "      <td>MI</td>\n",
       "      <td>FT</td>\n",
       "      <td>Product Data Analyst</td>\n",
       "      <td>20000</td>\n",
       "      <td>USD</td>\n",
       "      <td>20000</td>\n",
       "      <td>HN</td>\n",
       "      <td>0</td>\n",
       "      <td>HN</td>\n",
       "      <td>S</td>\n",
       "    </tr>\n",
       "    <tr>\n",
       "      <th>4</th>\n",
       "      <td>2020</td>\n",
       "      <td>SE</td>\n",
       "      <td>FT</td>\n",
       "      <td>Machine Learning Engineer</td>\n",
       "      <td>150000</td>\n",
       "      <td>USD</td>\n",
       "      <td>150000</td>\n",
       "      <td>US</td>\n",
       "      <td>50</td>\n",
       "      <td>US</td>\n",
       "      <td>L</td>\n",
       "    </tr>\n",
       "    <tr>\n",
       "      <th>...</th>\n",
       "      <td>...</td>\n",
       "      <td>...</td>\n",
       "      <td>...</td>\n",
       "      <td>...</td>\n",
       "      <td>...</td>\n",
       "      <td>...</td>\n",
       "      <td>...</td>\n",
       "      <td>...</td>\n",
       "      <td>...</td>\n",
       "      <td>...</td>\n",
       "      <td>...</td>\n",
       "    </tr>\n",
       "    <tr>\n",
       "      <th>602</th>\n",
       "      <td>2022</td>\n",
       "      <td>SE</td>\n",
       "      <td>FT</td>\n",
       "      <td>Data Engineer</td>\n",
       "      <td>154000</td>\n",
       "      <td>USD</td>\n",
       "      <td>154000</td>\n",
       "      <td>US</td>\n",
       "      <td>100</td>\n",
       "      <td>US</td>\n",
       "      <td>M</td>\n",
       "    </tr>\n",
       "    <tr>\n",
       "      <th>603</th>\n",
       "      <td>2022</td>\n",
       "      <td>SE</td>\n",
       "      <td>FT</td>\n",
       "      <td>Data Engineer</td>\n",
       "      <td>126000</td>\n",
       "      <td>USD</td>\n",
       "      <td>126000</td>\n",
       "      <td>US</td>\n",
       "      <td>100</td>\n",
       "      <td>US</td>\n",
       "      <td>M</td>\n",
       "    </tr>\n",
       "    <tr>\n",
       "      <th>604</th>\n",
       "      <td>2022</td>\n",
       "      <td>SE</td>\n",
       "      <td>FT</td>\n",
       "      <td>Data Analyst</td>\n",
       "      <td>129000</td>\n",
       "      <td>USD</td>\n",
       "      <td>129000</td>\n",
       "      <td>US</td>\n",
       "      <td>0</td>\n",
       "      <td>US</td>\n",
       "      <td>M</td>\n",
       "    </tr>\n",
       "    <tr>\n",
       "      <th>605</th>\n",
       "      <td>2022</td>\n",
       "      <td>SE</td>\n",
       "      <td>FT</td>\n",
       "      <td>Data Analyst</td>\n",
       "      <td>150000</td>\n",
       "      <td>USD</td>\n",
       "      <td>150000</td>\n",
       "      <td>US</td>\n",
       "      <td>100</td>\n",
       "      <td>US</td>\n",
       "      <td>M</td>\n",
       "    </tr>\n",
       "    <tr>\n",
       "      <th>606</th>\n",
       "      <td>2022</td>\n",
       "      <td>MI</td>\n",
       "      <td>FT</td>\n",
       "      <td>AI Scientist</td>\n",
       "      <td>200000</td>\n",
       "      <td>USD</td>\n",
       "      <td>200000</td>\n",
       "      <td>IN</td>\n",
       "      <td>100</td>\n",
       "      <td>US</td>\n",
       "      <td>L</td>\n",
       "    </tr>\n",
       "  </tbody>\n",
       "</table>\n",
       "<p>563 rows × 11 columns</p>\n",
       "</div>"
      ],
      "text/plain": [
       "     work_year experience_level employment_type                   job_title  \\\n",
       "0         2020               MI              FT              Data Scientist   \n",
       "1         2020               SE              FT  Machine Learning Scientist   \n",
       "2         2020               SE              FT           Big Data Engineer   \n",
       "3         2020               MI              FT        Product Data Analyst   \n",
       "4         2020               SE              FT   Machine Learning Engineer   \n",
       "..         ...              ...             ...                         ...   \n",
       "602       2022               SE              FT               Data Engineer   \n",
       "603       2022               SE              FT               Data Engineer   \n",
       "604       2022               SE              FT                Data Analyst   \n",
       "605       2022               SE              FT                Data Analyst   \n",
       "606       2022               MI              FT                AI Scientist   \n",
       "\n",
       "     salary salary_currency  salary_in_usd employee_residence  remote_ratio  \\\n",
       "0     70000             EUR          79833                 DE             0   \n",
       "1    260000             USD         260000                 JP             0   \n",
       "2     85000             GBP         109024                 GB            50   \n",
       "3     20000             USD          20000                 HN             0   \n",
       "4    150000             USD         150000                 US            50   \n",
       "..      ...             ...            ...                ...           ...   \n",
       "602  154000             USD         154000                 US           100   \n",
       "603  126000             USD         126000                 US           100   \n",
       "604  129000             USD         129000                 US             0   \n",
       "605  150000             USD         150000                 US           100   \n",
       "606  200000             USD         200000                 IN           100   \n",
       "\n",
       "    company_location company_size  \n",
       "0                 DE            L  \n",
       "1                 JP            S  \n",
       "2                 GB            M  \n",
       "3                 HN            S  \n",
       "4                 US            L  \n",
       "..               ...          ...  \n",
       "602               US            M  \n",
       "603               US            M  \n",
       "604               US            M  \n",
       "605               US            M  \n",
       "606               US            L  \n",
       "\n",
       "[563 rows x 11 columns]"
      ]
     },
     "execution_count": 26,
     "metadata": {},
     "output_type": "execute_result"
    }
   ],
   "source": [
    "data1"
   ]
  },
  {
   "cell_type": "code",
   "execution_count": null,
   "id": "7e93c2ca",
   "metadata": {},
   "outputs": [],
   "source": []
  },
  {
   "cell_type": "markdown",
   "id": "e98aa1e6",
   "metadata": {},
   "source": [
    "# Bivariate Analysis"
   ]
  },
  {
   "cell_type": "code",
   "execution_count": null,
   "id": "c7c2f278",
   "metadata": {},
   "outputs": [],
   "source": []
  },
  {
   "cell_type": "code",
   "execution_count": 27,
   "id": "8809f95f",
   "metadata": {},
   "outputs": [
    {
     "data": {
      "image/png": "[encoded data removed]",
      "text/plain": [
       "<Figure size 432x288 with 1 Axes>"
      ]
     },
     "metadata": {
      "needs_background": "light"
     },
     "output_type": "display_data"
    }
   ],
   "source": [
    "sns.barplot(x=\"work_year\",y=\"salary\",data=data,hue=\"company_size\")\n",
    "\n",
    "plt.xlabel(\"work_year\")\n",
    "\n",
    "plt.ylabel(\"salary\")\n",
    "\n",
    "plt.title(\"work_year V/S salary\")\n",
    "\n",
    "\n",
    "plt.show()"
   ]
  },
  {
   "cell_type": "code",
   "execution_count": null,
   "id": "983989e7",
   "metadata": {},
   "outputs": [],
   "source": []
  },
  {
   "cell_type": "raw",
   "id": "8a2e3441",
   "metadata": {},
   "source": [
    "Maximum amount of salaries is offered by Large companies. The highest salaries were paid by the companies in 2021 and lowest in 2022, ranging from 400,000 to 800,000\n",
    "\n",
    "Medium companies paid highest salaries in 2021 . In 2020-2022 salary ranges from 100,000 to 500,000\n",
    "\n",
    "Small companies also paid the highest salaries in 2021 . In 2020-2022 salary ranges from 100,000 to 200,000"
   ]
  },
  {
   "cell_type": "code",
   "execution_count": null,
   "id": "8b974e87",
   "metadata": {},
   "outputs": [],
   "source": []
  },
  {
   "cell_type": "code",
   "execution_count": 28,
   "id": "860c52a4",
   "metadata": {},
   "outputs": [
    {
     "data": {
      "image/png": "[encoded data removed]",
      "text/plain": [
       "<Figure size 432x288 with 1 Axes>"
      ]
     },
     "metadata": {
      "needs_background": "light"
     },
     "output_type": "display_data"
    }
   ],
   "source": [
    "sns.barplot(x=\"work_year\",y=\"salary_in_usd\",data=data,hue=\"company_size\")\n",
    "\n",
    "plt.xlabel(\"work_year\")\n",
    "\n",
    "plt.ylabel(\"salary_in_usd\")\n",
    "\n",
    "plt.title(\"work_year V/S salary_in_usd\")\n",
    "\n",
    "\n",
    "plt.show()"
   ]
  },
  {
   "cell_type": "code",
   "execution_count": null,
   "id": "261e68ed",
   "metadata": {},
   "outputs": [],
   "source": []
  },
  {
   "cell_type": "raw",
   "id": "907e3d27",
   "metadata": {},
   "source": [
    "In year 2020 Medium - sized companies paid the highest salary in usd\n",
    "\n",
    "In years 2021-2022 and Large size companies paid the highest salary in usd\n",
    "\n",
    "In year 2020 salaries paid are by all 3 companies:\n",
    "    \n",
    "L: $100,000\n",
    "S: Little less than $75,000\n",
    "M: close to $112,500\n",
    "\n",
    "In year 2021 salaries paid are by all 3 companies:\n",
    "    \n",
    "L: Little less than $135,500\n",
    "S: Litte more than $75,000\n",
    "M: close to $112,500\n",
    "\n",
    "In year 2020 salaries paid are by all 3 companies:\n",
    "    \n",
    "L: Little less than $150,500\n",
    "S: Little less than $75,000\n",
    "M: close to $112,500    "
   ]
  },
  {
   "cell_type": "code",
   "execution_count": null,
   "id": "37dddcd0",
   "metadata": {},
   "outputs": [],
   "source": []
  },
  {
   "cell_type": "code",
   "execution_count": 29,
   "id": "5a8661df",
   "metadata": {},
   "outputs": [
    {
     "data": {
      "image/png": "[encoded data removed]",
      "text/plain": [
       "<Figure size 432x288 with 1 Axes>"
      ]
     },
     "metadata": {
      "needs_background": "light"
     },
     "output_type": "display_data"
    }
   ],
   "source": [
    "sns.barplot(x=\"work_year\",y=\"remote_ratio\",data=data,hue=\"company_size\")\n",
    "\n",
    "plt.xlabel(\"work_year\")\n",
    "\n",
    "plt.ylabel(\"remote_ratio\")\n",
    "\n",
    "plt.title(\"work_year V/S remote_ratio\")\n",
    "\n",
    "\n",
    "plt.show()"
   ]
  },
  {
   "cell_type": "code",
   "execution_count": null,
   "id": "b0cacd41",
   "metadata": {},
   "outputs": [],
   "source": []
  },
  {
   "cell_type": "raw",
   "id": "21085474",
   "metadata": {},
   "source": [
    "About 70% of remote work is done  in  large companies in all 3 years\n",
    "Approx. 60% to 80% of remote work is done  in  Small companies in all 3 years , increased with time\n",
    "Approx. 60% to 75% of remote work is done  in  Medium companies in all 3 years "
   ]
  },
  {
   "cell_type": "code",
   "execution_count": null,
   "id": "8ebc3464",
   "metadata": {},
   "outputs": [],
   "source": []
  },
  {
   "cell_type": "code",
   "execution_count": 30,
   "id": "d40cae70",
   "metadata": {},
   "outputs": [
    {
     "data": {
      "image/png": "[encoded data removed]",
      "text/plain": [
       "<Figure size 432x288 with 1 Axes>"
      ]
     },
     "metadata": {
      "needs_background": "light"
     },
     "output_type": "display_data"
    }
   ],
   "source": [
    "sns.barplot(x=\"experience_level\",y=\"salary\",data=data,hue=\"company_size\")\n",
    "\n",
    "plt.xlabel(\"experience_level\")\n",
    "\n",
    "plt.ylabel(\"salary\")\n",
    "\n",
    "plt.title(\"experience_level V/S salary\")\n",
    "\n",
    "\n",
    "plt.show()"
   ]
  },
  {
   "cell_type": "code",
   "execution_count": null,
   "id": "8f316f99",
   "metadata": {},
   "outputs": [],
   "source": []
  },
  {
   "cell_type": "raw",
   "id": "79110fa7",
   "metadata": {},
   "source": [
    "Salaries for Entry level employees is the least in large companies\n",
    "Overall highest amount salaries are paid by Large companies and lowest by medium companies\n",
    "Medium and small companies are at par and pay less salaries to Expert and Senior level employees\n",
    "There is very less difference between salaries of Large and small companies for mid-level employees\n",
    "There is very less difference between salaries of mid-level and expert level employees in Large companies"
   ]
  },
  {
   "cell_type": "code",
   "execution_count": null,
   "id": "7f03aef5",
   "metadata": {},
   "outputs": [],
   "source": []
  },
  {
   "cell_type": "code",
   "execution_count": 31,
   "id": "82a986f4",
   "metadata": {},
   "outputs": [
    {
     "data": {
      "image/png": "[encoded data removed]",
      "text/plain": [
       "<Figure size 432x288 with 1 Axes>"
      ]
     },
     "metadata": {
      "needs_background": "light"
     },
     "output_type": "display_data"
    }
   ],
   "source": [
    "sns.barplot(x=\"experience_level\",y=\"salary_in_usd\",data=data,hue=\"company_size\")\n",
    "\n",
    "plt.xlabel(\"experience_level\")\n",
    "\n",
    "plt.ylabel(\"salary_in_usd\")\n",
    "\n",
    "plt.title(\"experience_level V/S salary_in_usd\")\n",
    "\n",
    "\n",
    "plt.show()"
   ]
  },
  {
   "cell_type": "code",
   "execution_count": null,
   "id": "85763ba6",
   "metadata": {},
   "outputs": [],
   "source": []
  },
  {
   "cell_type": "raw",
   "id": "d41bd89d",
   "metadata": {},
   "source": [
    "In USD :\n",
    "\n",
    "Highest salaries is offered to expert level employees and least for entry-level employees in all companies\n",
    "Not much difference between salaries of mid level employees in Medium and Large companies\n",
    "Not much difference between salaries of entry level employees in all companies\n",
    "Small companies offer slightly less salary to mid-level employees as compared to entry level companies\n",
    "Salary of Expert level employees offered by all companies ranges from approx. $200K to $250K\n",
    "Salary of Mid level employees offered by all companies ranges from approx. $50K to $100K\n",
    "Salary of Senior level employees offered by all companies ranges from approx. $100K to $150K\n",
    "Salary of Entry level employees offered by all companies ranges is $50K and less"
   ]
  },
  {
   "cell_type": "code",
   "execution_count": null,
   "id": "14e2045e",
   "metadata": {},
   "outputs": [],
   "source": []
  },
  {
   "cell_type": "code",
   "execution_count": 32,
   "id": "91abfd35",
   "metadata": {},
   "outputs": [
    {
     "data": {
      "image/png": "[encoded data removed]",
      "text/plain": [
       "<Figure size 432x288 with 1 Axes>"
      ]
     },
     "metadata": {
      "needs_background": "light"
     },
     "output_type": "display_data"
    }
   ],
   "source": [
    "sns.barplot(x=\"experience_level\",y=\"remote_ratio\",data=data,hue=\"company_size\")\n",
    "\n",
    "plt.xlabel(\"experience_level\")\n",
    "\n",
    "plt.ylabel(\"remote_ratio\")\n",
    "\n",
    "plt.title(\"experience_level V/S remote_ratio\")\n",
    "\n",
    "\n",
    "plt.show()"
   ]
  },
  {
   "cell_type": "code",
   "execution_count": null,
   "id": "f0743fc2",
   "metadata": {},
   "outputs": [],
   "source": []
  },
  {
   "cell_type": "raw",
   "id": "cb605fd8",
   "metadata": {},
   "source": [
    "All companies have remote_ratio of 60 and above\n",
    "\n",
    "For mid-level employees:\n",
    "    \n",
    "Large companies offer remote_ratio of 70\n",
    "Small and medium  companies offer remote_ratio of close to 60\n",
    "\n",
    "For senior-level employees:\n",
    "    \n",
    "Large companies offer remote_ratio of little more than 60\n",
    "Small companies offer remote_ratio of close to 70\n",
    "Medium companies offer remote_ratio of close to 80\n",
    "\n",
    "For entry-level employees:\n",
    "    \n",
    "Large and medium companies offer remote_ratio of close to 70\n",
    "Small company offer remote_ratio of close to 60\n",
    "\n",
    "\n",
    "For expert-level employees:\n",
    "    \n",
    "Large companies offer remote_ratio of little more than 60\n",
    "Small companies offer 100 remote_ratio \n",
    "Medium companies offer remote_ratio of close to 70"
   ]
  },
  {
   "cell_type": "code",
   "execution_count": null,
   "id": "5472be74",
   "metadata": {},
   "outputs": [],
   "source": []
  },
  {
   "cell_type": "code",
   "execution_count": 33,
   "id": "60d8b596",
   "metadata": {
    "scrolled": true
   },
   "outputs": [
    {
     "data": {
      "text/plain": [
       "Data Scientist                131\n",
       "Data Engineer                 127\n",
       "Data Analyst                   96\n",
       "Machine Learning Engineer      39\n",
       "Research Scientist             15\n",
       "Data Architect                 11\n",
       "Data Science Manager           10\n",
       "Machine Learning Scientist      8\n",
       "Data Analytics Manager          7\n",
       "Lead Data Engineer              6\n",
       "Director of Data Science        6\n",
       "Name: job_title, dtype: int64"
      ]
     },
     "execution_count": 33,
     "metadata": {},
     "output_type": "execute_result"
    }
   ],
   "source": [
    "data1[\"job_title\"].value_counts().nlargest(11)"
   ]
  },
  {
   "cell_type": "code",
   "execution_count": 34,
   "id": "3a0c7f3d",
   "metadata": {},
   "outputs": [
    {
     "data": {
      "image/png": "[encoded data removed]",
      "text/plain": [
       "<Figure size 1800x2160 with 1 Axes>"
      ]
     },
     "metadata": {
      "needs_background": "light"
     },
     "output_type": "display_data"
    }
   ],
   "source": [
    "plt.figure(figsize=(25,30))\n",
    "\n",
    "job_title=[\"Data Scientist\",\"Data Engineer\",\"Data Analyst\",\"Machine Learning Engineer\",\"Research Scientist\",\n",
    "           \"Data Architect\",\"Data Science Manager\",\"Machine Learning Scientist\",\"Data Analytics Manager\",\n",
    "           \"Lead Data Engineer\",\"Director of Data Science\"]\n",
    "\n",
    "mean_sal=[]\n",
    "\n",
    "for jb in job_title:\n",
    "    \n",
    "    msal=round(data1[\"salary\"][(data1[\"job_title\"]==jb)].mean(),2)\n",
    "    \n",
    "    mean_sal.append(msal)\n",
    "\n",
    "#print(mean_sal)    \n",
    "\n",
    "plt.bar(job_title,mean_sal)\n",
    "\n",
    "plt.xlabel(\"Top 10 frequent job titles\")\n",
    "\n",
    "plt.ylabel(\"Mean Salary\")\n",
    "\n",
    "plt.show()"
   ]
  },
  {
   "cell_type": "code",
   "execution_count": null,
   "id": "c769ef2e",
   "metadata": {},
   "outputs": [],
   "source": []
  },
  {
   "cell_type": "raw",
   "id": "ed386c9b",
   "metadata": {},
   "source": [
    "Out top 10 most frequent job_title\n",
    "\n",
    "5 most highly paid job_titles:\n",
    "\n",
    "Data Architect\n",
    "\n",
    "Data Scientist Manager\n",
    "\n",
    "Director of Data Science\n",
    "\n",
    "Machine Learning Engineer\n",
    "\n",
    "Data Analytics Manager"
   ]
  },
  {
   "cell_type": "code",
   "execution_count": null,
   "id": "b95f469b",
   "metadata": {},
   "outputs": [],
   "source": []
  },
  {
   "cell_type": "code",
   "execution_count": 35,
   "id": "14e013e8",
   "metadata": {},
   "outputs": [
    {
     "data": {
      "image/png": "[encoded data removed]",
      "text/plain": [
       "<Figure size 1800x2160 with 1 Axes>"
      ]
     },
     "metadata": {
      "needs_background": "light"
     },
     "output_type": "display_data"
    }
   ],
   "source": [
    "plt.figure(figsize=(25,30))\n",
    "\n",
    "job_title=[\"Data Scientist\",\"Data Engineer\",\"Data Analyst\",\"Machine Learning Engineer\",\"Research Scientist\",\n",
    "           \"Data Architect\",\"Data Science Manager\",\"Machine Learning Scientist\",\"Data Analytics Manager\",\n",
    "           \"Lead Data Engineer\",\"Director of Data Science\"]\n",
    "\n",
    "mean_salinusd=[]\n",
    "\n",
    "for jb in job_title:\n",
    "    \n",
    "    msalinusd=round(data1[\"salary_in_usd\"][(data1[\"job_title\"]==jb)].mean(),2)\n",
    "    \n",
    "    mean_salinusd.append(msalinusd)\n",
    "\n",
    "#print(mean_sal)    \n",
    "\n",
    "plt.bar(job_title,mean_salinusd)\n",
    "\n",
    "plt.xlabel(\"Top 10 frequent job titles\")\n",
    "\n",
    "plt.ylabel(\"Mean Salary in usd\")\n",
    "\n",
    "plt.show()"
   ]
  },
  {
   "cell_type": "code",
   "execution_count": null,
   "id": "ff71e32a",
   "metadata": {},
   "outputs": [],
   "source": []
  },
  {
   "cell_type": "raw",
   "id": "1e754879",
   "metadata": {},
   "source": [
    "Out top 10 most frequent job_title\n",
    "\n",
    "5 most highly paid job_titles in usd:\n",
    "    \n",
    "Data Architect\n",
    "\n",
    "Data Scientist Manager\n",
    "\n",
    "Director of Data Science\n",
    "\n",
    "Machine Learning Engineer\n",
    "\n",
    "Data Analytics Manager"
   ]
  },
  {
   "cell_type": "code",
   "execution_count": null,
   "id": "93f88f0f",
   "metadata": {},
   "outputs": [],
   "source": []
  },
  {
   "cell_type": "code",
   "execution_count": 36,
   "id": "fccc6045",
   "metadata": {},
   "outputs": [
    {
     "data": {
      "image/png": "[encoded data removed]",
      "text/plain": [
       "<Figure size 1800x2160 with 1 Axes>"
      ]
     },
     "metadata": {
      "needs_background": "light"
     },
     "output_type": "display_data"
    }
   ],
   "source": [
    "plt.figure(figsize=(25,30))\n",
    "\n",
    "job_title=[\"Data Scientist\",\"Data Engineer\",\"Data Analyst\",\"Machine Learning Engineer\",\"Research Scientist\",\n",
    "           \"Data Architect\",\"Data Science Manager\",\"Machine Learning Scientist\",\"Data Analytics Manager\",\n",
    "           \"Lead Data Engineer\",\"Director of Data Science\"]\n",
    "\n",
    "mean_remote_ratio=[]\n",
    "\n",
    "for jb in job_title:\n",
    "    \n",
    "    remratio=round(data1[\"remote_ratio\"][(data1[\"job_title\"]==jb)].mean(),2)\n",
    "    \n",
    "    mean_remote_ratio.append(remratio)\n",
    "\n",
    "#print(mean_sal)    \n",
    "\n",
    "plt.bar(job_title,mean_remote_ratio)\n",
    "\n",
    "plt.xlabel(\"Top 10 frequent job titles\")\n",
    "\n",
    "plt.ylabel(\"Mean remote_ratio\")\n",
    "\n",
    "plt.show()"
   ]
  },
  {
   "cell_type": "code",
   "execution_count": null,
   "id": "4d10d7ed",
   "metadata": {},
   "outputs": [],
   "source": []
  },
  {
   "cell_type": "raw",
   "id": "ab926ca1",
   "metadata": {},
   "source": [
    "For Data Architect,Data Science Manager and Data Analytics Manager remote ratio ranges from 80% to 100%\n",
    "For Data Scientist,Data Engineer,Data Analyst,Ml Engineer ,Ml Scientist and Lead Data Engineer\n",
    "remote ratio ranges from 60% to 80%\n",
    "Research Scientist have remote ratio between 50% to 60%\n",
    "Director of Data Science have least remote_ratio of around 30%"
   ]
  },
  {
   "cell_type": "code",
   "execution_count": null,
   "id": "5791ce4e",
   "metadata": {},
   "outputs": [],
   "source": []
  },
  {
   "cell_type": "code",
   "execution_count": 37,
   "id": "53e02bf6",
   "metadata": {},
   "outputs": [
    {
     "data": {
      "image/png": "[encoded data removed]",
      "text/plain": [
       "<Figure size 432x288 with 1 Axes>"
      ]
     },
     "metadata": {
      "needs_background": "light"
     },
     "output_type": "display_data"
    }
   ],
   "source": [
    "company_size=[\"L\",\"S\",\"M\"]\n",
    "\n",
    "mean_salinusd=[]\n",
    "\n",
    "for cs in company_size:\n",
    "    \n",
    "    msalinusd=round(data1[\"salary_in_usd\"][(data1[\"company_size\"]==cs)].mean(),2)\n",
    "    \n",
    "    mean_salinusd.append(msalinusd)\n",
    "\n",
    "#print(mean_sal)    \n",
    "\n",
    "plt.bar(company_size,mean_salinusd)\n",
    "\n",
    "plt.xlabel(\"Company_size\")\n",
    "\n",
    "plt.ylabel(\"Mean Salary in usd\")\n",
    "\n",
    "plt.show()"
   ]
  },
  {
   "cell_type": "code",
   "execution_count": null,
   "id": "3f5a4fc5",
   "metadata": {},
   "outputs": [],
   "source": []
  },
  {
   "cell_type": "raw",
   "id": "6100c4c7",
   "metadata": {},
   "source": [
    "Lowest Amount of salary in usd is offered by small companies\n",
    "Medium companies offers slightly higher salary in usd  than large companies"
   ]
  },
  {
   "cell_type": "code",
   "execution_count": null,
   "id": "7977d60f",
   "metadata": {},
   "outputs": [],
   "source": []
  },
  {
   "cell_type": "code",
   "execution_count": 38,
   "id": "de331b8b",
   "metadata": {},
   "outputs": [
    {
     "data": {
      "image/png": "[encoded data removed]",
      "text/plain": [
       "<Figure size 432x288 with 1 Axes>"
      ]
     },
     "metadata": {
      "needs_background": "light"
     },
     "output_type": "display_data"
    }
   ],
   "source": [
    "#plt.figure(figsize=(25,30))\n",
    "\n",
    "company_size=[\"L\",\"S\",\"M\"]\n",
    "\n",
    "mean_sal=[]\n",
    "\n",
    "for cs in company_size:\n",
    "    \n",
    "    msal=round(data1[\"salary\"][(data1[\"company_size\"]==cs)].mean(),2)\n",
    "    \n",
    "    mean_sal.append(msal)\n",
    "\n",
    "#print(mean_sal)    \n",
    "\n",
    "plt.bar(company_size,mean_salinusd)\n",
    "\n",
    "plt.xlabel(\"Company_size\")\n",
    "\n",
    "plt.ylabel(\"Mean Salary\")\n",
    "\n",
    "plt.show()"
   ]
  },
  {
   "cell_type": "code",
   "execution_count": null,
   "id": "2f50aad5",
   "metadata": {},
   "outputs": [],
   "source": []
  },
  {
   "cell_type": "raw",
   "id": "bf109ac8",
   "metadata": {},
   "source": [
    "Lowest Amount of salary is offered by small companies\n",
    "Medium companies offers slightly higher salary than large companies"
   ]
  },
  {
   "cell_type": "code",
   "execution_count": null,
   "id": "7a0932c3",
   "metadata": {},
   "outputs": [],
   "source": []
  },
  {
   "cell_type": "markdown",
   "id": "060b98cb",
   "metadata": {},
   "source": [
    "# Multivariate Analysis"
   ]
  },
  {
   "cell_type": "code",
   "execution_count": null,
   "id": "1271a171",
   "metadata": {},
   "outputs": [],
   "source": []
  },
  {
   "cell_type": "code",
   "execution_count": 39,
   "id": "2fbd2533",
   "metadata": {},
   "outputs": [
    {
     "data": {
      "text/plain": [
       "work_year              int64\n",
       "experience_level      object\n",
       "employment_type       object\n",
       "job_title             object\n",
       "salary                 int64\n",
       "salary_currency       object\n",
       "salary_in_usd          int64\n",
       "employee_residence    object\n",
       "remote_ratio           int64\n",
       "company_location      object\n",
       "company_size          object\n",
       "dtype: object"
      ]
     },
     "execution_count": 39,
     "metadata": {},
     "output_type": "execute_result"
    }
   ],
   "source": [
    "data1.dtypes"
   ]
  },
  {
   "cell_type": "code",
   "execution_count": null,
   "id": "b93fb81d",
   "metadata": {},
   "outputs": [],
   "source": []
  },
  {
   "cell_type": "markdown",
   "id": "08d2e55b",
   "metadata": {},
   "source": [
    "# Checking for countries in employee_residence"
   ]
  },
  {
   "cell_type": "code",
   "execution_count": null,
   "id": "f8921960",
   "metadata": {},
   "outputs": [],
   "source": []
  },
  {
   "cell_type": "code",
   "execution_count": 40,
   "id": "4d51ac1d",
   "metadata": {},
   "outputs": [
    {
     "name": "stdout",
     "output_type": "stream",
     "text": [
      "['DE' 'JP' 'GB' 'HN' 'US' 'NZ' 'FR' 'PK' 'PL' 'PT' 'CN' 'GR' 'AE' 'NL'\n",
      " 'CA' 'AT' 'NG' 'PH' 'ES' 'DK' 'RU' 'IT' 'HR' 'IN' 'BG' 'SG' 'BR' 'IQ'\n",
      " 'VN' 'BE' 'UA' 'MT' 'MX' 'RO' 'IR' 'CO' 'MD' 'KE' 'SI' 'HK' 'TR' 'RS'\n",
      " 'PR' 'LU' 'JE' 'CZ' 'AR' 'DZ' 'TN' 'MY' 'EE' 'AU' 'BO' 'IE' 'CH']\n",
      "55\n"
     ]
    }
   ],
   "source": [
    "print(data1[\"employee_residence\"].unique())\n",
    "print(len(data1[\"employee_residence\"].unique()))"
   ]
  },
  {
   "cell_type": "code",
   "execution_count": null,
   "id": "e7d8554c",
   "metadata": {},
   "outputs": [],
   "source": []
  },
  {
   "cell_type": "raw",
   "id": "3032c066",
   "metadata": {},
   "source": [
    "Countires in employee_residence converted from respective ISO CODE \n",
    "\n",
    "Germany,Japan,UK,Honduras,USA,New Zealand,France,Pakistan,Poland,portugal,Greeece,UAE,Netherlands,Canada,Austria,Nigeria,\n",
    "Phillippines,Span,Denmark,Russia,Italy,Croatia,India,Bulgaria,Singapore,Brazil,Iraq,Vietnam,Belgium,UAE,Mexico,Romania,\n",
    "iran,Colombia,Moldova,Kenya,Slovenia,Hong Kong, Turkey,Serbia,Puerto Rico,Lexemburg,Jersey,Czech Republic,Argentina,Algeria, \n",
    "tunisia,Malaysia,Estonia,Austalia,Bolivia,Ireland,Switzerland"
   ]
  },
  {
   "cell_type": "code",
   "execution_count": null,
   "id": "150ae26d",
   "metadata": {},
   "outputs": [],
   "source": []
  },
  {
   "cell_type": "code",
   "execution_count": 41,
   "id": "0647da17",
   "metadata": {},
   "outputs": [
    {
     "name": "stdout",
     "output_type": "stream",
     "text": [
      "['DE' 'JP' 'GB' 'HN' 'US' 'NZ' 'FR' 'PK' 'CN' 'GR' 'AE' 'NL' 'CA' 'AT'\n",
      " 'NG' 'ES' 'PT' 'DK' 'IT' 'HR' 'LU' 'PL' 'SG' 'RO' 'IN' 'IQ' 'BR' 'BE'\n",
      " 'UA' 'IL' 'RU' 'MT' 'MX' 'IR' 'CO' 'MD' 'KE' 'SI' 'VN' 'TR' 'CZ' 'DZ'\n",
      " 'EE' 'MY' 'AU' 'IE' 'CH']\n",
      "47\n"
     ]
    }
   ],
   "source": [
    "print(data1[\"company_location\"].unique())\n",
    "print(len(data1[\"company_location\"].unique()))\n"
   ]
  },
  {
   "cell_type": "code",
   "execution_count": null,
   "id": "b79b2430",
   "metadata": {},
   "outputs": [],
   "source": []
  },
  {
   "cell_type": "raw",
   "id": "e28886b8",
   "metadata": {},
   "source": [
    "Countires in company_location converted from respective ISO CODE\n",
    "\n",
    "Germany,Japan,UK,Honduras,USA,New Zealand,France,Pakistan,China,Greeece,UAE,Netherlands,Canada,Austria,Nigeria,\n",
    "spain,portugal,Denmark,Italy,Croatia,Lexembourg,Poland,Singapore,Romania,India,Iraq,brazilBelgium,Ukraine,Israel,\n",
    "Russia,Malta,Mexico,iran,Colombia,Moldova,Kenya,Slovenia,Vietnam,Turkey,Czech Republic,Algeria,Estonia,Malayisa,\n",
    "Austalia,Ireland,Switzerland"
   ]
  },
  {
   "cell_type": "code",
   "execution_count": null,
   "id": "2ce2f0c3",
   "metadata": {},
   "outputs": [],
   "source": []
  },
  {
   "cell_type": "markdown",
   "id": "d01a0dc4",
   "metadata": {},
   "source": [
    "# Grouping countres w.r.t. their continents "
   ]
  },
  {
   "cell_type": "code",
   "execution_count": null,
   "id": "45cbc8b2",
   "metadata": {},
   "outputs": [],
   "source": []
  },
  {
   "cell_type": "markdown",
   "id": "61f42c16",
   "metadata": {},
   "source": [
    "# employee_residence"
   ]
  },
  {
   "cell_type": "code",
   "execution_count": null,
   "id": "41cdf282",
   "metadata": {},
   "outputs": [],
   "source": []
  },
  {
   "cell_type": "code",
   "execution_count": 42,
   "id": "3ee4a4a8",
   "metadata": {},
   "outputs": [
    {
     "name": "stdout",
     "output_type": "stream",
     "text": [
      "23\n",
      "12\n",
      "6\n",
      "4\n",
      "2\n"
     ]
    }
   ],
   "source": [
    "europe=['DE','GB','FR','GR','NL','AT','ES','PT','DK','IT','HR','LU','PL','RO','BE','UA','MT','SI','TR','CZ','EE','IE','CH']\n",
    "asia=['JP','PK','CN','AE','SG','IN','IQ','IL','RU','IR','VN','MY']\n",
    "america=['US','HN','CA','MX','CO','MD',]\n",
    "africa=['NG','BR','KE','DZ']\n",
    "others=['NZ','AU']\n",
    "\n",
    "print(len(europe))\n",
    "\n",
    "print(len(asia))\n",
    "\n",
    "print(len(america))\n",
    "\n",
    "print(len(africa))\n",
    "\n",
    "print(len(others))"
   ]
  },
  {
   "cell_type": "code",
   "execution_count": null,
   "id": "a4c18259",
   "metadata": {},
   "outputs": [],
   "source": []
  },
  {
   "cell_type": "markdown",
   "id": "2e1e20d6",
   "metadata": {},
   "source": [
    "# company_location"
   ]
  },
  {
   "cell_type": "code",
   "execution_count": null,
   "id": "f2de8929",
   "metadata": {},
   "outputs": [],
   "source": []
  },
  {
   "cell_type": "code",
   "execution_count": 43,
   "id": "b7cd1774",
   "metadata": {},
   "outputs": [
    {
     "name": "stdout",
     "output_type": "stream",
     "text": [
      "28\n",
      "14\n",
      "7\n",
      "5\n",
      "2\n",
      "56\n"
     ]
    }
   ],
   "source": [
    "europe1=['DE','GB','FR','GR','NL','AT','ES','PT','DK','IT','HR','LU','PL','RO','BE','UA','MT','SI','TR','CZ','EE','IE','CH','AR','BG','BO','JE','RS']\n",
    "asia1=['JP','PK','CN','AE','SG','IN','IQ','IL','RU','IR','VN','MY','HK','PH']\n",
    "america1=['US','HN','CA','MX','CO','MD','PR']\n",
    "africa1=['NG','BR','KE','DZ','TN']\n",
    "others1=['NZ','AU']\n",
    "\n",
    "print(len(europe1))\n",
    "\n",
    "print(len(asia1))\n",
    "\n",
    "print(len(america1))\n",
    "\n",
    "print(len(africa1))\n",
    "\n",
    "print(len(others1))\n",
    "\n",
    "print(len(europe1)+len(asia1)+len(america1)+len(africa1)+len(others1))"
   ]
  },
  {
   "cell_type": "code",
   "execution_count": null,
   "id": "0f90c4eb",
   "metadata": {},
   "outputs": [],
   "source": []
  },
  {
   "cell_type": "code",
   "execution_count": 44,
   "id": "ab1fe59c",
   "metadata": {},
   "outputs": [
    {
     "data": {
      "text/html": [
       "<div>\n",
       "<style scoped>\n",
       "    .dataframe tbody tr th:only-of-type {\n",
       "        vertical-align: middle;\n",
       "    }\n",
       "\n",
       "    .dataframe tbody tr th {\n",
       "        vertical-align: top;\n",
       "    }\n",
       "\n",
       "    .dataframe thead th {\n",
       "        text-align: right;\n",
       "    }\n",
       "</style>\n",
       "<table border=\"1\" class=\"dataframe\">\n",
       "  <thead>\n",
       "    <tr style=\"text-align: right;\">\n",
       "      <th></th>\n",
       "      <th>work_year</th>\n",
       "      <th>experience_level</th>\n",
       "      <th>employment_type</th>\n",
       "      <th>job_title</th>\n",
       "      <th>salary</th>\n",
       "      <th>salary_currency</th>\n",
       "      <th>salary_in_usd</th>\n",
       "      <th>employee_residence</th>\n",
       "      <th>remote_ratio</th>\n",
       "      <th>company_location</th>\n",
       "      <th>company_size</th>\n",
       "    </tr>\n",
       "  </thead>\n",
       "  <tbody>\n",
       "    <tr>\n",
       "      <th>0</th>\n",
       "      <td>2020</td>\n",
       "      <td>MI</td>\n",
       "      <td>FT</td>\n",
       "      <td>Data Scientist</td>\n",
       "      <td>70000</td>\n",
       "      <td>EUR</td>\n",
       "      <td>79833</td>\n",
       "      <td>DE</td>\n",
       "      <td>0</td>\n",
       "      <td>DE</td>\n",
       "      <td>L</td>\n",
       "    </tr>\n",
       "    <tr>\n",
       "      <th>1</th>\n",
       "      <td>2020</td>\n",
       "      <td>SE</td>\n",
       "      <td>FT</td>\n",
       "      <td>Machine Learning Scientist</td>\n",
       "      <td>260000</td>\n",
       "      <td>USD</td>\n",
       "      <td>260000</td>\n",
       "      <td>JP</td>\n",
       "      <td>0</td>\n",
       "      <td>JP</td>\n",
       "      <td>S</td>\n",
       "    </tr>\n",
       "    <tr>\n",
       "      <th>2</th>\n",
       "      <td>2020</td>\n",
       "      <td>SE</td>\n",
       "      <td>FT</td>\n",
       "      <td>Big Data Engineer</td>\n",
       "      <td>85000</td>\n",
       "      <td>GBP</td>\n",
       "      <td>109024</td>\n",
       "      <td>GB</td>\n",
       "      <td>50</td>\n",
       "      <td>GB</td>\n",
       "      <td>M</td>\n",
       "    </tr>\n",
       "    <tr>\n",
       "      <th>3</th>\n",
       "      <td>2020</td>\n",
       "      <td>MI</td>\n",
       "      <td>FT</td>\n",
       "      <td>Product Data Analyst</td>\n",
       "      <td>20000</td>\n",
       "      <td>USD</td>\n",
       "      <td>20000</td>\n",
       "      <td>HN</td>\n",
       "      <td>0</td>\n",
       "      <td>HN</td>\n",
       "      <td>S</td>\n",
       "    </tr>\n",
       "    <tr>\n",
       "      <th>4</th>\n",
       "      <td>2020</td>\n",
       "      <td>SE</td>\n",
       "      <td>FT</td>\n",
       "      <td>Machine Learning Engineer</td>\n",
       "      <td>150000</td>\n",
       "      <td>USD</td>\n",
       "      <td>150000</td>\n",
       "      <td>US</td>\n",
       "      <td>50</td>\n",
       "      <td>US</td>\n",
       "      <td>L</td>\n",
       "    </tr>\n",
       "    <tr>\n",
       "      <th>...</th>\n",
       "      <td>...</td>\n",
       "      <td>...</td>\n",
       "      <td>...</td>\n",
       "      <td>...</td>\n",
       "      <td>...</td>\n",
       "      <td>...</td>\n",
       "      <td>...</td>\n",
       "      <td>...</td>\n",
       "      <td>...</td>\n",
       "      <td>...</td>\n",
       "      <td>...</td>\n",
       "    </tr>\n",
       "    <tr>\n",
       "      <th>602</th>\n",
       "      <td>2022</td>\n",
       "      <td>SE</td>\n",
       "      <td>FT</td>\n",
       "      <td>Data Engineer</td>\n",
       "      <td>154000</td>\n",
       "      <td>USD</td>\n",
       "      <td>154000</td>\n",
       "      <td>US</td>\n",
       "      <td>100</td>\n",
       "      <td>US</td>\n",
       "      <td>M</td>\n",
       "    </tr>\n",
       "    <tr>\n",
       "      <th>603</th>\n",
       "      <td>2022</td>\n",
       "      <td>SE</td>\n",
       "      <td>FT</td>\n",
       "      <td>Data Engineer</td>\n",
       "      <td>126000</td>\n",
       "      <td>USD</td>\n",
       "      <td>126000</td>\n",
       "      <td>US</td>\n",
       "      <td>100</td>\n",
       "      <td>US</td>\n",
       "      <td>M</td>\n",
       "    </tr>\n",
       "    <tr>\n",
       "      <th>604</th>\n",
       "      <td>2022</td>\n",
       "      <td>SE</td>\n",
       "      <td>FT</td>\n",
       "      <td>Data Analyst</td>\n",
       "      <td>129000</td>\n",
       "      <td>USD</td>\n",
       "      <td>129000</td>\n",
       "      <td>US</td>\n",
       "      <td>0</td>\n",
       "      <td>US</td>\n",
       "      <td>M</td>\n",
       "    </tr>\n",
       "    <tr>\n",
       "      <th>605</th>\n",
       "      <td>2022</td>\n",
       "      <td>SE</td>\n",
       "      <td>FT</td>\n",
       "      <td>Data Analyst</td>\n",
       "      <td>150000</td>\n",
       "      <td>USD</td>\n",
       "      <td>150000</td>\n",
       "      <td>US</td>\n",
       "      <td>100</td>\n",
       "      <td>US</td>\n",
       "      <td>M</td>\n",
       "    </tr>\n",
       "    <tr>\n",
       "      <th>606</th>\n",
       "      <td>2022</td>\n",
       "      <td>MI</td>\n",
       "      <td>FT</td>\n",
       "      <td>AI Scientist</td>\n",
       "      <td>200000</td>\n",
       "      <td>USD</td>\n",
       "      <td>200000</td>\n",
       "      <td>IN</td>\n",
       "      <td>100</td>\n",
       "      <td>US</td>\n",
       "      <td>L</td>\n",
       "    </tr>\n",
       "  </tbody>\n",
       "</table>\n",
       "<p>563 rows × 11 columns</p>\n",
       "</div>"
      ],
      "text/plain": [
       "     work_year experience_level employment_type                   job_title  \\\n",
       "0         2020               MI              FT              Data Scientist   \n",
       "1         2020               SE              FT  Machine Learning Scientist   \n",
       "2         2020               SE              FT           Big Data Engineer   \n",
       "3         2020               MI              FT        Product Data Analyst   \n",
       "4         2020               SE              FT   Machine Learning Engineer   \n",
       "..         ...              ...             ...                         ...   \n",
       "602       2022               SE              FT               Data Engineer   \n",
       "603       2022               SE              FT               Data Engineer   \n",
       "604       2022               SE              FT                Data Analyst   \n",
       "605       2022               SE              FT                Data Analyst   \n",
       "606       2022               MI              FT                AI Scientist   \n",
       "\n",
       "     salary salary_currency  salary_in_usd employee_residence  remote_ratio  \\\n",
       "0     70000             EUR          79833                 DE             0   \n",
       "1    260000             USD         260000                 JP             0   \n",
       "2     85000             GBP         109024                 GB            50   \n",
       "3     20000             USD          20000                 HN             0   \n",
       "4    150000             USD         150000                 US            50   \n",
       "..      ...             ...            ...                ...           ...   \n",
       "602  154000             USD         154000                 US           100   \n",
       "603  126000             USD         126000                 US           100   \n",
       "604  129000             USD         129000                 US             0   \n",
       "605  150000             USD         150000                 US           100   \n",
       "606  200000             USD         200000                 IN           100   \n",
       "\n",
       "    company_location company_size  \n",
       "0                 DE            L  \n",
       "1                 JP            S  \n",
       "2                 GB            M  \n",
       "3                 HN            S  \n",
       "4                 US            L  \n",
       "..               ...          ...  \n",
       "602               US            M  \n",
       "603               US            M  \n",
       "604               US            M  \n",
       "605               US            M  \n",
       "606               US            L  \n",
       "\n",
       "[563 rows x 11 columns]"
      ]
     },
     "execution_count": 44,
     "metadata": {},
     "output_type": "execute_result"
    }
   ],
   "source": [
    "data2=data1.copy()\n",
    "data2"
   ]
  },
  {
   "cell_type": "code",
   "execution_count": null,
   "id": "5ade70e1",
   "metadata": {},
   "outputs": [],
   "source": []
  },
  {
   "cell_type": "code",
   "execution_count": 45,
   "id": "3d286036",
   "metadata": {},
   "outputs": [
    {
     "data": {
      "text/html": [
       "<div>\n",
       "<style scoped>\n",
       "    .dataframe tbody tr th:only-of-type {\n",
       "        vertical-align: middle;\n",
       "    }\n",
       "\n",
       "    .dataframe tbody tr th {\n",
       "        vertical-align: top;\n",
       "    }\n",
       "\n",
       "    .dataframe thead th {\n",
       "        text-align: right;\n",
       "    }\n",
       "</style>\n",
       "<table border=\"1\" class=\"dataframe\">\n",
       "  <thead>\n",
       "    <tr style=\"text-align: right;\">\n",
       "      <th></th>\n",
       "      <th>work_year</th>\n",
       "      <th>experience_level</th>\n",
       "      <th>employment_type</th>\n",
       "      <th>job_title</th>\n",
       "      <th>salary</th>\n",
       "      <th>salary_currency</th>\n",
       "      <th>salary_in_usd</th>\n",
       "      <th>employee_residence</th>\n",
       "      <th>remote_ratio</th>\n",
       "      <th>company_location</th>\n",
       "      <th>company_size</th>\n",
       "    </tr>\n",
       "  </thead>\n",
       "  <tbody>\n",
       "    <tr>\n",
       "      <th>0</th>\n",
       "      <td>2020</td>\n",
       "      <td>MI</td>\n",
       "      <td>FT</td>\n",
       "      <td>Data Scientist</td>\n",
       "      <td>70000</td>\n",
       "      <td>EUR</td>\n",
       "      <td>79833</td>\n",
       "      <td>DE</td>\n",
       "      <td>0</td>\n",
       "      <td>DE</td>\n",
       "      <td>L</td>\n",
       "    </tr>\n",
       "    <tr>\n",
       "      <th>1</th>\n",
       "      <td>2020</td>\n",
       "      <td>SE</td>\n",
       "      <td>FT</td>\n",
       "      <td>Machine Learning Scientist</td>\n",
       "      <td>260000</td>\n",
       "      <td>USD</td>\n",
       "      <td>260000</td>\n",
       "      <td>JP</td>\n",
       "      <td>0</td>\n",
       "      <td>JP</td>\n",
       "      <td>S</td>\n",
       "    </tr>\n",
       "    <tr>\n",
       "      <th>2</th>\n",
       "      <td>2020</td>\n",
       "      <td>SE</td>\n",
       "      <td>FT</td>\n",
       "      <td>Big Data Engineer</td>\n",
       "      <td>85000</td>\n",
       "      <td>GBP</td>\n",
       "      <td>109024</td>\n",
       "      <td>GB</td>\n",
       "      <td>50</td>\n",
       "      <td>GB</td>\n",
       "      <td>M</td>\n",
       "    </tr>\n",
       "    <tr>\n",
       "      <th>3</th>\n",
       "      <td>2020</td>\n",
       "      <td>MI</td>\n",
       "      <td>FT</td>\n",
       "      <td>Product Data Analyst</td>\n",
       "      <td>20000</td>\n",
       "      <td>USD</td>\n",
       "      <td>20000</td>\n",
       "      <td>HN</td>\n",
       "      <td>0</td>\n",
       "      <td>HN</td>\n",
       "      <td>S</td>\n",
       "    </tr>\n",
       "    <tr>\n",
       "      <th>4</th>\n",
       "      <td>2020</td>\n",
       "      <td>SE</td>\n",
       "      <td>FT</td>\n",
       "      <td>Machine Learning Engineer</td>\n",
       "      <td>150000</td>\n",
       "      <td>USD</td>\n",
       "      <td>150000</td>\n",
       "      <td>US</td>\n",
       "      <td>50</td>\n",
       "      <td>US</td>\n",
       "      <td>L</td>\n",
       "    </tr>\n",
       "  </tbody>\n",
       "</table>\n",
       "</div>"
      ],
      "text/plain": [
       "   work_year experience_level employment_type                   job_title  \\\n",
       "0       2020               MI              FT              Data Scientist   \n",
       "1       2020               SE              FT  Machine Learning Scientist   \n",
       "2       2020               SE              FT           Big Data Engineer   \n",
       "3       2020               MI              FT        Product Data Analyst   \n",
       "4       2020               SE              FT   Machine Learning Engineer   \n",
       "\n",
       "   salary salary_currency  salary_in_usd employee_residence  remote_ratio  \\\n",
       "0   70000             EUR          79833                 DE             0   \n",
       "1  260000             USD         260000                 JP             0   \n",
       "2   85000             GBP         109024                 GB            50   \n",
       "3   20000             USD          20000                 HN             0   \n",
       "4  150000             USD         150000                 US            50   \n",
       "\n",
       "  company_location company_size  \n",
       "0               DE            L  \n",
       "1               JP            S  \n",
       "2               GB            M  \n",
       "3               HN            S  \n",
       "4               US            L  "
      ]
     },
     "execution_count": 45,
     "metadata": {},
     "output_type": "execute_result"
    }
   ],
   "source": [
    "sample=data2.head()\n",
    "sample"
   ]
  },
  {
   "cell_type": "code",
   "execution_count": null,
   "id": "ccb3768b",
   "metadata": {},
   "outputs": [],
   "source": []
  },
  {
   "cell_type": "code",
   "execution_count": 46,
   "id": "72d38ac5",
   "metadata": {},
   "outputs": [
    {
     "data": {
      "text/html": [
       "<div>\n",
       "<style scoped>\n",
       "    .dataframe tbody tr th:only-of-type {\n",
       "        vertical-align: middle;\n",
       "    }\n",
       "\n",
       "    .dataframe tbody tr th {\n",
       "        vertical-align: top;\n",
       "    }\n",
       "\n",
       "    .dataframe thead th {\n",
       "        text-align: right;\n",
       "    }\n",
       "</style>\n",
       "<table border=\"1\" class=\"dataframe\">\n",
       "  <thead>\n",
       "    <tr style=\"text-align: right;\">\n",
       "      <th></th>\n",
       "      <th>work_year</th>\n",
       "      <th>experience_level</th>\n",
       "      <th>employment_type</th>\n",
       "      <th>job_title</th>\n",
       "      <th>salary</th>\n",
       "      <th>salary_currency</th>\n",
       "      <th>salary_in_usd</th>\n",
       "      <th>employee_residence</th>\n",
       "      <th>remote_ratio</th>\n",
       "      <th>company_location</th>\n",
       "      <th>company_size</th>\n",
       "    </tr>\n",
       "  </thead>\n",
       "  <tbody>\n",
       "    <tr>\n",
       "      <th>0</th>\n",
       "      <td>2020</td>\n",
       "      <td>MI</td>\n",
       "      <td>FT</td>\n",
       "      <td>Data Scientist</td>\n",
       "      <td>70000</td>\n",
       "      <td>EUR</td>\n",
       "      <td>79833</td>\n",
       "      <td>EU</td>\n",
       "      <td>0</td>\n",
       "      <td>DE</td>\n",
       "      <td>L</td>\n",
       "    </tr>\n",
       "    <tr>\n",
       "      <th>1</th>\n",
       "      <td>2020</td>\n",
       "      <td>SE</td>\n",
       "      <td>FT</td>\n",
       "      <td>Machine Learning Scientist</td>\n",
       "      <td>260000</td>\n",
       "      <td>USD</td>\n",
       "      <td>260000</td>\n",
       "      <td>AS</td>\n",
       "      <td>0</td>\n",
       "      <td>JP</td>\n",
       "      <td>S</td>\n",
       "    </tr>\n",
       "    <tr>\n",
       "      <th>2</th>\n",
       "      <td>2020</td>\n",
       "      <td>SE</td>\n",
       "      <td>FT</td>\n",
       "      <td>Big Data Engineer</td>\n",
       "      <td>85000</td>\n",
       "      <td>GBP</td>\n",
       "      <td>109024</td>\n",
       "      <td>EU</td>\n",
       "      <td>50</td>\n",
       "      <td>GB</td>\n",
       "      <td>M</td>\n",
       "    </tr>\n",
       "    <tr>\n",
       "      <th>3</th>\n",
       "      <td>2020</td>\n",
       "      <td>MI</td>\n",
       "      <td>FT</td>\n",
       "      <td>Product Data Analyst</td>\n",
       "      <td>20000</td>\n",
       "      <td>USD</td>\n",
       "      <td>20000</td>\n",
       "      <td>AM</td>\n",
       "      <td>0</td>\n",
       "      <td>HN</td>\n",
       "      <td>S</td>\n",
       "    </tr>\n",
       "    <tr>\n",
       "      <th>4</th>\n",
       "      <td>2020</td>\n",
       "      <td>SE</td>\n",
       "      <td>FT</td>\n",
       "      <td>Machine Learning Engineer</td>\n",
       "      <td>150000</td>\n",
       "      <td>USD</td>\n",
       "      <td>150000</td>\n",
       "      <td>AM</td>\n",
       "      <td>50</td>\n",
       "      <td>US</td>\n",
       "      <td>L</td>\n",
       "    </tr>\n",
       "  </tbody>\n",
       "</table>\n",
       "</div>"
      ],
      "text/plain": [
       "   work_year experience_level employment_type                   job_title  \\\n",
       "0       2020               MI              FT              Data Scientist   \n",
       "1       2020               SE              FT  Machine Learning Scientist   \n",
       "2       2020               SE              FT           Big Data Engineer   \n",
       "3       2020               MI              FT        Product Data Analyst   \n",
       "4       2020               SE              FT   Machine Learning Engineer   \n",
       "\n",
       "   salary salary_currency  salary_in_usd employee_residence  remote_ratio  \\\n",
       "0   70000             EUR          79833                 EU             0   \n",
       "1  260000             USD         260000                 AS             0   \n",
       "2   85000             GBP         109024                 EU            50   \n",
       "3   20000             USD          20000                 AM             0   \n",
       "4  150000             USD         150000                 AM            50   \n",
       "\n",
       "  company_location company_size  \n",
       "0               DE            L  \n",
       "1               JP            S  \n",
       "2               GB            M  \n",
       "3               HN            S  \n",
       "4               US            L  "
      ]
     },
     "execution_count": 46,
     "metadata": {},
     "output_type": "execute_result"
    }
   ],
   "source": [
    "for res in sample[\"employee_residence\"]:\n",
    "    \n",
    "    chk=0\n",
    "    \n",
    "    for eu in europe1:\n",
    "        \n",
    "        if res==eu:\n",
    "            \n",
    "            sample.loc[sample[\"employee_residence\"]==res,\"employee_residence\"]=\"EU\"\n",
    "            chk=1\n",
    "            break\n",
    "    \n",
    "    if chk==1:\n",
    "        \n",
    "        continue\n",
    "    \n",
    "    \n",
    "    for asi in asia1:\n",
    "        \n",
    "        if res==asi:\n",
    "            \n",
    "            sample.loc[sample[\"employee_residence\"]==res,\"employee_residence\"]=\"AS\"\n",
    "            chk=1\n",
    "            break\n",
    "    \n",
    "    if chk==1:\n",
    "        \n",
    "        continue\n",
    "    \n",
    "    \n",
    "    for am in america1:\n",
    "        \n",
    "        if res==am:\n",
    "            \n",
    "            sample.loc[sample[\"employee_residence\"]==res,\"employee_residence\"]=\"AM\"\n",
    "            chk=1\n",
    "            break\n",
    "    \n",
    "    if chk==1:\n",
    "        \n",
    "        continue\n",
    "    \n",
    "    \n",
    "    for af in africa1:\n",
    "        \n",
    "        if res==af:\n",
    "            \n",
    "            sample.loc[sample[\"employee_residence\"]==res,\"employee_residence\"]=\"AF\"\n",
    "            chk=1\n",
    "            break\n",
    "    \n",
    "    if chk==1:\n",
    "        \n",
    "        continue\n",
    "    \n",
    "    \n",
    "        \n",
    "sample        "
   ]
  },
  {
   "cell_type": "code",
   "execution_count": null,
   "id": "f7456a9b",
   "metadata": {},
   "outputs": [],
   "source": []
  },
  {
   "cell_type": "code",
   "execution_count": 47,
   "id": "24003140",
   "metadata": {},
   "outputs": [],
   "source": [
    "for res in data2[\"employee_residence\"]:\n",
    "    \n",
    "    chk=0\n",
    "    \n",
    "    for eu in europe1:\n",
    "        \n",
    "        if res==eu:\n",
    "            \n",
    "            data2.loc[data2[\"employee_residence\"]==res,\"employee_residence\"]=\"EU\"\n",
    "            chk=1\n",
    "            break\n",
    "    \n",
    "    if chk==1:\n",
    "        \n",
    "        continue\n",
    "    \n",
    "    \n",
    "    for asi in asia1:\n",
    "        \n",
    "        if res==asi:\n",
    "            \n",
    "            data2.loc[data2[\"employee_residence\"]==res,\"employee_residence\"]=\"AS\"\n",
    "            chk=1\n",
    "            break\n",
    "    \n",
    "    if chk==1:\n",
    "        \n",
    "        continue\n",
    "    \n",
    "    \n",
    "    for am in america1:\n",
    "        \n",
    "        if res==am:\n",
    "            \n",
    "            data2.loc[data2[\"employee_residence\"]==res,\"employee_residence\"]=\"AM\"\n",
    "            chk=1\n",
    "            break\n",
    "    \n",
    "    if chk==1:\n",
    "        \n",
    "        continue\n",
    "    \n",
    "    \n",
    "    for af in africa1:\n",
    "        \n",
    "        if res==af:\n",
    "            \n",
    "            data2.loc[data2[\"employee_residence\"]==res,\"employee_residence\"]=\"AF\"\n",
    "            chk=1\n",
    "            break\n",
    "    \n",
    "    if chk==1:\n",
    "        \n",
    "        continue\n",
    "    \n",
    "    \n",
    "    for ot in others1:\n",
    "        \n",
    "        if res==ot:\n",
    "            \n",
    "            data2.loc[data2[\"employee_residence\"]==res,\"employee_residence\"]=\"OT\"\n",
    "            chk=1\n",
    "            break\n",
    "    \n",
    "    if chk==1:\n",
    "        \n",
    "        continue\n",
    "    \n",
    "    \n",
    "        \n",
    "        "
   ]
  },
  {
   "cell_type": "code",
   "execution_count": null,
   "id": "8fa68c77",
   "metadata": {},
   "outputs": [],
   "source": []
  },
  {
   "cell_type": "code",
   "execution_count": 48,
   "id": "a94b77c6",
   "metadata": {},
   "outputs": [
    {
     "data": {
      "text/plain": [
       "AM    356\n",
       "EU    161\n",
       "AS     31\n",
       "AF     11\n",
       "OT      4\n",
       "Name: employee_residence, dtype: int64"
      ]
     },
     "execution_count": 48,
     "metadata": {},
     "output_type": "execute_result"
    }
   ],
   "source": [
    "data2[\"employee_residence\"].value_counts()"
   ]
  },
  {
   "cell_type": "code",
   "execution_count": null,
   "id": "f96d567c",
   "metadata": {},
   "outputs": [],
   "source": []
  },
  {
   "cell_type": "code",
   "execution_count": 49,
   "id": "17906750",
   "metadata": {},
   "outputs": [],
   "source": [
    "for res in data2[\"company_location\"]:\n",
    "    \n",
    "    chk=0\n",
    "    \n",
    "    for eu in europe:\n",
    "        \n",
    "        if res==eu:\n",
    "            \n",
    "            data2.loc[data2[\"company_location\"]==res,\"company_location\"]=\"EU\"\n",
    "            chk=1\n",
    "            break\n",
    "    \n",
    "    if chk==1:\n",
    "        \n",
    "        continue\n",
    "    \n",
    "    \n",
    "    for asi in asia:\n",
    "        \n",
    "        if res==asi:\n",
    "            \n",
    "            data2.loc[data2[\"company_location\"]==res,\"company_location\"]=\"AS\"\n",
    "            chk=1\n",
    "            break\n",
    "    \n",
    "    if chk==1:\n",
    "        \n",
    "        continue\n",
    "    \n",
    "    \n",
    "    for am in america:\n",
    "        \n",
    "        if res==am:\n",
    "            \n",
    "            data2.loc[data2[\"company_location\"]==res,\"company_location\"]=\"AM\"\n",
    "            chk=1\n",
    "            break\n",
    "    \n",
    "    if chk==1:\n",
    "        \n",
    "        continue\n",
    "    \n",
    "    \n",
    "    for af in africa:\n",
    "        \n",
    "        if res==af:\n",
    "            \n",
    "            data2.loc[data2[\"company_location\"]==res,\"company_location\"]=\"AF\"\n",
    "            chk=1\n",
    "            break\n",
    "    \n",
    "    if chk==1:\n",
    "        \n",
    "        continue\n",
    "    \n",
    "    \n",
    "    for ot in others:\n",
    "        \n",
    "        if res==ot:\n",
    "            \n",
    "            data2.loc[data2[\"company_location\"]==res,\"company_location\"]=\"OT\"\n",
    "            chk=1\n",
    "            break\n",
    "    \n",
    "    if chk==1:\n",
    "        \n",
    "        continue\n",
    "    \n",
    "    \n",
    "        \n",
    "        "
   ]
  },
  {
   "cell_type": "code",
   "execution_count": null,
   "id": "432221b2",
   "metadata": {},
   "outputs": [],
   "source": []
  },
  {
   "cell_type": "code",
   "execution_count": 69,
   "id": "44a84626",
   "metadata": {},
   "outputs": [
    {
     "data": {
      "text/plain": [
       "AM    377\n",
       "EU    155\n",
       "AS     20\n",
       "AF      7\n",
       "OT      4\n",
       "Name: company_location, dtype: int64"
      ]
     },
     "execution_count": 69,
     "metadata": {},
     "output_type": "execute_result"
    }
   ],
   "source": [
    "data2[\"company_location\"].value_counts()"
   ]
  },
  {
   "cell_type": "code",
   "execution_count": null,
   "id": "3d68f367",
   "metadata": {},
   "outputs": [],
   "source": []
  },
  {
   "cell_type": "markdown",
   "id": "9b4f35a7",
   "metadata": {},
   "source": [
    "# Checking on different types of salary_currency in different continents."
   ]
  },
  {
   "cell_type": "code",
   "execution_count": null,
   "id": "666e52f7",
   "metadata": {},
   "outputs": [],
   "source": []
  },
  {
   "cell_type": "code",
   "execution_count": 65,
   "id": "0f69e79d",
   "metadata": {},
   "outputs": [
    {
     "data": {
      "text/plain": [
       "AM    377\n",
       "EU    155\n",
       "AS     20\n",
       "AF      7\n",
       "OT      4\n",
       "Name: company_location, dtype: int64"
      ]
     },
     "execution_count": 65,
     "metadata": {},
     "output_type": "execute_result"
    }
   ],
   "source": [
    "data2[\"company_location\"].value_counts()"
   ]
  },
  {
   "cell_type": "code",
   "execution_count": null,
   "id": "c0ce6651",
   "metadata": {},
   "outputs": [],
   "source": []
  },
  {
   "cell_type": "code",
   "execution_count": 51,
   "id": "e46a582e",
   "metadata": {},
   "outputs": [
    {
     "data": {
      "text/plain": [
       "USD    354\n",
       "CAD     18\n",
       "EUR      3\n",
       "MXN      1\n",
       "CNY      1\n",
       "Name: salary_currency, dtype: int64"
      ]
     },
     "execution_count": 51,
     "metadata": {},
     "output_type": "execute_result"
    }
   ],
   "source": [
    "data2[\"salary_currency\"][(data2[\"company_location\"]==\"AM\")].value_counts()"
   ]
  },
  {
   "cell_type": "code",
   "execution_count": null,
   "id": "f29ae819",
   "metadata": {},
   "outputs": [],
   "source": []
  },
  {
   "cell_type": "code",
   "execution_count": 52,
   "id": "6938db45",
   "metadata": {},
   "outputs": [
    {
     "data": {
      "text/plain": [
       "EUR    92\n",
       "GBP    44\n",
       "USD    10\n",
       "PLN     3\n",
       "TRY     3\n",
       "DKK     2\n",
       "CHF     1\n",
       "Name: salary_currency, dtype: int64"
      ]
     },
     "execution_count": 52,
     "metadata": {},
     "output_type": "execute_result"
    }
   ],
   "source": [
    "data2[\"salary_currency\"][(data2[\"company_location\"]==\"EU\")].value_counts()"
   ]
  },
  {
   "cell_type": "code",
   "execution_count": null,
   "id": "25b6ed96",
   "metadata": {},
   "outputs": [],
   "source": []
  },
  {
   "cell_type": "code",
   "execution_count": 66,
   "id": "d77d530a",
   "metadata": {},
   "outputs": [
    {
     "data": {
      "text/plain": [
       "USD    20\n",
       "Name: salary_currency, dtype: int64"
      ]
     },
     "execution_count": 66,
     "metadata": {},
     "output_type": "execute_result"
    }
   ],
   "source": [
    "data2[\"salary_currency\"][(data2[\"company_location\"]==\"AS\")].value_counts()"
   ]
  },
  {
   "cell_type": "code",
   "execution_count": null,
   "id": "4e9f91ae",
   "metadata": {},
   "outputs": [],
   "source": []
  },
  {
   "cell_type": "code",
   "execution_count": 67,
   "id": "c5204cd8",
   "metadata": {},
   "outputs": [
    {
     "data": {
      "text/plain": [
       "USD    5\n",
       "BRL    2\n",
       "Name: salary_currency, dtype: int64"
      ]
     },
     "execution_count": 67,
     "metadata": {},
     "output_type": "execute_result"
    }
   ],
   "source": [
    "data2[\"salary_currency\"][(data2[\"company_location\"]==\"AF\")].value_counts()"
   ]
  },
  {
   "cell_type": "code",
   "execution_count": null,
   "id": "812f2bf4",
   "metadata": {},
   "outputs": [],
   "source": []
  },
  {
   "cell_type": "code",
   "execution_count": 68,
   "id": "33907752",
   "metadata": {},
   "outputs": [
    {
     "data": {
      "text/plain": [
       "USD    4\n",
       "Name: salary_currency, dtype: int64"
      ]
     },
     "execution_count": 68,
     "metadata": {},
     "output_type": "execute_result"
    }
   ],
   "source": [
    "data2[\"salary_currency\"][(data2[\"company_location\"]==\"OT\")].value_counts()"
   ]
  },
  {
   "cell_type": "code",
   "execution_count": null,
   "id": "cac5c620",
   "metadata": {},
   "outputs": [],
   "source": []
  },
  {
   "cell_type": "markdown",
   "id": "f0a886f2",
   "metadata": {},
   "source": [
    "# Standardizing the currency in continents and according to the currency adjusting the salaries "
   ]
  },
  {
   "cell_type": "code",
   "execution_count": null,
   "id": "61f0efb4",
   "metadata": {},
   "outputs": [],
   "source": []
  },
  {
   "cell_type": "raw",
   "id": "de27eb9c",
   "metadata": {},
   "source": [
    "Those salary currencies which are very very few in a continet they are converted to mostly occuring salary currencies in that continent"
   ]
  },
  {
   "cell_type": "code",
   "execution_count": null,
   "id": "5b7eff08",
   "metadata": {},
   "outputs": [],
   "source": []
  },
  {
   "cell_type": "code",
   "execution_count": 56,
   "id": "e8e3341e",
   "metadata": {},
   "outputs": [
    {
     "data": {
      "text/html": [
       "<div>\n",
       "<style scoped>\n",
       "    .dataframe tbody tr th:only-of-type {\n",
       "        vertical-align: middle;\n",
       "    }\n",
       "\n",
       "    .dataframe tbody tr th {\n",
       "        vertical-align: top;\n",
       "    }\n",
       "\n",
       "    .dataframe thead th {\n",
       "        text-align: right;\n",
       "    }\n",
       "</style>\n",
       "<table border=\"1\" class=\"dataframe\">\n",
       "  <thead>\n",
       "    <tr style=\"text-align: right;\">\n",
       "      <th></th>\n",
       "      <th>work_year</th>\n",
       "      <th>experience_level</th>\n",
       "      <th>employment_type</th>\n",
       "      <th>job_title</th>\n",
       "      <th>salary</th>\n",
       "      <th>salary_currency</th>\n",
       "      <th>salary_in_usd</th>\n",
       "      <th>employee_residence</th>\n",
       "      <th>remote_ratio</th>\n",
       "      <th>company_location</th>\n",
       "      <th>company_size</th>\n",
       "    </tr>\n",
       "  </thead>\n",
       "  <tbody>\n",
       "    <tr>\n",
       "      <th>0</th>\n",
       "      <td>2020</td>\n",
       "      <td>MI</td>\n",
       "      <td>FT</td>\n",
       "      <td>Data Scientist</td>\n",
       "      <td>70000</td>\n",
       "      <td>EUR</td>\n",
       "      <td>79833</td>\n",
       "      <td>EU</td>\n",
       "      <td>0</td>\n",
       "      <td>EU</td>\n",
       "      <td>L</td>\n",
       "    </tr>\n",
       "    <tr>\n",
       "      <th>1</th>\n",
       "      <td>2020</td>\n",
       "      <td>SE</td>\n",
       "      <td>FT</td>\n",
       "      <td>Machine Learning Scientist</td>\n",
       "      <td>260000</td>\n",
       "      <td>USD</td>\n",
       "      <td>260000</td>\n",
       "      <td>AS</td>\n",
       "      <td>0</td>\n",
       "      <td>AS</td>\n",
       "      <td>S</td>\n",
       "    </tr>\n",
       "    <tr>\n",
       "      <th>2</th>\n",
       "      <td>2020</td>\n",
       "      <td>SE</td>\n",
       "      <td>FT</td>\n",
       "      <td>Big Data Engineer</td>\n",
       "      <td>85000</td>\n",
       "      <td>GBP</td>\n",
       "      <td>109024</td>\n",
       "      <td>EU</td>\n",
       "      <td>50</td>\n",
       "      <td>EU</td>\n",
       "      <td>M</td>\n",
       "    </tr>\n",
       "    <tr>\n",
       "      <th>3</th>\n",
       "      <td>2020</td>\n",
       "      <td>MI</td>\n",
       "      <td>FT</td>\n",
       "      <td>Product Data Analyst</td>\n",
       "      <td>20000</td>\n",
       "      <td>USD</td>\n",
       "      <td>20000</td>\n",
       "      <td>AM</td>\n",
       "      <td>0</td>\n",
       "      <td>AM</td>\n",
       "      <td>S</td>\n",
       "    </tr>\n",
       "    <tr>\n",
       "      <th>4</th>\n",
       "      <td>2020</td>\n",
       "      <td>SE</td>\n",
       "      <td>FT</td>\n",
       "      <td>Machine Learning Engineer</td>\n",
       "      <td>150000</td>\n",
       "      <td>USD</td>\n",
       "      <td>150000</td>\n",
       "      <td>AM</td>\n",
       "      <td>50</td>\n",
       "      <td>AM</td>\n",
       "      <td>L</td>\n",
       "    </tr>\n",
       "  </tbody>\n",
       "</table>\n",
       "</div>"
      ],
      "text/plain": [
       "   work_year experience_level employment_type                   job_title  \\\n",
       "0       2020               MI              FT              Data Scientist   \n",
       "1       2020               SE              FT  Machine Learning Scientist   \n",
       "2       2020               SE              FT           Big Data Engineer   \n",
       "3       2020               MI              FT        Product Data Analyst   \n",
       "4       2020               SE              FT   Machine Learning Engineer   \n",
       "\n",
       "   salary salary_currency  salary_in_usd employee_residence  remote_ratio  \\\n",
       "0   70000             EUR          79833                 EU             0   \n",
       "1  260000             USD         260000                 AS             0   \n",
       "2   85000             GBP         109024                 EU            50   \n",
       "3   20000             USD          20000                 AM             0   \n",
       "4  150000             USD         150000                 AM            50   \n",
       "\n",
       "  company_location company_size  \n",
       "0               EU            L  \n",
       "1               AS            S  \n",
       "2               EU            M  \n",
       "3               AM            S  \n",
       "4               AM            L  "
      ]
     },
     "execution_count": 56,
     "metadata": {},
     "output_type": "execute_result"
    }
   ],
   "source": [
    "for complc,salcu,sal in zip(sample[\"company_location\"],sample[\"salary_currency\"],sample[\"salary\"]):\n",
    "    \n",
    "    if complc==\"AM\":\n",
    "        \n",
    "        if salcu==\"CAD\":\n",
    "            \n",
    "            sample.loc[sample[\"salary\"]==sal,\"salary\"]=sal*0.77\n",
    "            sample.loc[sample[\"salary_currency\"]==salcu,\"salary_currency\"]=\"USD\"\n",
    "        \n",
    "        elif salcu==\"MXN\":\n",
    "            \n",
    "            sample.loc[sample[\"salary\"]==sal,\"salary\"]=sal*0.05\n",
    "            sample.loc[sample[\"salary_currency\"]==salcu,\"salary_currency\"]=\"USD\"\n",
    "        \n",
    "        elif salcu==\"CNY\":\n",
    "            \n",
    "            sample.loc[sample[\"salary\"]==sal,\"salary\"]=sal*0.15\n",
    "            sample.loc[sample[\"salary_currency\"]==salcu,\"salary_currency\"]=\"USD\"\n",
    "    \n",
    "    \n",
    "    if complc==\"EU\":\n",
    "        \n",
    "        if salcu==\"PLN\":\n",
    "            \n",
    "            sample.loc[sample[\"salary\"]==sal,\"salary\"]=sal*0.21\n",
    "            sample.loc[sample[\"salary_currency\"]==salcu,\"salary_currency\"]=\"EUR\"\n",
    "        \n",
    "        elif salcu==\"TRY\":\n",
    "            \n",
    "            sample.loc[sample[\"salary\"]==sal,\"salary\"]=sal*0.055\n",
    "            sample.loc[sample[\"salary_currency\"]==salcu,\"salary_currency\"]=\"EUR\"\n",
    "        \n",
    "        elif salcu==\"DKK\":\n",
    "            \n",
    "            sample.loc[sample[\"salary\"]==sal,\"salary\"]=sal*0.13\n",
    "            sample.loc[sample[\"salary_currency\"]==salcu,\"salary_currency\"]=\"EUR\"\n",
    "        \n",
    "        \n",
    "        elif salcu==\"CHF\":\n",
    "            \n",
    "            sample.loc[sample[\"salary\"]==sal,\"salary\"]=sal*1.04\n",
    "            sample.loc[sample[\"salary_currency\"]==salcu,\"salary_currency\"]=\"EUR\"\n",
    "    \n",
    "    \n",
    "    if complc==\"AS\":\n",
    "        \n",
    "        if salcu==\"SGD\":\n",
    "            \n",
    "            sample.loc[sample[\"salary\"]==sal,\"salary\"]=sal*0.72\n",
    "            sample.loc[sample[\"salary_currency\"]==salcu,\"salary_currency\"]=\"USD\"\n",
    "        \n",
    "        elif salcu==\"CNY\":\n",
    "            \n",
    "            sample.loc[sample[\"salary\"]==sal,\"salary\"]=sal*0.15\n",
    "            sample.loc[sample[\"salary_currency\"]==salcu,\"salary_currency\"]=\"USD\"\n",
    "    \n",
    "    \n",
    "    if complc==\"AF\":\n",
    "        \n",
    "        if salcu==\"BRL\":\n",
    "            \n",
    "            sample.loc[sample[\"salary\"]==sal,\"salary\"]=sal*0.20 \n",
    "            sample.loc[sample[\"salary_currency\"]==salcu,\"salary_currency\"]=\"USD\"\n",
    "            \n",
    "    \n",
    "    if complc==\"OT\":\n",
    "        \n",
    "        if salcu==\"AUD\":\n",
    "            \n",
    "            sample.loc[sample[\"salary\"]==sal,\"salary\"]=sal*0.69\n",
    "            sample.loc[sample[\"salary_currency\"]==salcu,\"salary_currency\"]=\"USD\"\n",
    "        \n",
    "            \n",
    "sample            "
   ]
  },
  {
   "cell_type": "code",
   "execution_count": null,
   "id": "0973cc21",
   "metadata": {},
   "outputs": [],
   "source": []
  },
  {
   "cell_type": "code",
   "execution_count": 57,
   "id": "581692a9",
   "metadata": {},
   "outputs": [
    {
     "data": {
      "text/html": [
       "<div>\n",
       "<style scoped>\n",
       "    .dataframe tbody tr th:only-of-type {\n",
       "        vertical-align: middle;\n",
       "    }\n",
       "\n",
       "    .dataframe tbody tr th {\n",
       "        vertical-align: top;\n",
       "    }\n",
       "\n",
       "    .dataframe thead th {\n",
       "        text-align: right;\n",
       "    }\n",
       "</style>\n",
       "<table border=\"1\" class=\"dataframe\">\n",
       "  <thead>\n",
       "    <tr style=\"text-align: right;\">\n",
       "      <th></th>\n",
       "      <th>work_year</th>\n",
       "      <th>experience_level</th>\n",
       "      <th>employment_type</th>\n",
       "      <th>job_title</th>\n",
       "      <th>salary</th>\n",
       "      <th>salary_currency</th>\n",
       "      <th>salary_in_usd</th>\n",
       "      <th>employee_residence</th>\n",
       "      <th>remote_ratio</th>\n",
       "      <th>company_location</th>\n",
       "      <th>company_size</th>\n",
       "    </tr>\n",
       "  </thead>\n",
       "  <tbody>\n",
       "    <tr>\n",
       "      <th>0</th>\n",
       "      <td>2020</td>\n",
       "      <td>MI</td>\n",
       "      <td>FT</td>\n",
       "      <td>Data Scientist</td>\n",
       "      <td>70000</td>\n",
       "      <td>EUR</td>\n",
       "      <td>79833</td>\n",
       "      <td>EU</td>\n",
       "      <td>0</td>\n",
       "      <td>EU</td>\n",
       "      <td>L</td>\n",
       "    </tr>\n",
       "    <tr>\n",
       "      <th>1</th>\n",
       "      <td>2020</td>\n",
       "      <td>SE</td>\n",
       "      <td>FT</td>\n",
       "      <td>Machine Learning Scientist</td>\n",
       "      <td>260000</td>\n",
       "      <td>USD</td>\n",
       "      <td>260000</td>\n",
       "      <td>AS</td>\n",
       "      <td>0</td>\n",
       "      <td>AS</td>\n",
       "      <td>S</td>\n",
       "    </tr>\n",
       "    <tr>\n",
       "      <th>2</th>\n",
       "      <td>2020</td>\n",
       "      <td>SE</td>\n",
       "      <td>FT</td>\n",
       "      <td>Big Data Engineer</td>\n",
       "      <td>85000</td>\n",
       "      <td>GBP</td>\n",
       "      <td>109024</td>\n",
       "      <td>EU</td>\n",
       "      <td>50</td>\n",
       "      <td>EU</td>\n",
       "      <td>M</td>\n",
       "    </tr>\n",
       "    <tr>\n",
       "      <th>3</th>\n",
       "      <td>2020</td>\n",
       "      <td>MI</td>\n",
       "      <td>FT</td>\n",
       "      <td>Product Data Analyst</td>\n",
       "      <td>20000</td>\n",
       "      <td>USD</td>\n",
       "      <td>20000</td>\n",
       "      <td>AM</td>\n",
       "      <td>0</td>\n",
       "      <td>AM</td>\n",
       "      <td>S</td>\n",
       "    </tr>\n",
       "    <tr>\n",
       "      <th>4</th>\n",
       "      <td>2020</td>\n",
       "      <td>SE</td>\n",
       "      <td>FT</td>\n",
       "      <td>Machine Learning Engineer</td>\n",
       "      <td>150000</td>\n",
       "      <td>USD</td>\n",
       "      <td>150000</td>\n",
       "      <td>AM</td>\n",
       "      <td>50</td>\n",
       "      <td>AM</td>\n",
       "      <td>L</td>\n",
       "    </tr>\n",
       "    <tr>\n",
       "      <th>...</th>\n",
       "      <td>...</td>\n",
       "      <td>...</td>\n",
       "      <td>...</td>\n",
       "      <td>...</td>\n",
       "      <td>...</td>\n",
       "      <td>...</td>\n",
       "      <td>...</td>\n",
       "      <td>...</td>\n",
       "      <td>...</td>\n",
       "      <td>...</td>\n",
       "      <td>...</td>\n",
       "    </tr>\n",
       "    <tr>\n",
       "      <th>602</th>\n",
       "      <td>2022</td>\n",
       "      <td>SE</td>\n",
       "      <td>FT</td>\n",
       "      <td>Data Engineer</td>\n",
       "      <td>154000</td>\n",
       "      <td>USD</td>\n",
       "      <td>154000</td>\n",
       "      <td>AM</td>\n",
       "      <td>100</td>\n",
       "      <td>AM</td>\n",
       "      <td>M</td>\n",
       "    </tr>\n",
       "    <tr>\n",
       "      <th>603</th>\n",
       "      <td>2022</td>\n",
       "      <td>SE</td>\n",
       "      <td>FT</td>\n",
       "      <td>Data Engineer</td>\n",
       "      <td>126000</td>\n",
       "      <td>USD</td>\n",
       "      <td>126000</td>\n",
       "      <td>AM</td>\n",
       "      <td>100</td>\n",
       "      <td>AM</td>\n",
       "      <td>M</td>\n",
       "    </tr>\n",
       "    <tr>\n",
       "      <th>604</th>\n",
       "      <td>2022</td>\n",
       "      <td>SE</td>\n",
       "      <td>FT</td>\n",
       "      <td>Data Analyst</td>\n",
       "      <td>129000</td>\n",
       "      <td>USD</td>\n",
       "      <td>129000</td>\n",
       "      <td>AM</td>\n",
       "      <td>0</td>\n",
       "      <td>AM</td>\n",
       "      <td>M</td>\n",
       "    </tr>\n",
       "    <tr>\n",
       "      <th>605</th>\n",
       "      <td>2022</td>\n",
       "      <td>SE</td>\n",
       "      <td>FT</td>\n",
       "      <td>Data Analyst</td>\n",
       "      <td>150000</td>\n",
       "      <td>USD</td>\n",
       "      <td>150000</td>\n",
       "      <td>AM</td>\n",
       "      <td>100</td>\n",
       "      <td>AM</td>\n",
       "      <td>M</td>\n",
       "    </tr>\n",
       "    <tr>\n",
       "      <th>606</th>\n",
       "      <td>2022</td>\n",
       "      <td>MI</td>\n",
       "      <td>FT</td>\n",
       "      <td>AI Scientist</td>\n",
       "      <td>200000</td>\n",
       "      <td>USD</td>\n",
       "      <td>200000</td>\n",
       "      <td>AS</td>\n",
       "      <td>100</td>\n",
       "      <td>AM</td>\n",
       "      <td>L</td>\n",
       "    </tr>\n",
       "  </tbody>\n",
       "</table>\n",
       "<p>563 rows × 11 columns</p>\n",
       "</div>"
      ],
      "text/plain": [
       "     work_year experience_level employment_type                   job_title  \\\n",
       "0         2020               MI              FT              Data Scientist   \n",
       "1         2020               SE              FT  Machine Learning Scientist   \n",
       "2         2020               SE              FT           Big Data Engineer   \n",
       "3         2020               MI              FT        Product Data Analyst   \n",
       "4         2020               SE              FT   Machine Learning Engineer   \n",
       "..         ...              ...             ...                         ...   \n",
       "602       2022               SE              FT               Data Engineer   \n",
       "603       2022               SE              FT               Data Engineer   \n",
       "604       2022               SE              FT                Data Analyst   \n",
       "605       2022               SE              FT                Data Analyst   \n",
       "606       2022               MI              FT                AI Scientist   \n",
       "\n",
       "     salary salary_currency  salary_in_usd employee_residence  remote_ratio  \\\n",
       "0     70000             EUR          79833                 EU             0   \n",
       "1    260000             USD         260000                 AS             0   \n",
       "2     85000             GBP         109024                 EU            50   \n",
       "3     20000             USD          20000                 AM             0   \n",
       "4    150000             USD         150000                 AM            50   \n",
       "..      ...             ...            ...                ...           ...   \n",
       "602  154000             USD         154000                 AM           100   \n",
       "603  126000             USD         126000                 AM           100   \n",
       "604  129000             USD         129000                 AM             0   \n",
       "605  150000             USD         150000                 AM           100   \n",
       "606  200000             USD         200000                 AS           100   \n",
       "\n",
       "    company_location company_size  \n",
       "0                 EU            L  \n",
       "1                 AS            S  \n",
       "2                 EU            M  \n",
       "3                 AM            S  \n",
       "4                 AM            L  \n",
       "..               ...          ...  \n",
       "602               AM            M  \n",
       "603               AM            M  \n",
       "604               AM            M  \n",
       "605               AM            M  \n",
       "606               AM            L  \n",
       "\n",
       "[563 rows x 11 columns]"
      ]
     },
     "execution_count": 57,
     "metadata": {},
     "output_type": "execute_result"
    }
   ],
   "source": [
    "for complc,salcu,sal in zip(data2[\"company_location\"],data2[\"salary_currency\"],data2[\"salary\"]):\n",
    "    \n",
    "    if complc==\"AM\":\n",
    "        \n",
    "        if salcu==\"CAD\":\n",
    "            \n",
    "            data2.loc[data2[\"salary\"]==sal,\"salary\"]=sal*0.77\n",
    "            data2.loc[data2[\"salary_currency\"]==salcu,\"salary_currency\"]=\"USD\"\n",
    "        \n",
    "        elif salcu==\"MXN\":\n",
    "            \n",
    "            data2.loc[data2[\"salary\"]==sal,\"salary\"]=sal*0.05\n",
    "            data2.loc[data2[\"salary_currency\"]==salcu,\"salary_currency\"]=\"USD\"\n",
    "        \n",
    "        elif salcu==\"CNY\":\n",
    "            \n",
    "            data2.loc[data2[\"salary\"]==sal,\"salary\"]=sal*0.15\n",
    "            data2.loc[data2[\"salary_currency\"]==salcu,\"salary_currency\"]=\"USD\"\n",
    "    \n",
    "    \n",
    "    if complc==\"EU\":\n",
    "        \n",
    "        if salcu==\"PLN\":\n",
    "            \n",
    "            data2.loc[data2[\"salary\"]==sal,\"salary\"]=sal*0.21\n",
    "            data2.loc[data2[\"salary_currency\"]==salcu,\"salary_currency\"]=\"EUR\"\n",
    "        \n",
    "        elif salcu==\"TRY\":\n",
    "            \n",
    "            data2.loc[data2[\"salary\"]==sal,\"salary\"]=sal*0.055\n",
    "            data2.loc[data2[\"salary_currency\"]==salcu,\"salary_currency\"]=\"EUR\"\n",
    "        \n",
    "        elif salcu==\"DKK\":\n",
    "            \n",
    "            data2.loc[data2[\"salary\"]==sal,\"salary\"]=sal*0.13\n",
    "            data2.loc[data2[\"salary_currency\"]==salcu,\"salary_currency\"]=\"EUR\"\n",
    "        \n",
    "        \n",
    "        elif salcu==\"CHF\":\n",
    "            \n",
    "            data2.loc[data2[\"salary\"]==sal,\"salary\"]=sal*1.04\n",
    "            data2.loc[data2[\"salary_currency\"]==salcu,\"salary_currency\"]=\"EUR\"\n",
    "    \n",
    "    \n",
    "    if complc==\"AS\":\n",
    "        \n",
    "        if salcu==\"SGD\":\n",
    "            \n",
    "            data2.loc[data2[\"salary\"]==sal,\"salary\"]=sal*0.72\n",
    "            data2.loc[data2[\"salary_currency\"]==salcu,\"salary_currency\"]=\"USD\"\n",
    "        \n",
    "        elif salcu==\"CNY\":\n",
    "            \n",
    "            data2.loc[data2[\"salary\"]==sal,\"salary\"]=sal*0.15\n",
    "            data2.loc[data2[\"salary_currency\"]==salcu,\"salary_currency\"]=\"USD\"\n",
    "    \n",
    "    \n",
    "    if complc==\"AF\":\n",
    "        \n",
    "        if salcu==\"BRL\":\n",
    "            \n",
    "            data1.loc[data1[\"salary\"]==sal,\"salary\"]=sal*0.20 \n",
    "            data1.loc[data1[\"salary_currency\"]==salcu,\"salary_currency\"]=\"USD\"\n",
    "            \n",
    "    \n",
    "    if complc==\"OT\":\n",
    "        \n",
    "        if salcu==\"AUD\":\n",
    "            \n",
    "            data2.loc[data2[\"salary\"]==sal,\"salary\"]=sal*0.69\n",
    "            data2.loc[data2[\"salary_currency\"]==salcu,\"salary_currency\"]=\"USD\"\n",
    "        \n",
    "            \n",
    "data2            "
   ]
  },
  {
   "cell_type": "code",
   "execution_count": 75,
   "id": "8cc76885",
   "metadata": {},
   "outputs": [],
   "source": []
  },
  {
   "cell_type": "code",
   "execution_count": 76,
   "id": "71eec627",
   "metadata": {},
   "outputs": [
    {
     "data": {
      "text/plain": [
       "USD    415\n",
       "EUR    104\n",
       "GBP     44\n",
       "Name: salary_currency, dtype: int64"
      ]
     },
     "execution_count": 76,
     "metadata": {},
     "output_type": "execute_result"
    }
   ],
   "source": [
    "data2[\"salary_currency\"].value_counts()"
   ]
  },
  {
   "cell_type": "code",
   "execution_count": null,
   "id": "9510b2e0",
   "metadata": {},
   "outputs": [],
   "source": []
  },
  {
   "cell_type": "markdown",
   "id": "6f48b2fc",
   "metadata": {},
   "source": [
    "# Jobs grouping w.r.t. Domain"
   ]
  },
  {
   "cell_type": "code",
   "execution_count": null,
   "id": "fb218c50",
   "metadata": {},
   "outputs": [],
   "source": []
  },
  {
   "cell_type": "code",
   "execution_count": 59,
   "id": "b793ad1e",
   "metadata": {},
   "outputs": [
    {
     "name": "stdout",
     "output_type": "stream",
     "text": [
      "183\n",
      "124\n",
      "62\n",
      "149\n",
      "45\n"
     ]
    }
   ],
   "source": [
    "ds=[]\n",
    "da=[]\n",
    "ml=[]\n",
    "de=[]\n",
    "other=[]\n",
    "\n",
    "for job in data2[\"job_title\"]:\n",
    "    \n",
    "    if 'Data Scientist' in job or  'Data Science' in job or 'NLP' in job or 'Computer Vision' in job:\n",
    "        \n",
    "        ds.append(job)\n",
    "    \n",
    "    elif  'Data Engineer' in job:\n",
    "        \n",
    "        de.append(job)\n",
    "    \n",
    "    elif  'Data Analyst' in job or  'Data Analytics' in job:\n",
    "        \n",
    "        da.append(job)\n",
    "    \n",
    "    elif  'Machine Learning' in job or 'ML'  in job:\n",
    "        \n",
    "        ml.append(job)\n",
    "    \n",
    "    else:\n",
    "        \n",
    "        other.append(job)\n",
    "\n",
    "print(len(ds))\n",
    "print(len(da))\n",
    "print(len(ml))\n",
    "print(len(de))\n",
    "print(len(other))"
   ]
  },
  {
   "cell_type": "code",
   "execution_count": null,
   "id": "a2da1611",
   "metadata": {},
   "outputs": [],
   "source": []
  },
  {
   "cell_type": "code",
   "execution_count": 60,
   "id": "5608fbe5",
   "metadata": {},
   "outputs": [
    {
     "data": {
      "text/html": [
       "<div>\n",
       "<style scoped>\n",
       "    .dataframe tbody tr th:only-of-type {\n",
       "        vertical-align: middle;\n",
       "    }\n",
       "\n",
       "    .dataframe tbody tr th {\n",
       "        vertical-align: top;\n",
       "    }\n",
       "\n",
       "    .dataframe thead th {\n",
       "        text-align: right;\n",
       "    }\n",
       "</style>\n",
       "<table border=\"1\" class=\"dataframe\">\n",
       "  <thead>\n",
       "    <tr style=\"text-align: right;\">\n",
       "      <th></th>\n",
       "      <th>work_year</th>\n",
       "      <th>experience_level</th>\n",
       "      <th>employment_type</th>\n",
       "      <th>job_title</th>\n",
       "      <th>salary</th>\n",
       "      <th>salary_currency</th>\n",
       "      <th>salary_in_usd</th>\n",
       "      <th>employee_residence</th>\n",
       "      <th>remote_ratio</th>\n",
       "      <th>company_location</th>\n",
       "      <th>company_size</th>\n",
       "    </tr>\n",
       "  </thead>\n",
       "  <tbody>\n",
       "    <tr>\n",
       "      <th>0</th>\n",
       "      <td>2020</td>\n",
       "      <td>MI</td>\n",
       "      <td>FT</td>\n",
       "      <td>DSC</td>\n",
       "      <td>70000</td>\n",
       "      <td>EUR</td>\n",
       "      <td>79833</td>\n",
       "      <td>EU</td>\n",
       "      <td>0</td>\n",
       "      <td>EU</td>\n",
       "      <td>L</td>\n",
       "    </tr>\n",
       "    <tr>\n",
       "      <th>1</th>\n",
       "      <td>2020</td>\n",
       "      <td>SE</td>\n",
       "      <td>FT</td>\n",
       "      <td>ML</td>\n",
       "      <td>260000</td>\n",
       "      <td>USD</td>\n",
       "      <td>260000</td>\n",
       "      <td>AS</td>\n",
       "      <td>0</td>\n",
       "      <td>AS</td>\n",
       "      <td>S</td>\n",
       "    </tr>\n",
       "    <tr>\n",
       "      <th>2</th>\n",
       "      <td>2020</td>\n",
       "      <td>SE</td>\n",
       "      <td>FT</td>\n",
       "      <td>DEN</td>\n",
       "      <td>85000</td>\n",
       "      <td>GBP</td>\n",
       "      <td>109024</td>\n",
       "      <td>EU</td>\n",
       "      <td>50</td>\n",
       "      <td>EU</td>\n",
       "      <td>M</td>\n",
       "    </tr>\n",
       "    <tr>\n",
       "      <th>3</th>\n",
       "      <td>2020</td>\n",
       "      <td>MI</td>\n",
       "      <td>FT</td>\n",
       "      <td>DAN</td>\n",
       "      <td>20000</td>\n",
       "      <td>USD</td>\n",
       "      <td>20000</td>\n",
       "      <td>AM</td>\n",
       "      <td>0</td>\n",
       "      <td>AM</td>\n",
       "      <td>S</td>\n",
       "    </tr>\n",
       "    <tr>\n",
       "      <th>4</th>\n",
       "      <td>2020</td>\n",
       "      <td>SE</td>\n",
       "      <td>FT</td>\n",
       "      <td>ML</td>\n",
       "      <td>150000</td>\n",
       "      <td>USD</td>\n",
       "      <td>150000</td>\n",
       "      <td>AM</td>\n",
       "      <td>50</td>\n",
       "      <td>AM</td>\n",
       "      <td>L</td>\n",
       "    </tr>\n",
       "    <tr>\n",
       "      <th>...</th>\n",
       "      <td>...</td>\n",
       "      <td>...</td>\n",
       "      <td>...</td>\n",
       "      <td>...</td>\n",
       "      <td>...</td>\n",
       "      <td>...</td>\n",
       "      <td>...</td>\n",
       "      <td>...</td>\n",
       "      <td>...</td>\n",
       "      <td>...</td>\n",
       "      <td>...</td>\n",
       "    </tr>\n",
       "    <tr>\n",
       "      <th>602</th>\n",
       "      <td>2022</td>\n",
       "      <td>SE</td>\n",
       "      <td>FT</td>\n",
       "      <td>DEN</td>\n",
       "      <td>154000</td>\n",
       "      <td>USD</td>\n",
       "      <td>154000</td>\n",
       "      <td>AM</td>\n",
       "      <td>100</td>\n",
       "      <td>AM</td>\n",
       "      <td>M</td>\n",
       "    </tr>\n",
       "    <tr>\n",
       "      <th>603</th>\n",
       "      <td>2022</td>\n",
       "      <td>SE</td>\n",
       "      <td>FT</td>\n",
       "      <td>DEN</td>\n",
       "      <td>126000</td>\n",
       "      <td>USD</td>\n",
       "      <td>126000</td>\n",
       "      <td>AM</td>\n",
       "      <td>100</td>\n",
       "      <td>AM</td>\n",
       "      <td>M</td>\n",
       "    </tr>\n",
       "    <tr>\n",
       "      <th>604</th>\n",
       "      <td>2022</td>\n",
       "      <td>SE</td>\n",
       "      <td>FT</td>\n",
       "      <td>DAN</td>\n",
       "      <td>129000</td>\n",
       "      <td>USD</td>\n",
       "      <td>129000</td>\n",
       "      <td>AM</td>\n",
       "      <td>0</td>\n",
       "      <td>AM</td>\n",
       "      <td>M</td>\n",
       "    </tr>\n",
       "    <tr>\n",
       "      <th>605</th>\n",
       "      <td>2022</td>\n",
       "      <td>SE</td>\n",
       "      <td>FT</td>\n",
       "      <td>DAN</td>\n",
       "      <td>150000</td>\n",
       "      <td>USD</td>\n",
       "      <td>150000</td>\n",
       "      <td>AM</td>\n",
       "      <td>100</td>\n",
       "      <td>AM</td>\n",
       "      <td>M</td>\n",
       "    </tr>\n",
       "    <tr>\n",
       "      <th>606</th>\n",
       "      <td>2022</td>\n",
       "      <td>MI</td>\n",
       "      <td>FT</td>\n",
       "      <td>OT</td>\n",
       "      <td>200000</td>\n",
       "      <td>USD</td>\n",
       "      <td>200000</td>\n",
       "      <td>AS</td>\n",
       "      <td>100</td>\n",
       "      <td>AM</td>\n",
       "      <td>L</td>\n",
       "    </tr>\n",
       "  </tbody>\n",
       "</table>\n",
       "<p>563 rows × 11 columns</p>\n",
       "</div>"
      ],
      "text/plain": [
       "     work_year experience_level employment_type job_title  salary  \\\n",
       "0         2020               MI              FT       DSC   70000   \n",
       "1         2020               SE              FT        ML  260000   \n",
       "2         2020               SE              FT       DEN   85000   \n",
       "3         2020               MI              FT       DAN   20000   \n",
       "4         2020               SE              FT        ML  150000   \n",
       "..         ...              ...             ...       ...     ...   \n",
       "602       2022               SE              FT       DEN  154000   \n",
       "603       2022               SE              FT       DEN  126000   \n",
       "604       2022               SE              FT       DAN  129000   \n",
       "605       2022               SE              FT       DAN  150000   \n",
       "606       2022               MI              FT        OT  200000   \n",
       "\n",
       "    salary_currency  salary_in_usd employee_residence  remote_ratio  \\\n",
       "0               EUR          79833                 EU             0   \n",
       "1               USD         260000                 AS             0   \n",
       "2               GBP         109024                 EU            50   \n",
       "3               USD          20000                 AM             0   \n",
       "4               USD         150000                 AM            50   \n",
       "..              ...            ...                ...           ...   \n",
       "602             USD         154000                 AM           100   \n",
       "603             USD         126000                 AM           100   \n",
       "604             USD         129000                 AM             0   \n",
       "605             USD         150000                 AM           100   \n",
       "606             USD         200000                 AS           100   \n",
       "\n",
       "    company_location company_size  \n",
       "0                 EU            L  \n",
       "1                 AS            S  \n",
       "2                 EU            M  \n",
       "3                 AM            S  \n",
       "4                 AM            L  \n",
       "..               ...          ...  \n",
       "602               AM            M  \n",
       "603               AM            M  \n",
       "604               AM            M  \n",
       "605               AM            M  \n",
       "606               AM            L  \n",
       "\n",
       "[563 rows x 11 columns]"
      ]
     },
     "execution_count": 60,
     "metadata": {},
     "output_type": "execute_result"
    }
   ],
   "source": [
    "for res in data2[\"job_title\"]:\n",
    "    \n",
    "    chk=0\n",
    "    \n",
    "    for dsc in ds:\n",
    "        \n",
    "        if res==dsc:\n",
    "            \n",
    "            data2.loc[data2[\"job_title\"]==res,\"job_title\"]=\"DSC\"\n",
    "            chk=1\n",
    "            break\n",
    "    \n",
    "    if chk==1:\n",
    "        \n",
    "        continue\n",
    "    \n",
    "    \n",
    "    for dan in da:\n",
    "        \n",
    "        if res==dan:\n",
    "            \n",
    "            data2.loc[data2[\"job_title\"]==res,\"job_title\"]=\"DAN\"\n",
    "            chk=1\n",
    "            break\n",
    "    \n",
    "    if chk==1:\n",
    "        \n",
    "        continue\n",
    "    \n",
    "    \n",
    "    for m in ml:\n",
    "        \n",
    "        if res==m:\n",
    "            \n",
    "            data2.loc[data2[\"job_title\"]==res,\"job_title\"]=\"ML\"\n",
    "            chk=1\n",
    "            break\n",
    "    \n",
    "    if chk==1:\n",
    "        \n",
    "        continue\n",
    "    \n",
    "    \n",
    "    for den in de:\n",
    "        \n",
    "        if res==den:\n",
    "            \n",
    "            data2.loc[data2[\"job_title\"]==res,\"job_title\"]=\"DEN\"\n",
    "            chk=1\n",
    "            break\n",
    "    \n",
    "    if chk==1:\n",
    "        \n",
    "        continue\n",
    "    \n",
    "    for ot in other:\n",
    "        \n",
    "        if res==ot:\n",
    "            \n",
    "            data2.loc[data2[\"job_title\"]==res,\"job_title\"]=\"OT\"\n",
    "            chk=1\n",
    "            break\n",
    "    \n",
    "    if chk==1:\n",
    "        \n",
    "        continue\n",
    "    \n",
    "    \n",
    "        \n",
    "data2        "
   ]
  },
  {
   "cell_type": "code",
   "execution_count": null,
   "id": "526ea655",
   "metadata": {},
   "outputs": [],
   "source": []
  },
  {
   "cell_type": "code",
   "execution_count": 62,
   "id": "8466c338",
   "metadata": {},
   "outputs": [
    {
     "data": {
      "text/plain": [
       "DSC    183\n",
       "DEN    149\n",
       "DAN    124\n",
       "ML      62\n",
       "OT      45\n",
       "Name: job_title, dtype: int64"
      ]
     },
     "execution_count": 62,
     "metadata": {},
     "output_type": "execute_result"
    }
   ],
   "source": [
    "data2[\"job_title\"].value_counts()"
   ]
  },
  {
   "cell_type": "code",
   "execution_count": null,
   "id": "7894450f",
   "metadata": {},
   "outputs": [],
   "source": []
  },
  {
   "cell_type": "code",
   "execution_count": 71,
   "id": "69a63fad",
   "metadata": {},
   "outputs": [
    {
     "data": {
      "image/png": "[encoded data removed]",
      "text/plain": [
       "<Figure size 432x288 with 1 Axes>"
      ]
     },
     "metadata": {
      "needs_background": "light"
     },
     "output_type": "display_data"
    }
   ],
   "source": [
    "plt.hist(data2[\"employee_residence\"])\n",
    "plt.title(\"Job Applications\")\n",
    "plt.show()"
   ]
  },
  {
   "cell_type": "code",
   "execution_count": null,
   "id": "9cb3b262",
   "metadata": {},
   "outputs": [],
   "source": []
  },
  {
   "cell_type": "raw",
   "id": "6e0a0ea1",
   "metadata": {},
   "source": [
    "Maximum Job applications are from America (Around 350)\n",
    "Around 150 Job applications are from Europe\n",
    "Less than 25 Job applications are from Asia\n",
    "Very few  Job applications are from Africa,Australia and New zealand"
   ]
  },
  {
   "cell_type": "code",
   "execution_count": null,
   "id": "58e9bc99",
   "metadata": {},
   "outputs": [],
   "source": []
  },
  {
   "cell_type": "code",
   "execution_count": 74,
   "id": "55806f3f",
   "metadata": {},
   "outputs": [
    {
     "data": {
      "image/png": "[encoded data removed]",
      "text/plain": [
       "<Figure size 432x288 with 1 Axes>"
      ]
     },
     "metadata": {
      "needs_background": "light"
     },
     "output_type": "display_data"
    }
   ],
   "source": [
    "plt.hist(data2[\"company_location\"])\n",
    "plt.title(\"Head office of Companies\")\n",
    "plt.show()"
   ]
  },
  {
   "cell_type": "code",
   "execution_count": null,
   "id": "53abfefc",
   "metadata": {},
   "outputs": [],
   "source": []
  },
  {
   "cell_type": "raw",
   "id": "fe7d3257",
   "metadata": {},
   "source": [
    "Maximum head office of companies are in America (Around 350)\n",
    "Around 150  head office of companies are in Europe\n",
    "Less than 25  head office of companies are in Asia\n",
    "Very few  head office of companies are in Africa,Australia and New zealand"
   ]
  },
  {
   "cell_type": "code",
   "execution_count": null,
   "id": "25a1dbf0",
   "metadata": {},
   "outputs": [],
   "source": []
  },
  {
   "cell_type": "code",
   "execution_count": 77,
   "id": "1eb8bc73",
   "metadata": {},
   "outputs": [
    {
     "data": {
      "image/png": "[encoded data removed]",
      "text/plain": [
       "<Figure size 432x288 with 1 Axes>"
      ]
     },
     "metadata": {
      "needs_background": "light"
     },
     "output_type": "display_data"
    }
   ],
   "source": [
    "plt.hist(data2[\"job_title\"])\n",
    "plt.title(\"Job Profile\")\n",
    "plt.show()"
   ]
  },
  {
   "cell_type": "code",
   "execution_count": null,
   "id": "1cbb29c7",
   "metadata": {},
   "outputs": [],
   "source": []
  },
  {
   "cell_type": "raw",
   "id": "e23e8c4a",
   "metadata": {},
   "source": [
    "Close to 175 jobs are for Data Science\n",
    "Around 60 jobs are for ML\n",
    "150 jobs are for Data Engineer\n",
    "125 jobs are for Data Analytics\n",
    "50 jobs are other job profiles like Research Scientist,AI Scientist,Data Acrhitect"
   ]
  },
  {
   "cell_type": "code",
   "execution_count": null,
   "id": "72559825",
   "metadata": {},
   "outputs": [],
   "source": []
  },
  {
   "cell_type": "code",
   "execution_count": 82,
   "id": "21c70dca",
   "metadata": {},
   "outputs": [
    {
     "data": {
      "image/png": "[encoded data removed]",
      "text/plain": [
       "<Figure size 432x288 with 1 Axes>"
      ]
     },
     "metadata": {
      "needs_background": "light"
     },
     "output_type": "display_data"
    }
   ],
   "source": [
    "sns.barplot(x=\"job_title\",y=\"salary_in_usd\",data=data2,)\n",
    "\n",
    "plt.xlabel(\"job_title\")\n",
    "\n",
    "plt.ylabel(\"salary_in_usd\")\n",
    "\n",
    "plt.title(\"job_title V/S salary_in_usd\")\n",
    "\n",
    "\n",
    "plt.show()"
   ]
  },
  {
   "cell_type": "code",
   "execution_count": null,
   "id": "7c4183d1",
   "metadata": {},
   "outputs": [],
   "source": []
  },
  {
   "cell_type": "raw",
   "id": "97d66c3d",
   "metadata": {},
   "source": [
    "Salary for Data Science,Data Analyst, Data Engineer,Research Scientist,AI Scientist,Data Acrhitect job domains etc is around\n",
    "$120,000 \n",
    "Salary for ML job domain etc is around $90,000 "
   ]
  },
  {
   "cell_type": "code",
   "execution_count": null,
   "id": "2a6c27e3",
   "metadata": {},
   "outputs": [],
   "source": []
  },
  {
   "cell_type": "code",
   "execution_count": 84,
   "id": "35051ca8",
   "metadata": {},
   "outputs": [
    {
     "data": {
      "image/png": "[encoded data removed]",
      "text/plain": [
       "<Figure size 432x288 with 1 Axes>"
      ]
     },
     "metadata": {
      "needs_background": "light"
     },
     "output_type": "display_data"
    }
   ],
   "source": [
    "sns.barplot(x=\"company_location\",y=\"salary_in_usd\",data=data2,hue=\"job_title\")\n",
    "\n",
    "plt.xlabel(\"company_location\")\n",
    "\n",
    "plt.ylabel(\"salary_in_usd\")\n",
    "\n",
    "plt.title(\"company_location V/S salary_in_usd\")\n",
    "\n",
    "\n",
    "plt.show()"
   ]
  },
  {
   "cell_type": "code",
   "execution_count": null,
   "id": "77a1baab",
   "metadata": {},
   "outputs": [],
   "source": []
  },
  {
   "cell_type": "raw",
   "id": "18fc090a",
   "metadata": {},
   "source": [
    "In Europe highest salary is for data science jobs (close to $75K). Overall salary varies in range of $50K to $100K\n",
    "In Asia highest salary is for jobs like Research Scientist,AI Scientist,Data Acrhitect (close to $150K). Overall salary varies\n",
    "in range of $5K to $150K\n",
    "In Australia and New zealand highest salary is for data Engineer jobs (close to $125K). Overall salary varies in range of\n",
    "$75K to $125K\n",
    "In America highest salary is for ML jobs (close to $150K). Overall salary varies in range of $100K to $150K\n",
    "In Africa highest salary is for data science jobs (little less than $50K). Overall salary varies in range of $10K to $50K"
   ]
  },
  {
   "cell_type": "code",
   "execution_count": null,
   "id": "bd3e8a1f",
   "metadata": {},
   "outputs": [],
   "source": []
  },
  {
   "cell_type": "markdown",
   "id": "6e42c13b",
   "metadata": {},
   "source": [
    "# My Observation"
   ]
  },
  {
   "cell_type": "code",
   "execution_count": null,
   "id": "f91f66c6",
   "metadata": {},
   "outputs": [],
   "source": []
  },
  {
   "cell_type": "raw",
   "id": "ac0389fb",
   "metadata": {},
   "source": [
    "The data is about recently paid salaries(In year 2020-2022)\n",
    "Maximum amount of Salaries were Paid in the year 2020(close to 300)\n",
    "Close to 180 salaries  were paid in 2021\n",
    "Very few salaries were paid in the year 2022(close to 50)\n",
    "Most of the experience level in jobs are mid-level juniors and intermediate senior level\n",
    "Some jobs are of Entry level experience \n",
    "There are very few jobs for Executive/Director level \n",
    "Almost all jobs are Full Time\n",
    "Very less job profiles on Part-Time,Contract and Freelance Basis \n",
    "\n",
    "Top 10 most frequent job titles in decreasing order are:\n",
    "\n",
    "1) Data Scientist\n",
    "\n",
    "2) Data Engineer\n",
    "\n",
    "3) Data Analyst\n",
    "\n",
    "4) Machine Learning Engineer\n",
    "\n",
    "5) Research Scientist \n",
    "\n",
    "6) Data Architect \n",
    "\n",
    "7) Data Science Manager\n",
    "\n",
    "8) Data Analytics Manager\n",
    "\n",
    "9) Lead Data Engineer \n",
    "\n",
    "10) Director of Data Science \n",
    "\n",
    "\n",
    "Top 10 countries w.r.t employee's primary residence during work year\n",
    "\n",
    "1) USA\n",
    "2) UK\n",
    "3) Canada\n",
    "4) Germany\n",
    "5) France\n",
    "6) Spain\n",
    "7) Greece\n",
    "8) Brazil\n",
    "9) Portugal\n",
    "10) Netherlands\n",
    "\n",
    "\n",
    "Top 10 countries w.r.t employer's main office or contracting branch\n",
    "\n",
    "1) USA\n",
    "2) UK\n",
    "3) Canada\n",
    "4) Germany\n",
    "5) France\n",
    "6) Spain\n",
    "7) Greece\n",
    "8) Brazil\n",
    "9) Poland\n",
    "10)Netherlands \n",
    "\n",
    "\n",
    "Most of the salaries are paid in Euros(close to 400)\n",
    "Some are paid in USD(Close to 100) and Pounds(Close to 50)\n",
    "Very few jobs have their salaries paid in Yuan,Canadian Dollar,Danish Krone, Chilean Peso etc.\n",
    "Maximum amount of jobs have 0% remote work(Around 350)\n",
    "Around 125 jobs have 50% remote work\n",
    "And around 80 jobs have 100% remote work\n",
    "Maximum amount of companies(approx 300) are large companies with more than 250 employees \n",
    "Close to 150 companies are Small companies with less than 50 employees \n",
    "Close to 50 companies are medium companies with more 50 to 250 employees \n",
    "Maximum amount of salaries is offered by Large companies. The highest salaries were paid by the companies in 2021 and lowest in 2022, ranging from 400,000 to 800,000\n",
    "Medium companies paid highest salaries in 2021 . In 2020-2022 salary ranges from 100,000 to 500,000\n",
    "Small companies also paid the highest salaries in 2021 . In 2020-2022 salary ranges from 100,000 to 200,000\n",
    "\n",
    "In year 2020 Medium - sized companies paid the highest salary in usd\n",
    "\n",
    "In years 2021-2022 and Large size companies paid the highest salary in usd\n",
    "\n",
    "In year 2020 salaries paid are by all 3 companies:\n",
    "    \n",
    "L: $100,000\n",
    "S: Little less than $75,000\n",
    "M: close to $112,500\n",
    "\n",
    "In year 2021 salaries paid are by all 3 companies:\n",
    "    \n",
    "L: Little less than $135,500\n",
    "S: Litte more than $75,000\n",
    "M: close to $112,500\n",
    "\n",
    "In year 2020 salaries paid are by all 3 companies:\n",
    "    \n",
    "L: Little less than $150,500\n",
    "S: Little less than $75,000\n",
    "M: close to $112,500\n",
    "    \n",
    "    \n",
    "About 70% of remote work is done  in  large companies in all 3 years\n",
    "Approx. 60% to 80% of remote work is done  in  Small companies in all 3 years , increased with time\n",
    "Approx. 60% to 75% of remote work is done  in  Medium companies in all 3 years\n",
    "Salaries for Entry level employees is the least in large companies\n",
    "Overall highest amount salaries are paid by Large companies and lowest by medium companies\n",
    "Medium and small companies are at par and pay less salaries to Expert and Senior level employees\n",
    "There is very less difference between salaries of Large and small companies for mid-level employees\n",
    "There is very less difference between salaries of mid-level and expert level employees in Large companies\n",
    "In USD :\n",
    "\n",
    "Highest salaries is offered to expert level employees and least for entry-level employees in all companies\n",
    "Not much difference between salaries of mid level employees in Medium and Large companies\n",
    "Not much difference between salaries of entry level employees in all companies\n",
    "Small companies offer slightly less salary to mid-level employees as compared to entry level companies\n",
    "Salary of Expert level employees offered by all companies ranges from approx. $200K to $250K\n",
    "Salary of Mid level employees offered by all companies ranges from approx. $50K to $100K\n",
    "Salary of Senior level employees offered by all companies ranges from approx. $100K to $150K\n",
    "Salary of Entry level employees offered by all companies ranges is $50K and less\n",
    "\n",
    "All companies have remote_ratio of 60 and above\n",
    "\n",
    "For mid-level employees:\n",
    "    \n",
    "Large companies offer remote_ratio of 70\n",
    "Small and medium  companies offer remote_ratio of close to 60\n",
    "\n",
    "For senior-level employees:\n",
    "    \n",
    "Large companies offer remote_ratio of little more than 60\n",
    "Small companies offer remote_ratio of close to 70\n",
    "Medium companies offer remote_ratio of close to 80\n",
    "\n",
    "For entry-level employees:\n",
    "    \n",
    "Large and medium companies offer remote_ratio of close to 70\n",
    "Small company offer remote_ratio of close to 60\n",
    "\n",
    "\n",
    "For expert-level employees:\n",
    "    \n",
    "Large companies offer remote_ratio of little more than 60\n",
    "Small companies offer 100 remote_ratio \n",
    "Medium companies offer remote_ratio of close to 70\n",
    "\n",
    "\n",
    "Out top 10 most frequent job_title\n",
    "\n",
    "5 most highly paid job_titles:\n",
    "\n",
    "Data Architect\n",
    "\n",
    "Data Scientist Manager\n",
    "\n",
    "Director of Data Science\n",
    "\n",
    "Machine Learning Engineer\n",
    "\n",
    "Data Analytics Manager\n",
    "\n",
    "\n",
    "For Data Architect,Data Science Manager and Data Analytics Manager remote ratio ranges from 80% to 100%\n",
    "For Data Scientist,Data Engineer,Data Analyst,Ml Engineer ,Ml Scientist and Lead Data Engineer\n",
    "remote ratio ranges from 60% to 80%\n",
    "Research Scientist have remote ratio between 50% to 60%\n",
    "Director of Data Science have least remote_ratio of around 30%\n",
    "Lowest Amount of salary in usd is offered by small companies\n",
    "Medium companies offers slightly higher salary in usd  than large companies\n",
    "\n",
    "Maximum Job applications are from America (Around 350)\n",
    "Around 150 Job applications are from Europe\n",
    "Less than 25 Job applications are from Asia\n",
    "Very few  Job applications are from Africa,Australia and New zealand\n",
    "Maximum head office of companies are in America (Around 350)\n",
    "Around 150  head office of companies are in Europe\n",
    "Less than 25  head office of companies are in Asia\n",
    "Very few  head office of companies are in Africa,Australia and New zealand\n",
    "Salary for Data Science,Data Analyst, Data Engineer,Research Scientist,AI Scientist,Data Acrhitect job domains etc is around\n",
    "$120,000 \n",
    "Salary for ML job domain etc is around $90,000 \n",
    "In Europe highest salary is for data science jobs (close to $75K). Overall salary varies in range of $50K to $100K\n",
    "In Asia highest salary is for jobs like Research Scientist,AI Scientist,Data Acrhitect (close to $150K). Overall salary varies\n",
    "in range of $5K to $150K\n",
    "In Australia and New zealand highest salary is for data Engineer jobs (close to $125K). Overall salary varies in range of\n",
    "$75K to $125K\n",
    "In America highest salary is for ML jobs (close to $150K). Overall salary varies in range of $100K to $150K\n",
    "In Africa highest salary is for data science jobs (little less than $50K). Overall salary varies in range of $10K to $50K\n",
    "\n",
    "Salary and Salary_in_usd are highly positively correlated to each other\n",
    "However other features also play a quite important role in determining them\n"
   ]
  }
 ],
 "metadata": {
  "kernelspec": {
   "display_name": "Python 3 (ipykernel)",
   "language": "python",
   "name": "python3"
  },
  "language_info": {
   "codemirror_mode": {
    "name": "ipython",
    "version": 3
   },
   "file_extension": ".py",
   "mimetype": "text/x-python",
   "name": "python",
   "nbconvert_exporter": "python",
   "pygments_lexer": "ipython3",
   "version": "3.9.7"
  }
 },
 "nbformat": 4,
 "nbformat_minor": 5
}
