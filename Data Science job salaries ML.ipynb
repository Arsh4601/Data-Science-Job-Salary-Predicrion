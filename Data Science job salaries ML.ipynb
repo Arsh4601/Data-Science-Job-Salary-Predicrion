{
 "cells": [
  {
   "cell_type": "markdown",
   "id": "50fddd4e",
   "metadata": {},
   "source": [
    "# Data Analysis of Dataset"
   ]
  },
  {
   "cell_type": "code",
   "execution_count": null,
   "id": "0a2686b3",
   "metadata": {},
   "outputs": [],
   "source": []
  },
  {
   "cell_type": "raw",
   "id": "9c144c5c",
   "metadata": {},
   "source": [
    "The data is about recently paid salaries(In year 2020-2022)\n",
    "Maximum amount of Salaries were Paid in the year 2020(close to 300)\n",
    "Close to 180 salaries  were paid in 2021\n",
    "Very few salaries were paid in the year 2022(close to 50)\n",
    "Most of the experience level in jobs are mid-level juniors and intermediate senior level\n",
    "Some jobs are of Entry level experience \n",
    "There are very few jobs for Executive/Director level \n",
    "Almost all jobs are Full Time\n",
    "Very less job profiles on Part-Time,Contract and Freelance Basis \n",
    "\n",
    "Top 10 most frequent job titles in decreasing order are:\n",
    "\n",
    "1) Data Scientist\n",
    "\n",
    "2) Data Engineer\n",
    "\n",
    "3) Data Analyst\n",
    "\n",
    "4) Machine Learning Engineer\n",
    "\n",
    "5) Research Scientist \n",
    "\n",
    "6) Data Architect \n",
    "\n",
    "7) Data Science Manager\n",
    "\n",
    "8) Data Analytics Manager\n",
    "\n",
    "9) Lead Data Engineer \n",
    "\n",
    "10) Director of Data Science \n",
    "\n",
    "\n",
    "Top 10 countries w.r.t employee's primary residence during work year\n",
    "\n",
    "1) USA\n",
    "2) UK\n",
    "3) Canada\n",
    "4) Germany\n",
    "5) France\n",
    "6) Spain\n",
    "7) Greece\n",
    "8) Brazil\n",
    "9) Portugal\n",
    "10) Netherlands\n",
    "\n",
    "\n",
    "Top 10 countries w.r.t employer's main office or contracting branch\n",
    "\n",
    "1) USA\n",
    "2) UK\n",
    "3) Canada\n",
    "4) Germany\n",
    "5) France\n",
    "6) Spain\n",
    "7) Greece\n",
    "8) Brazil\n",
    "9) Poland\n",
    "10)Netherlands \n",
    "\n",
    "\n",
    "Most of the salaries are paid in Euros(close to 400)\n",
    "Some are paid in USD(Close to 100) and Pounds(Close to 50)\n",
    "Very few jobs have their salaries paid in Yuan,Canadian Dollar,Danish Krone, Chilean Peso etc.\n",
    "Maximum amount of jobs have 0% remote work(Around 350)\n",
    "Around 125 jobs have 50% remote work\n",
    "And around 80 jobs have 100% remote work\n",
    "Maximum amount of companies(approx 300) are large companies with more than 250 employees \n",
    "Close to 150 companies are Small companies with less than 50 employees \n",
    "Close to 50 companies are medium companies with more 50 to 250 employees \n",
    "Maximum amount of salaries is offered by Large companies. The highest salaries were paid by the companies in 2021 and lowest in 2022, ranging from 400,000 to 800,000\n",
    "Medium companies paid highest salaries in 2021 . In 2020-2022 salary ranges from 100,000 to 500,000\n",
    "Small companies also paid the highest salaries in 2021 . In 2020-2022 salary ranges from 100,000 to 200,000\n",
    "\n",
    "In year 2020 Medium - sized companies paid the highest salary in usd\n",
    "\n",
    "In years 2021-2022 and Large size companies paid the highest salary in usd\n",
    "\n",
    "In year 2020 salaries paid are by all 3 companies:\n",
    "    \n",
    "L: $100,000\n",
    "S: Little less than $75,000\n",
    "M: close to $112,500\n",
    "\n",
    "In year 2021 salaries paid are by all 3 companies:\n",
    "    \n",
    "L: Little less than $135,500\n",
    "S: Litte more than $75,000\n",
    "M: close to $112,500\n",
    "\n",
    "In year 2020 salaries paid are by all 3 companies:\n",
    "    \n",
    "L: Little less than $150,500\n",
    "S: Little less than $75,000\n",
    "M: close to $112,500\n",
    "    \n",
    "    \n",
    "About 70% of remote work is done  in  large companies in all 3 years\n",
    "Approx. 60% to 80% of remote work is done  in  Small companies in all 3 years , increased with time\n",
    "Approx. 60% to 75% of remote work is done  in  Medium companies in all 3 years\n",
    "Salaries for Entry level employees is the least in large companies\n",
    "Overall highest amount salaries are paid by Large companies and lowest by medium companies\n",
    "Medium and small companies are at par and pay less salaries to Expert and Senior level employees\n",
    "There is very less difference between salaries of Large and small companies for mid-level employees\n",
    "There is very less difference between salaries of mid-level and expert level employees in Large companies\n",
    "In USD :\n",
    "\n",
    "Highest salaries is offered to expert level employees and least for entry-level employees in all companies\n",
    "Not much difference between salaries of mid level employees in Medium and Large companies\n",
    "Not much difference between salaries of entry level employees in all companies\n",
    "Small companies offer slightly less salary to mid-level employees as compared to entry level companies\n",
    "Salary of Expert level employees offered by all companies ranges from approx. $200K to $250K\n",
    "Salary of Mid level employees offered by all companies ranges from approx. $50K to $100K\n",
    "Salary of Senior level employees offered by all companies ranges from approx. $100K to $150K\n",
    "Salary of Entry level employees offered by all companies ranges is $50K and less\n",
    "\n",
    "All companies have remote_ratio of 60 and above\n",
    "\n",
    "For mid-level employees:\n",
    "    \n",
    "Large companies offer remote_ratio of 70\n",
    "Small and medium  companies offer remote_ratio of close to 60\n",
    "\n",
    "For senior-level employees:\n",
    "    \n",
    "Large companies offer remote_ratio of little more than 60\n",
    "Small companies offer remote_ratio of close to 70\n",
    "Medium companies offer remote_ratio of close to 80\n",
    "\n",
    "For entry-level employees:\n",
    "    \n",
    "Large and medium companies offer remote_ratio of close to 70\n",
    "Small company offer remote_ratio of close to 60\n",
    "\n",
    "\n",
    "For expert-level employees:\n",
    "    \n",
    "Large companies offer remote_ratio of little more than 60\n",
    "Small companies offer 100 remote_ratio \n",
    "Medium companies offer remote_ratio of close to 70\n",
    "\n",
    "\n",
    "Out top 10 most frequent job_title\n",
    "\n",
    "5 most highly paid job_titles:\n",
    "\n",
    "Data Architect\n",
    "\n",
    "Data Scientist Manager\n",
    "\n",
    "Director of Data Science\n",
    "\n",
    "Machine Learning Engineer\n",
    "\n",
    "Data Analytics Manager\n",
    "\n",
    "\n",
    "For Data Architect,Data Science Manager and Data Analytics Manager remote ratio ranges from 80% to 100%\n",
    "For Data Scientist,Data Engineer,Data Analyst,Ml Engineer ,Ml Scientist and Lead Data Engineer\n",
    "remote ratio ranges from 60% to 80%\n",
    "Research Scientist have remote ratio between 50% to 60%\n",
    "Director of Data Science have least remote_ratio of around 30%\n",
    "Lowest Amount of salary in usd is offered by small companies\n",
    "Medium companies offers slightly higher salary in usd  than large companies\n",
    "\n",
    "Maximum Job applications are from America (Around 350)\n",
    "Around 150 Job applications are from Europe\n",
    "Less than 25 Job applications are from Asia\n",
    "Very few  Job applications are from Africa,Australia and New zealand\n",
    "Maximum head office of companies are in America (Around 350)\n",
    "Around 150  head office of companies are in Europe\n",
    "Less than 25  head office of companies are in Asia\n",
    "Very few  head office of companies are in Africa,Australia and New zealand\n",
    "Salary for Data Science,Data Analyst, Data Engineer,Research Scientist,AI Scientist,Data Acrhitect job domains etc is around\n",
    "$120,000 \n",
    "Salary for ML job domain etc is around $90,000 \n",
    "In Europe highest salary is for data science jobs (close to $75K). Overall salary varies in range of $50K to $100K\n",
    "In Asia highest salary is for jobs like Research Scientist,AI Scientist,Data Acrhitect (close to $150K). Overall salary varies\n",
    "in range of $5K to $150K\n",
    "In Australia and New zealand highest salary is for data Engineer jobs (close to $125K). Overall salary varies in range of\n",
    "$75K to $125K\n",
    "In America highest salary is for ML jobs (close to $150K). Overall salary varies in range of $100K to $150K\n",
    "In Africa highest salary is for data science jobs (little less than $50K). Overall salary varies in range of $10K to $50K\n",
    "\n",
    "Salary and Salary_in_usd are highly positively correlated to each other\n",
    "However other features also play a quite important role in determining them\n"
   ]
  },
  {
   "cell_type": "code",
   "execution_count": null,
   "id": "7679c686",
   "metadata": {},
   "outputs": [],
   "source": []
  },
  {
   "cell_type": "code",
   "execution_count": 1,
   "id": "43775533",
   "metadata": {},
   "outputs": [],
   "source": [
    "import pandas as pd\n",
    "import numpy as np\n",
    "from sklearn.preprocessing import MinMaxScaler\n",
    "from sklearn.preprocessing import StandardScaler\n",
    "from sklearn.model_selection import train_test_split\n",
    "from sklearn.linear_model import LinearRegression\n",
    "from sklearn import metrics\n",
    "from sklearn.metrics import mean_squared_error"
   ]
  },
  {
   "cell_type": "code",
   "execution_count": null,
   "id": "89e74727",
   "metadata": {},
   "outputs": [],
   "source": []
  },
  {
   "cell_type": "code",
   "execution_count": 2,
   "id": "b2b4b6a4",
   "metadata": {},
   "outputs": [
    {
     "data": {
      "text/html": [
       "<div>\n",
       "<style scoped>\n",
       "    .dataframe tbody tr th:only-of-type {\n",
       "        vertical-align: middle;\n",
       "    }\n",
       "\n",
       "    .dataframe tbody tr th {\n",
       "        vertical-align: top;\n",
       "    }\n",
       "\n",
       "    .dataframe thead th {\n",
       "        text-align: right;\n",
       "    }\n",
       "</style>\n",
       "<table border=\"1\" class=\"dataframe\">\n",
       "  <thead>\n",
       "    <tr style=\"text-align: right;\">\n",
       "      <th></th>\n",
       "      <th>work_year</th>\n",
       "      <th>experience_level</th>\n",
       "      <th>employment_type</th>\n",
       "      <th>job_title</th>\n",
       "      <th>salary</th>\n",
       "      <th>salary_currency</th>\n",
       "      <th>salary_in_usd</th>\n",
       "      <th>employee_residence</th>\n",
       "      <th>remote_ratio</th>\n",
       "      <th>company_location</th>\n",
       "      <th>company_size</th>\n",
       "    </tr>\n",
       "  </thead>\n",
       "  <tbody>\n",
       "    <tr>\n",
       "      <th>0</th>\n",
       "      <td>2020</td>\n",
       "      <td>MI</td>\n",
       "      <td>FT</td>\n",
       "      <td>Data Scientist</td>\n",
       "      <td>70000</td>\n",
       "      <td>EUR</td>\n",
       "      <td>79833</td>\n",
       "      <td>DE</td>\n",
       "      <td>0</td>\n",
       "      <td>DE</td>\n",
       "      <td>L</td>\n",
       "    </tr>\n",
       "    <tr>\n",
       "      <th>1</th>\n",
       "      <td>2020</td>\n",
       "      <td>SE</td>\n",
       "      <td>FT</td>\n",
       "      <td>Machine Learning Scientist</td>\n",
       "      <td>260000</td>\n",
       "      <td>USD</td>\n",
       "      <td>260000</td>\n",
       "      <td>JP</td>\n",
       "      <td>0</td>\n",
       "      <td>JP</td>\n",
       "      <td>S</td>\n",
       "    </tr>\n",
       "    <tr>\n",
       "      <th>2</th>\n",
       "      <td>2020</td>\n",
       "      <td>SE</td>\n",
       "      <td>FT</td>\n",
       "      <td>Big Data Engineer</td>\n",
       "      <td>85000</td>\n",
       "      <td>GBP</td>\n",
       "      <td>109024</td>\n",
       "      <td>GB</td>\n",
       "      <td>50</td>\n",
       "      <td>GB</td>\n",
       "      <td>M</td>\n",
       "    </tr>\n",
       "    <tr>\n",
       "      <th>3</th>\n",
       "      <td>2020</td>\n",
       "      <td>MI</td>\n",
       "      <td>FT</td>\n",
       "      <td>Product Data Analyst</td>\n",
       "      <td>20000</td>\n",
       "      <td>USD</td>\n",
       "      <td>20000</td>\n",
       "      <td>HN</td>\n",
       "      <td>0</td>\n",
       "      <td>HN</td>\n",
       "      <td>S</td>\n",
       "    </tr>\n",
       "    <tr>\n",
       "      <th>4</th>\n",
       "      <td>2020</td>\n",
       "      <td>SE</td>\n",
       "      <td>FT</td>\n",
       "      <td>Machine Learning Engineer</td>\n",
       "      <td>150000</td>\n",
       "      <td>USD</td>\n",
       "      <td>150000</td>\n",
       "      <td>US</td>\n",
       "      <td>50</td>\n",
       "      <td>US</td>\n",
       "      <td>L</td>\n",
       "    </tr>\n",
       "    <tr>\n",
       "      <th>...</th>\n",
       "      <td>...</td>\n",
       "      <td>...</td>\n",
       "      <td>...</td>\n",
       "      <td>...</td>\n",
       "      <td>...</td>\n",
       "      <td>...</td>\n",
       "      <td>...</td>\n",
       "      <td>...</td>\n",
       "      <td>...</td>\n",
       "      <td>...</td>\n",
       "      <td>...</td>\n",
       "    </tr>\n",
       "    <tr>\n",
       "      <th>558</th>\n",
       "      <td>2022</td>\n",
       "      <td>SE</td>\n",
       "      <td>FT</td>\n",
       "      <td>Data Engineer</td>\n",
       "      <td>154000</td>\n",
       "      <td>USD</td>\n",
       "      <td>154000</td>\n",
       "      <td>US</td>\n",
       "      <td>100</td>\n",
       "      <td>US</td>\n",
       "      <td>M</td>\n",
       "    </tr>\n",
       "    <tr>\n",
       "      <th>559</th>\n",
       "      <td>2022</td>\n",
       "      <td>SE</td>\n",
       "      <td>FT</td>\n",
       "      <td>Data Engineer</td>\n",
       "      <td>126000</td>\n",
       "      <td>USD</td>\n",
       "      <td>126000</td>\n",
       "      <td>US</td>\n",
       "      <td>100</td>\n",
       "      <td>US</td>\n",
       "      <td>M</td>\n",
       "    </tr>\n",
       "    <tr>\n",
       "      <th>560</th>\n",
       "      <td>2022</td>\n",
       "      <td>SE</td>\n",
       "      <td>FT</td>\n",
       "      <td>Data Analyst</td>\n",
       "      <td>129000</td>\n",
       "      <td>USD</td>\n",
       "      <td>129000</td>\n",
       "      <td>US</td>\n",
       "      <td>0</td>\n",
       "      <td>US</td>\n",
       "      <td>M</td>\n",
       "    </tr>\n",
       "    <tr>\n",
       "      <th>561</th>\n",
       "      <td>2022</td>\n",
       "      <td>SE</td>\n",
       "      <td>FT</td>\n",
       "      <td>Data Analyst</td>\n",
       "      <td>150000</td>\n",
       "      <td>USD</td>\n",
       "      <td>150000</td>\n",
       "      <td>US</td>\n",
       "      <td>100</td>\n",
       "      <td>US</td>\n",
       "      <td>M</td>\n",
       "    </tr>\n",
       "    <tr>\n",
       "      <th>562</th>\n",
       "      <td>2022</td>\n",
       "      <td>MI</td>\n",
       "      <td>FT</td>\n",
       "      <td>AI Scientist</td>\n",
       "      <td>200000</td>\n",
       "      <td>USD</td>\n",
       "      <td>200000</td>\n",
       "      <td>IN</td>\n",
       "      <td>100</td>\n",
       "      <td>US</td>\n",
       "      <td>L</td>\n",
       "    </tr>\n",
       "  </tbody>\n",
       "</table>\n",
       "<p>563 rows × 11 columns</p>\n",
       "</div>"
      ],
      "text/plain": [
       "     work_year experience_level employment_type                   job_title  \\\n",
       "0         2020               MI              FT              Data Scientist   \n",
       "1         2020               SE              FT  Machine Learning Scientist   \n",
       "2         2020               SE              FT           Big Data Engineer   \n",
       "3         2020               MI              FT        Product Data Analyst   \n",
       "4         2020               SE              FT   Machine Learning Engineer   \n",
       "..         ...              ...             ...                         ...   \n",
       "558       2022               SE              FT               Data Engineer   \n",
       "559       2022               SE              FT               Data Engineer   \n",
       "560       2022               SE              FT                Data Analyst   \n",
       "561       2022               SE              FT                Data Analyst   \n",
       "562       2022               MI              FT                AI Scientist   \n",
       "\n",
       "     salary salary_currency  salary_in_usd employee_residence  remote_ratio  \\\n",
       "0     70000             EUR          79833                 DE             0   \n",
       "1    260000             USD         260000                 JP             0   \n",
       "2     85000             GBP         109024                 GB            50   \n",
       "3     20000             USD          20000                 HN             0   \n",
       "4    150000             USD         150000                 US            50   \n",
       "..      ...             ...            ...                ...           ...   \n",
       "558  154000             USD         154000                 US           100   \n",
       "559  126000             USD         126000                 US           100   \n",
       "560  129000             USD         129000                 US             0   \n",
       "561  150000             USD         150000                 US           100   \n",
       "562  200000             USD         200000                 IN           100   \n",
       "\n",
       "    company_location company_size  \n",
       "0                 DE            L  \n",
       "1                 JP            S  \n",
       "2                 GB            M  \n",
       "3                 HN            S  \n",
       "4                 US            L  \n",
       "..               ...          ...  \n",
       "558               US            M  \n",
       "559               US            M  \n",
       "560               US            M  \n",
       "561               US            M  \n",
       "562               US            L  \n",
       "\n",
       "[563 rows x 11 columns]"
      ]
     },
     "execution_count": 2,
     "metadata": {},
     "output_type": "execute_result"
    }
   ],
   "source": [
    "data=pd.read_csv(\"C:/Users/Arsh/Desktop/my project/DS job saleries/final_ds_salaries.csv\")\n",
    "\n",
    "data"
   ]
  },
  {
   "cell_type": "code",
   "execution_count": null,
   "id": "61bf0c01",
   "metadata": {},
   "outputs": [],
   "source": []
  },
  {
   "cell_type": "markdown",
   "id": "c8777964",
   "metadata": {},
   "source": [
    "# Little EDA before Modelling"
   ]
  },
  {
   "cell_type": "code",
   "execution_count": null,
   "id": "d4b65047",
   "metadata": {},
   "outputs": [],
   "source": []
  },
  {
   "cell_type": "code",
   "execution_count": 3,
   "id": "998f5ba0",
   "metadata": {},
   "outputs": [
    {
     "data": {
      "text/plain": [
       "work_year             0\n",
       "experience_level      0\n",
       "employment_type       0\n",
       "job_title             0\n",
       "salary                0\n",
       "salary_currency       0\n",
       "salary_in_usd         0\n",
       "employee_residence    0\n",
       "remote_ratio          0\n",
       "company_location      0\n",
       "company_size          0\n",
       "dtype: int64"
      ]
     },
     "execution_count": 3,
     "metadata": {},
     "output_type": "execute_result"
    }
   ],
   "source": [
    "data.isna().sum()"
   ]
  },
  {
   "cell_type": "code",
   "execution_count": null,
   "id": "19ea75f0",
   "metadata": {},
   "outputs": [],
   "source": []
  },
  {
   "cell_type": "code",
   "execution_count": 4,
   "id": "49c065bb",
   "metadata": {},
   "outputs": [
    {
     "data": {
      "text/html": [
       "<div>\n",
       "<style scoped>\n",
       "    .dataframe tbody tr th:only-of-type {\n",
       "        vertical-align: middle;\n",
       "    }\n",
       "\n",
       "    .dataframe tbody tr th {\n",
       "        vertical-align: top;\n",
       "    }\n",
       "\n",
       "    .dataframe thead th {\n",
       "        text-align: right;\n",
       "    }\n",
       "</style>\n",
       "<table border=\"1\" class=\"dataframe\">\n",
       "  <thead>\n",
       "    <tr style=\"text-align: right;\">\n",
       "      <th></th>\n",
       "      <th>count</th>\n",
       "      <th>mean</th>\n",
       "      <th>std</th>\n",
       "      <th>min</th>\n",
       "      <th>25%</th>\n",
       "      <th>50%</th>\n",
       "      <th>75%</th>\n",
       "      <th>max</th>\n",
       "    </tr>\n",
       "  </thead>\n",
       "  <tbody>\n",
       "    <tr>\n",
       "      <th>work_year</th>\n",
       "      <td>563.0</td>\n",
       "      <td>2021.442274</td>\n",
       "      <td>0.683920</td>\n",
       "      <td>2020.0</td>\n",
       "      <td>2021.0</td>\n",
       "      <td>2022.0</td>\n",
       "      <td>2022.0</td>\n",
       "      <td>2022.0</td>\n",
       "    </tr>\n",
       "    <tr>\n",
       "      <th>salary</th>\n",
       "      <td>563.0</td>\n",
       "      <td>113104.868561</td>\n",
       "      <td>59369.779786</td>\n",
       "      <td>4000.0</td>\n",
       "      <td>65000.0</td>\n",
       "      <td>108800.0</td>\n",
       "      <td>150630.0</td>\n",
       "      <td>300000.0</td>\n",
       "    </tr>\n",
       "    <tr>\n",
       "      <th>salary_in_usd</th>\n",
       "      <td>563.0</td>\n",
       "      <td>111726.163410</td>\n",
       "      <td>56921.662830</td>\n",
       "      <td>2859.0</td>\n",
       "      <td>68714.0</td>\n",
       "      <td>105000.0</td>\n",
       "      <td>150000.0</td>\n",
       "      <td>276000.0</td>\n",
       "    </tr>\n",
       "    <tr>\n",
       "      <th>remote_ratio</th>\n",
       "      <td>563.0</td>\n",
       "      <td>71.403197</td>\n",
       "      <td>40.779580</td>\n",
       "      <td>0.0</td>\n",
       "      <td>50.0</td>\n",
       "      <td>100.0</td>\n",
       "      <td>100.0</td>\n",
       "      <td>100.0</td>\n",
       "    </tr>\n",
       "  </tbody>\n",
       "</table>\n",
       "</div>"
      ],
      "text/plain": [
       "               count           mean           std     min      25%       50%  \\\n",
       "work_year      563.0    2021.442274      0.683920  2020.0   2021.0    2022.0   \n",
       "salary         563.0  113104.868561  59369.779786  4000.0  65000.0  108800.0   \n",
       "salary_in_usd  563.0  111726.163410  56921.662830  2859.0  68714.0  105000.0   \n",
       "remote_ratio   563.0      71.403197     40.779580     0.0     50.0     100.0   \n",
       "\n",
       "                    75%       max  \n",
       "work_year        2022.0    2022.0  \n",
       "salary         150630.0  300000.0  \n",
       "salary_in_usd  150000.0  276000.0  \n",
       "remote_ratio      100.0     100.0  "
      ]
     },
     "execution_count": 4,
     "metadata": {},
     "output_type": "execute_result"
    }
   ],
   "source": [
    "data.describe().T"
   ]
  },
  {
   "cell_type": "code",
   "execution_count": null,
   "id": "88225768",
   "metadata": {},
   "outputs": [],
   "source": []
  },
  {
   "cell_type": "raw",
   "id": "5c79cabe",
   "metadata": {},
   "source": [
    "The feature values is needed to be standerdized"
   ]
  },
  {
   "cell_type": "code",
   "execution_count": null,
   "id": "205ee646",
   "metadata": {},
   "outputs": [],
   "source": []
  },
  {
   "cell_type": "code",
   "execution_count": 5,
   "id": "07d22cc8",
   "metadata": {},
   "outputs": [
    {
     "data": {
      "text/plain": [
       "work_year              int64\n",
       "experience_level      object\n",
       "employment_type       object\n",
       "job_title             object\n",
       "salary                 int64\n",
       "salary_currency       object\n",
       "salary_in_usd          int64\n",
       "employee_residence    object\n",
       "remote_ratio           int64\n",
       "company_location      object\n",
       "company_size          object\n",
       "dtype: object"
      ]
     },
     "execution_count": 5,
     "metadata": {},
     "output_type": "execute_result"
    }
   ],
   "source": [
    "data.dtypes"
   ]
  },
  {
   "cell_type": "code",
   "execution_count": null,
   "id": "39593547",
   "metadata": {},
   "outputs": [],
   "source": []
  },
  {
   "cell_type": "markdown",
   "id": "8d774243",
   "metadata": {},
   "source": [
    "# Data Preperation for Model Training"
   ]
  },
  {
   "cell_type": "code",
   "execution_count": null,
   "id": "b4bff26e",
   "metadata": {},
   "outputs": [],
   "source": []
  },
  {
   "cell_type": "code",
   "execution_count": 6,
   "id": "5c516699",
   "metadata": {},
   "outputs": [],
   "source": [
    "data1=data.copy()"
   ]
  },
  {
   "cell_type": "code",
   "execution_count": null,
   "id": "cc38cf49",
   "metadata": {},
   "outputs": [],
   "source": []
  },
  {
   "cell_type": "markdown",
   "id": "de80aaad",
   "metadata": {},
   "source": [
    "# Labelencoding data"
   ]
  },
  {
   "cell_type": "code",
   "execution_count": null,
   "id": "a3e89d75",
   "metadata": {},
   "outputs": [],
   "source": []
  },
  {
   "cell_type": "code",
   "execution_count": 7,
   "id": "386fa28f",
   "metadata": {},
   "outputs": [],
   "source": [
    "from sklearn.preprocessing import LabelEncoder\n",
    "\n",
    "le_explvl=LabelEncoder()\n",
    "le_emptype=LabelEncoder()\n",
    "le_jobtitle=LabelEncoder()\n",
    "le_compsize=LabelEncoder()\n",
    "\n",
    "le_comploc=LabelEncoder()\n",
    "le_empres=LabelEncoder()\n",
    "le_salcurr=LabelEncoder()"
   ]
  },
  {
   "cell_type": "code",
   "execution_count": null,
   "id": "49a61352",
   "metadata": {},
   "outputs": [],
   "source": []
  },
  {
   "cell_type": "code",
   "execution_count": 8,
   "id": "9fc1be64",
   "metadata": {},
   "outputs": [],
   "source": [
    "data1[\"experience_level\"]=le_explvl.fit_transform(data1[\"experience_level\"])\n",
    "data1[\"employment_type\"]=le_emptype.fit_transform(data1[\"employment_type\"])\n",
    "data1[\"job_title\"]=le_jobtitle.fit_transform(data1[\"job_title\"])\n",
    "data1[\"company_size\"]=le_compsize.fit_transform(data1[\"company_size\"])\n",
    "data1[\"company_location\"]=le_comploc.fit_transform(data1[\"company_location\"])\n",
    "data1[\"employee_residence\"]=le_empres.fit_transform(data1[\"employee_residence\"])\n",
    "data1[\"salary_currency\"]=le_salcurr.fit_transform(data1[\"salary_currency\"])"
   ]
  },
  {
   "cell_type": "code",
   "execution_count": null,
   "id": "7c73972f",
   "metadata": {},
   "outputs": [],
   "source": []
  },
  {
   "cell_type": "code",
   "execution_count": 9,
   "id": "697cef42",
   "metadata": {},
   "outputs": [
    {
     "data": {
      "text/html": [
       "<div>\n",
       "<style scoped>\n",
       "    .dataframe tbody tr th:only-of-type {\n",
       "        vertical-align: middle;\n",
       "    }\n",
       "\n",
       "    .dataframe tbody tr th {\n",
       "        vertical-align: top;\n",
       "    }\n",
       "\n",
       "    .dataframe thead th {\n",
       "        text-align: right;\n",
       "    }\n",
       "</style>\n",
       "<table border=\"1\" class=\"dataframe\">\n",
       "  <thead>\n",
       "    <tr style=\"text-align: right;\">\n",
       "      <th></th>\n",
       "      <th>work_year</th>\n",
       "      <th>experience_level</th>\n",
       "      <th>employment_type</th>\n",
       "      <th>job_title</th>\n",
       "      <th>salary</th>\n",
       "      <th>salary_currency</th>\n",
       "      <th>salary_in_usd</th>\n",
       "      <th>employee_residence</th>\n",
       "      <th>remote_ratio</th>\n",
       "      <th>company_location</th>\n",
       "      <th>company_size</th>\n",
       "    </tr>\n",
       "  </thead>\n",
       "  <tbody>\n",
       "    <tr>\n",
       "      <th>0</th>\n",
       "      <td>2020</td>\n",
       "      <td>2</td>\n",
       "      <td>2</td>\n",
       "      <td>20</td>\n",
       "      <td>70000</td>\n",
       "      <td>6</td>\n",
       "      <td>79833</td>\n",
       "      <td>13</td>\n",
       "      <td>0</td>\n",
       "      <td>10</td>\n",
       "      <td>0</td>\n",
       "    </tr>\n",
       "    <tr>\n",
       "      <th>1</th>\n",
       "      <td>2020</td>\n",
       "      <td>3</td>\n",
       "      <td>2</td>\n",
       "      <td>38</td>\n",
       "      <td>260000</td>\n",
       "      <td>12</td>\n",
       "      <td>260000</td>\n",
       "      <td>30</td>\n",
       "      <td>0</td>\n",
       "      <td>26</td>\n",
       "      <td>2</td>\n",
       "    </tr>\n",
       "    <tr>\n",
       "      <th>2</th>\n",
       "      <td>2020</td>\n",
       "      <td>3</td>\n",
       "      <td>2</td>\n",
       "      <td>6</td>\n",
       "      <td>85000</td>\n",
       "      <td>7</td>\n",
       "      <td>109024</td>\n",
       "      <td>19</td>\n",
       "      <td>50</td>\n",
       "      <td>16</td>\n",
       "      <td>1</td>\n",
       "    </tr>\n",
       "    <tr>\n",
       "      <th>3</th>\n",
       "      <td>2020</td>\n",
       "      <td>2</td>\n",
       "      <td>2</td>\n",
       "      <td>44</td>\n",
       "      <td>20000</td>\n",
       "      <td>12</td>\n",
       "      <td>20000</td>\n",
       "      <td>22</td>\n",
       "      <td>0</td>\n",
       "      <td>18</td>\n",
       "      <td>2</td>\n",
       "    </tr>\n",
       "    <tr>\n",
       "      <th>4</th>\n",
       "      <td>2020</td>\n",
       "      <td>3</td>\n",
       "      <td>2</td>\n",
       "      <td>35</td>\n",
       "      <td>150000</td>\n",
       "      <td>12</td>\n",
       "      <td>150000</td>\n",
       "      <td>53</td>\n",
       "      <td>50</td>\n",
       "      <td>45</td>\n",
       "      <td>0</td>\n",
       "    </tr>\n",
       "    <tr>\n",
       "      <th>...</th>\n",
       "      <td>...</td>\n",
       "      <td>...</td>\n",
       "      <td>...</td>\n",
       "      <td>...</td>\n",
       "      <td>...</td>\n",
       "      <td>...</td>\n",
       "      <td>...</td>\n",
       "      <td>...</td>\n",
       "      <td>...</td>\n",
       "      <td>...</td>\n",
       "      <td>...</td>\n",
       "    </tr>\n",
       "    <tr>\n",
       "      <th>558</th>\n",
       "      <td>2022</td>\n",
       "      <td>3</td>\n",
       "      <td>2</td>\n",
       "      <td>15</td>\n",
       "      <td>154000</td>\n",
       "      <td>12</td>\n",
       "      <td>154000</td>\n",
       "      <td>53</td>\n",
       "      <td>100</td>\n",
       "      <td>45</td>\n",
       "      <td>1</td>\n",
       "    </tr>\n",
       "    <tr>\n",
       "      <th>559</th>\n",
       "      <td>2022</td>\n",
       "      <td>3</td>\n",
       "      <td>2</td>\n",
       "      <td>15</td>\n",
       "      <td>126000</td>\n",
       "      <td>12</td>\n",
       "      <td>126000</td>\n",
       "      <td>53</td>\n",
       "      <td>100</td>\n",
       "      <td>45</td>\n",
       "      <td>1</td>\n",
       "    </tr>\n",
       "    <tr>\n",
       "      <th>560</th>\n",
       "      <td>2022</td>\n",
       "      <td>3</td>\n",
       "      <td>2</td>\n",
       "      <td>11</td>\n",
       "      <td>129000</td>\n",
       "      <td>12</td>\n",
       "      <td>129000</td>\n",
       "      <td>53</td>\n",
       "      <td>0</td>\n",
       "      <td>45</td>\n",
       "      <td>1</td>\n",
       "    </tr>\n",
       "    <tr>\n",
       "      <th>561</th>\n",
       "      <td>2022</td>\n",
       "      <td>3</td>\n",
       "      <td>2</td>\n",
       "      <td>11</td>\n",
       "      <td>150000</td>\n",
       "      <td>12</td>\n",
       "      <td>150000</td>\n",
       "      <td>53</td>\n",
       "      <td>100</td>\n",
       "      <td>45</td>\n",
       "      <td>1</td>\n",
       "    </tr>\n",
       "    <tr>\n",
       "      <th>562</th>\n",
       "      <td>2022</td>\n",
       "      <td>2</td>\n",
       "      <td>2</td>\n",
       "      <td>0</td>\n",
       "      <td>200000</td>\n",
       "      <td>12</td>\n",
       "      <td>200000</td>\n",
       "      <td>25</td>\n",
       "      <td>100</td>\n",
       "      <td>45</td>\n",
       "      <td>0</td>\n",
       "    </tr>\n",
       "  </tbody>\n",
       "</table>\n",
       "<p>563 rows × 11 columns</p>\n",
       "</div>"
      ],
      "text/plain": [
       "     work_year  experience_level  employment_type  job_title  salary  \\\n",
       "0         2020                 2                2         20   70000   \n",
       "1         2020                 3                2         38  260000   \n",
       "2         2020                 3                2          6   85000   \n",
       "3         2020                 2                2         44   20000   \n",
       "4         2020                 3                2         35  150000   \n",
       "..         ...               ...              ...        ...     ...   \n",
       "558       2022                 3                2         15  154000   \n",
       "559       2022                 3                2         15  126000   \n",
       "560       2022                 3                2         11  129000   \n",
       "561       2022                 3                2         11  150000   \n",
       "562       2022                 2                2          0  200000   \n",
       "\n",
       "     salary_currency  salary_in_usd  employee_residence  remote_ratio  \\\n",
       "0                  6          79833                  13             0   \n",
       "1                 12         260000                  30             0   \n",
       "2                  7         109024                  19            50   \n",
       "3                 12          20000                  22             0   \n",
       "4                 12         150000                  53            50   \n",
       "..               ...            ...                 ...           ...   \n",
       "558               12         154000                  53           100   \n",
       "559               12         126000                  53           100   \n",
       "560               12         129000                  53             0   \n",
       "561               12         150000                  53           100   \n",
       "562               12         200000                  25           100   \n",
       "\n",
       "     company_location  company_size  \n",
       "0                  10             0  \n",
       "1                  26             2  \n",
       "2                  16             1  \n",
       "3                  18             2  \n",
       "4                  45             0  \n",
       "..                ...           ...  \n",
       "558                45             1  \n",
       "559                45             1  \n",
       "560                45             1  \n",
       "561                45             1  \n",
       "562                45             0  \n",
       "\n",
       "[563 rows x 11 columns]"
      ]
     },
     "execution_count": 9,
     "metadata": {},
     "output_type": "execute_result"
    }
   ],
   "source": [
    "data1"
   ]
  },
  {
   "cell_type": "code",
   "execution_count": null,
   "id": "573c6c18",
   "metadata": {},
   "outputs": [],
   "source": []
  },
  {
   "cell_type": "code",
   "execution_count": 10,
   "id": "26b5e59b",
   "metadata": {},
   "outputs": [],
   "source": [
    "#-------------- For Salary----------------------------\n",
    "\n",
    "x1=data1.drop([\"salary\",\"salary_in_usd\",\"work_year\"],axis=1)\n",
    "y1=data1[\"salary\"]\n",
    "\n",
    "#-------------- For Salary_in_usd----------------------------\n",
    "\n",
    "x2=data1.drop([\"salary_in_usd\",\"work_year\"],axis=1)\n",
    "y2=data1[\"salary_in_usd\"]"
   ]
  },
  {
   "cell_type": "code",
   "execution_count": null,
   "id": "f28497a6",
   "metadata": {},
   "outputs": [],
   "source": []
  },
  {
   "cell_type": "code",
   "execution_count": 11,
   "id": "450561b0",
   "metadata": {},
   "outputs": [
    {
     "data": {
      "text/plain": [
       "(563, 8)"
      ]
     },
     "execution_count": 11,
     "metadata": {},
     "output_type": "execute_result"
    }
   ],
   "source": [
    "x1.shape"
   ]
  },
  {
   "cell_type": "code",
   "execution_count": null,
   "id": "358b0d94",
   "metadata": {},
   "outputs": [],
   "source": []
  },
  {
   "cell_type": "code",
   "execution_count": 12,
   "id": "7042981d",
   "metadata": {},
   "outputs": [
    {
     "data": {
      "text/plain": [
       "(563, 9)"
      ]
     },
     "execution_count": 12,
     "metadata": {},
     "output_type": "execute_result"
    }
   ],
   "source": [
    "x2.shape"
   ]
  },
  {
   "cell_type": "code",
   "execution_count": null,
   "id": "3eef7645",
   "metadata": {},
   "outputs": [],
   "source": []
  },
  {
   "cell_type": "code",
   "execution_count": 13,
   "id": "10e0bae3",
   "metadata": {},
   "outputs": [
    {
     "data": {
      "text/plain": [
       "(563,)"
      ]
     },
     "execution_count": 13,
     "metadata": {},
     "output_type": "execute_result"
    }
   ],
   "source": [
    "y1.shape"
   ]
  },
  {
   "cell_type": "code",
   "execution_count": null,
   "id": "cf979a07",
   "metadata": {},
   "outputs": [],
   "source": []
  },
  {
   "cell_type": "code",
   "execution_count": 14,
   "id": "633c7baf",
   "metadata": {},
   "outputs": [
    {
     "data": {
      "text/plain": [
       "(563,)"
      ]
     },
     "execution_count": 14,
     "metadata": {},
     "output_type": "execute_result"
    }
   ],
   "source": [
    "y2.shape"
   ]
  },
  {
   "cell_type": "code",
   "execution_count": null,
   "id": "e9fdaeac",
   "metadata": {},
   "outputs": [],
   "source": []
  },
  {
   "cell_type": "markdown",
   "id": "fc4c70ed",
   "metadata": {},
   "source": [
    "# Scaling down data"
   ]
  },
  {
   "cell_type": "code",
   "execution_count": null,
   "id": "e09f800b",
   "metadata": {},
   "outputs": [],
   "source": []
  },
  {
   "cell_type": "code",
   "execution_count": 15,
   "id": "3492f248",
   "metadata": {},
   "outputs": [],
   "source": [
    "sc1=StandardScaler()\n",
    "sc2=StandardScaler()\n",
    "minmax1=MinMaxScaler()\n",
    "minmax2=MinMaxScaler()"
   ]
  },
  {
   "cell_type": "code",
   "execution_count": null,
   "id": "7130e695",
   "metadata": {},
   "outputs": [],
   "source": []
  },
  {
   "cell_type": "code",
   "execution_count": 16,
   "id": "d5084298",
   "metadata": {},
   "outputs": [],
   "source": [
    "y1=y1.to_numpy()\n",
    "y2=y2.to_numpy()\n",
    "\n",
    "y1=y1.reshape(-1,1)\n",
    "y2=y2.reshape(-1,1)"
   ]
  },
  {
   "cell_type": "code",
   "execution_count": null,
   "id": "03bfa7b7",
   "metadata": {},
   "outputs": [],
   "source": []
  },
  {
   "cell_type": "code",
   "execution_count": 17,
   "id": "74495ded",
   "metadata": {},
   "outputs": [],
   "source": [
    "x1=sc1.fit_transform(x1)\n",
    "y1=minmax1.fit_transform(y1)\n",
    "x2=sc2.fit_transform(x2)\n",
    "y2=minmax2.fit_transform(y2)"
   ]
  },
  {
   "cell_type": "code",
   "execution_count": null,
   "id": "81537964",
   "metadata": {},
   "outputs": [],
   "source": []
  },
  {
   "cell_type": "code",
   "execution_count": 18,
   "id": "7036df37",
   "metadata": {},
   "outputs": [
    {
     "data": {
      "text/plain": [
       "array([[-0.16747424,  0.02348485,  0.10144401, ..., -1.75251179,\n",
       "        -1.51790325, -1.29161419],\n",
       "       [ 0.81469242,  0.02348485,  1.94050233, ..., -1.75251179,\n",
       "        -0.49207442,  1.84954688],\n",
       "       [ 0.81469242,  0.02348485, -1.32893468, ..., -0.52531759,\n",
       "        -1.13321744,  0.27896635],\n",
       "       ...,\n",
       "       [ 0.81469242,  0.02348485, -0.81808515, ..., -1.75251179,\n",
       "         0.72609732,  0.27896635],\n",
       "       [ 0.81469242,  0.02348485, -0.81808515, ...,  0.70187661,\n",
       "         0.72609732,  0.27896635],\n",
       "       [-0.16747424,  0.02348485, -1.94195412, ...,  0.70187661,\n",
       "         0.72609732, -1.29161419]])"
      ]
     },
     "execution_count": 18,
     "metadata": {},
     "output_type": "execute_result"
    }
   ],
   "source": [
    "x1"
   ]
  },
  {
   "cell_type": "code",
   "execution_count": null,
   "id": "d35f0d16",
   "metadata": {},
   "outputs": [],
   "source": []
  },
  {
   "cell_type": "code",
   "execution_count": 19,
   "id": "f70961ca",
   "metadata": {},
   "outputs": [
    {
     "data": {
      "text/plain": [
       "array([[0.22297297],\n",
       "       [0.86486486],\n",
       "       [0.27364865],\n",
       "       [0.05405405],\n",
       "       [0.49324324],\n",
       "       [0.22972973],\n",
       "       [0.62837838],\n",
       "       [0.44256757],\n",
       "       [0.40878378],\n",
       "       [0.13851351],\n",
       "       [0.10472973],\n",
       "       [0.28040541],\n",
       "       [0.27364865],\n",
       "       [0.01351351],\n",
       "       [0.32432432],\n",
       "       [0.17567568],\n",
       "       [0.99662162],\n",
       "       [0.12837838],\n",
       "       [0.31756757],\n",
       "       [0.375     ],\n",
       "       [0.12837838],\n",
       "       [0.32432432],\n",
       "       [0.51689189],\n",
       "       [0.16215878],\n",
       "       [0.22297297],\n",
       "       [0.18918919],\n",
       "       [0.125     ],\n",
       "       [0.20608108],\n",
       "       [0.33445946],\n",
       "       [0.83108108],\n",
       "       [0.02027027],\n",
       "       [0.4527027 ],\n",
       "       [0.14108108],\n",
       "       [0.22297297],\n",
       "       [0.13513514],\n",
       "       [0.34459459],\n",
       "       [0.28378378],\n",
       "       [0.03378378],\n",
       "       [0.18918919],\n",
       "       [0.62162162],\n",
       "       [0.34121622],\n",
       "       [0.19425676],\n",
       "       [0.29391892],\n",
       "       [1.        ],\n",
       "       [0.14864865],\n",
       "       [0.18918919],\n",
       "       [0.42567568],\n",
       "       [0.10135135],\n",
       "       [0.38513514],\n",
       "       [0.39189189],\n",
       "       [0.45388514],\n",
       "       [0.35810811],\n",
       "       [0.42837838],\n",
       "       [0.05067568],\n",
       "       [0.12162162],\n",
       "       [0.1722973 ],\n",
       "       [0.13243243],\n",
       "       [0.62905405],\n",
       "       [0.34121622],\n",
       "       [0.25675676],\n",
       "       [0.1722973 ],\n",
       "       [0.11148649],\n",
       "       [0.18918919],\n",
       "       [0.49324324],\n",
       "       [0.78040541],\n",
       "       [0.13851351],\n",
       "       [0.32432432],\n",
       "       [0.89864865],\n",
       "       [0.25675676],\n",
       "       [0.21283784],\n",
       "       [0.45945946],\n",
       "       [0.21621622],\n",
       "       [0.12162162],\n",
       "       [0.42567568],\n",
       "       [0.35810811],\n",
       "       [0.15540541],\n",
       "       [0.35810811],\n",
       "       [0.56081081],\n",
       "       [0.25675676],\n",
       "       [0.23986486],\n",
       "       [0.20608108],\n",
       "       [0.91891892],\n",
       "       [0.39189189],\n",
       "       [0.02702703],\n",
       "       [0.22297297],\n",
       "       [0.26013514],\n",
       "       [0.23986486],\n",
       "       [0.49324324],\n",
       "       [0.19594595],\n",
       "       [0.23310811],\n",
       "       [0.11302703],\n",
       "       [0.78040541],\n",
       "       [0.375     ],\n",
       "       [0.49324324],\n",
       "       [0.25675676],\n",
       "       [0.2652027 ],\n",
       "       [0.23986486],\n",
       "       [0.02702703],\n",
       "       [0.11621622],\n",
       "       [0.74662162],\n",
       "       [0.15540541],\n",
       "       [0.10135135],\n",
       "       [0.29054054],\n",
       "       [0.66216216],\n",
       "       [0.18918919],\n",
       "       [0.66216216],\n",
       "       [0.15540541],\n",
       "       [0.25675676],\n",
       "       [0.01608108],\n",
       "       [0.49662162],\n",
       "       [0.39189189],\n",
       "       [0.05405405],\n",
       "       [0.32432432],\n",
       "       [0.12837838],\n",
       "       [0.11621622],\n",
       "       [0.06756757],\n",
       "       [0.32432432],\n",
       "       [0.29054054],\n",
       "       [0.72972973],\n",
       "       [0.25675676],\n",
       "       [0.44256757],\n",
       "       [0.7972973 ],\n",
       "       [0.49324324],\n",
       "       [0.2652027 ],\n",
       "       [0.32432432],\n",
       "       [0.22297297],\n",
       "       [0.16554054],\n",
       "       [0.29054054],\n",
       "       [0.50337838],\n",
       "       [0.52702703],\n",
       "       [0.55405405],\n",
       "       [0.49324324],\n",
       "       [0.30743243],\n",
       "       [0.03175676],\n",
       "       [0.47297297],\n",
       "       [0.52533784],\n",
       "       [0.52702703],\n",
       "       [0.39189189],\n",
       "       [0.40878378],\n",
       "       [0.76351351],\n",
       "       [0.27364865],\n",
       "       [0.06756757],\n",
       "       [0.16891892],\n",
       "       [0.35810811],\n",
       "       [0.54391892],\n",
       "       [0.25675676],\n",
       "       [0.83108108],\n",
       "       [0.1722973 ],\n",
       "       [0.49324324],\n",
       "       [0.56081081],\n",
       "       [0.18918919],\n",
       "       [0.18918919],\n",
       "       [0.78040541],\n",
       "       [0.16013514],\n",
       "       [0.57432432],\n",
       "       [0.18243243],\n",
       "       [0.26013514],\n",
       "       [0.24581081],\n",
       "       [0.06081081],\n",
       "       [0.13851351],\n",
       "       [0.02702703],\n",
       "       [0.        ],\n",
       "       [0.15540541],\n",
       "       [0.18581081],\n",
       "       [0.20608108],\n",
       "       [0.23648649],\n",
       "       [0.5       ],\n",
       "       [0.06028378],\n",
       "       [0.0472973 ],\n",
       "       [0.57432432],\n",
       "       [0.39358108],\n",
       "       [0.48310811],\n",
       "       [0.01781081],\n",
       "       [0.29054054],\n",
       "       [0.16216216],\n",
       "       [0.64527027],\n",
       "       [0.09459459],\n",
       "       [0.15540541],\n",
       "       [0.52702703],\n",
       "       [0.22162162],\n",
       "       [0.66216216],\n",
       "       [0.54391892],\n",
       "       [0.05405405],\n",
       "       [0.39189189],\n",
       "       [0.05743243],\n",
       "       [0.14864865],\n",
       "       [0.14864865],\n",
       "       [0.05743243],\n",
       "       [0.61148649],\n",
       "       [0.59459459],\n",
       "       [0.24581081],\n",
       "       [0.23986486],\n",
       "       [0.45945946],\n",
       "       [0.59459459],\n",
       "       [0.27364865],\n",
       "       [0.12466216],\n",
       "       [0.74662162],\n",
       "       [0.35810811],\n",
       "       [0.23986486],\n",
       "       [0.44256757],\n",
       "       [0.29054054],\n",
       "       [0.85135135],\n",
       "       [0.66216216],\n",
       "       [0.66216216],\n",
       "       [0.59459459],\n",
       "       [0.35810811],\n",
       "       [0.25675676],\n",
       "       [0.12027027],\n",
       "       [0.        ],\n",
       "       [0.42567568],\n",
       "       [0.25675676],\n",
       "       [0.35810811],\n",
       "       [0.54391892],\n",
       "       [0.16385135],\n",
       "       [0.09121622],\n",
       "       [0.35135135],\n",
       "       [0.22297297],\n",
       "       [0.56081081],\n",
       "       [0.375     ],\n",
       "       [0.29054054],\n",
       "       [0.30067568],\n",
       "       [0.40878378],\n",
       "       [0.66216216],\n",
       "       [0.48310811],\n",
       "       [0.61148649],\n",
       "       [0.39189189],\n",
       "       [0.42567568],\n",
       "       [0.16891892],\n",
       "       [0.05945946],\n",
       "       [0.52702703],\n",
       "       [0.30118243],\n",
       "       [0.36410473],\n",
       "       [0.83108108],\n",
       "       [0.1722973 ],\n",
       "       [0.23141892],\n",
       "       [0.33108108],\n",
       "       [0.20608108],\n",
       "       [0.27364865],\n",
       "       [0.20851351],\n",
       "       [0.32432432],\n",
       "       [0.18243243],\n",
       "       [0.1722973 ],\n",
       "       [0.59459459],\n",
       "       [0.15540541],\n",
       "       [0.36486486],\n",
       "       [0.32432432],\n",
       "       [0.18581081],\n",
       "       [0.34121622],\n",
       "       [0.22296959],\n",
       "       [0.28040541],\n",
       "       [0.35472973],\n",
       "       [0.13243243],\n",
       "       [0.44256757],\n",
       "       [0.51013514],\n",
       "       [0.39391892],\n",
       "       [0.42567568],\n",
       "       [0.29054054],\n",
       "       [0.56081081],\n",
       "       [0.49324324],\n",
       "       [0.33141892],\n",
       "       [0.27331081],\n",
       "       [0.44804054],\n",
       "       [0.32216216],\n",
       "       [0.29054054],\n",
       "       [0.25675676],\n",
       "       [0.47972973],\n",
       "       [0.40202703],\n",
       "       [0.12162162],\n",
       "       [0.32094595],\n",
       "       [0.37837838],\n",
       "       [0.34547297],\n",
       "       [0.41385135],\n",
       "       [0.80405405],\n",
       "       [0.66216216],\n",
       "       [0.15540541],\n",
       "       [0.08783784],\n",
       "       [0.18918919],\n",
       "       [0.12162162],\n",
       "       [0.54466216],\n",
       "       [0.10472973],\n",
       "       [0.39243243],\n",
       "       [0.29162162],\n",
       "       [0.60114865],\n",
       "       [0.43351351],\n",
       "       [0.73010135],\n",
       "       [0.5272973 ],\n",
       "       [0.59459459],\n",
       "       [0.39189189],\n",
       "       [0.4060473 ],\n",
       "       [0.42567568],\n",
       "       [0.35810811],\n",
       "       [0.56081081],\n",
       "       [0.37668919],\n",
       "       [0.36790541],\n",
       "       [0.29162162],\n",
       "       [0.36790541],\n",
       "       [0.29162162],\n",
       "       [0.54527027],\n",
       "       [0.43351351],\n",
       "       [0.55067568],\n",
       "       [0.81047297],\n",
       "       [0.44797297],\n",
       "       [0.35567568],\n",
       "       [0.421875  ],\n",
       "       [0.30304054],\n",
       "       [0.74324324],\n",
       "       [0.55363176],\n",
       "       [0.5777027 ],\n",
       "       [0.51554054],\n",
       "       [0.35405405],\n",
       "       [0.30929054],\n",
       "       [0.36824324],\n",
       "       [0.44256757],\n",
       "       [0.53156081],\n",
       "       [0.44980068],\n",
       "       [0.55067568],\n",
       "       [0.40202703],\n",
       "       [0.18918919],\n",
       "       [0.15540541],\n",
       "       [0.49324324],\n",
       "       [0.70101351],\n",
       "       [0.63648649],\n",
       "       [0.29290541],\n",
       "       [0.42567568],\n",
       "       [0.19358108],\n",
       "       [0.42567568],\n",
       "       [0.19358108],\n",
       "       [0.52702703],\n",
       "       [0.45472973],\n",
       "       [0.44594595],\n",
       "       [0.18243243],\n",
       "       [0.44256757],\n",
       "       [0.56081081],\n",
       "       [0.40202703],\n",
       "       [0.62719595],\n",
       "       [0.54390541],\n",
       "       [0.15540541],\n",
       "       [0.15540541],\n",
       "       [0.49324324],\n",
       "       [0.43243243],\n",
       "       [0.54527027],\n",
       "       [0.69180743],\n",
       "       [0.48581081],\n",
       "       [0.44930405],\n",
       "       [0.32962838],\n",
       "       [0.421875  ],\n",
       "       [0.30304054],\n",
       "       [0.43351351],\n",
       "       [0.08277027],\n",
       "       [0.54054054],\n",
       "       [0.51013514],\n",
       "       [0.30743243],\n",
       "       [0.23986486],\n",
       "       [0.39189189],\n",
       "       [0.36790541],\n",
       "       [0.29162162],\n",
       "       [0.47635135],\n",
       "       [0.34256757],\n",
       "       [0.25675676],\n",
       "       [0.29054054],\n",
       "       [0.71385135],\n",
       "       [0.52094595],\n",
       "       [0.69290541],\n",
       "       [0.50878378],\n",
       "       [0.37815541],\n",
       "       [0.26238514],\n",
       "       [0.5777027 ],\n",
       "       [0.23986486],\n",
       "       [0.18243243],\n",
       "       [0.60675676],\n",
       "       [0.12162162],\n",
       "       [0.59459459],\n",
       "       [0.1722973 ],\n",
       "       [0.10472973],\n",
       "       [0.18918919],\n",
       "       [0.13851351],\n",
       "       [0.18918919],\n",
       "       [0.13851351],\n",
       "       [0.86486486],\n",
       "       [0.18918919],\n",
       "       [0.20236486],\n",
       "       [0.52702703],\n",
       "       [0.36587838],\n",
       "       [0.80067568],\n",
       "       [0.52364865],\n",
       "       [0.59459459],\n",
       "       [0.25675676],\n",
       "       [0.26655405],\n",
       "       [0.32702703],\n",
       "       [0.13851351],\n",
       "       [0.46081081],\n",
       "       [0.08783784],\n",
       "       [0.12162162],\n",
       "       [0.08783784],\n",
       "       [0.25675676],\n",
       "       [0.22297297],\n",
       "       [0.25675676],\n",
       "       [0.22297297],\n",
       "       [0.18918919],\n",
       "       [0.25675676],\n",
       "       [0.62719595],\n",
       "       [0.54390541],\n",
       "       [0.12162162],\n",
       "       [0.08783784],\n",
       "       [0.23986486],\n",
       "       [0.18918919],\n",
       "       [0.71385135],\n",
       "       [0.22297297],\n",
       "       [0.69290541],\n",
       "       [0.50878378],\n",
       "       [0.59459459],\n",
       "       [0.05405405],\n",
       "       [0.25675676],\n",
       "       [0.32432432],\n",
       "       [0.83108108],\n",
       "       [0.39189189],\n",
       "       [0.40878378],\n",
       "       [0.7972973 ],\n",
       "       [0.34121622],\n",
       "       [0.25675676],\n",
       "       [0.16554054],\n",
       "       [0.32432432],\n",
       "       [0.15540541],\n",
       "       [0.48648649],\n",
       "       [0.39189189],\n",
       "       [0.47297297],\n",
       "       [0.34084459],\n",
       "       [0.32432432],\n",
       "       [0.45945946],\n",
       "       [0.44256757],\n",
       "       [0.15540541],\n",
       "       [0.72972973],\n",
       "       [0.45945946],\n",
       "       [0.45945946],\n",
       "       [0.22297297],\n",
       "       [0.61182432],\n",
       "       [0.72972973],\n",
       "       [0.66216216],\n",
       "       [0.39189189],\n",
       "       [0.39189189],\n",
       "       [0.20608108],\n",
       "       [0.71621622],\n",
       "       [0.69594595],\n",
       "       [0.39189189],\n",
       "       [0.76351351],\n",
       "       [0.32432432],\n",
       "       [0.32432432],\n",
       "       [0.08445946],\n",
       "       [0.66216216],\n",
       "       [0.23986486],\n",
       "       [0.49324324],\n",
       "       [0.32432432],\n",
       "       [0.32432432],\n",
       "       [0.50337838],\n",
       "       [0.16486486],\n",
       "       [0.54391892],\n",
       "       [0.27364865],\n",
       "       [0.21114865],\n",
       "       [0.17905405],\n",
       "       [0.08783784],\n",
       "       [0.12162162],\n",
       "       [0.39527027],\n",
       "       [0.375     ],\n",
       "       [0.39189189],\n",
       "       [0.23986486],\n",
       "       [0.18581081],\n",
       "       [0.39189189],\n",
       "       [0.51689189],\n",
       "       [0.49324324],\n",
       "       [0.29054054],\n",
       "       [0.20608108],\n",
       "       [0.20608108],\n",
       "       [0.05405405],\n",
       "       [0.14864865],\n",
       "       [0.50168919],\n",
       "       [0.19594595],\n",
       "       [0.375     ],\n",
       "       [0.28378378],\n",
       "       [0.02027027],\n",
       "       [0.05405405],\n",
       "       [0.44256757],\n",
       "       [0.58445946],\n",
       "       [0.25      ],\n",
       "       [0.44256757],\n",
       "       [0.32432432],\n",
       "       [0.29162162],\n",
       "       [0.27364865],\n",
       "       [0.23986486],\n",
       "       [0.70945946],\n",
       "       [0.63716216],\n",
       "       [0.88648649],\n",
       "       [0.70648649],\n",
       "       [0.36790541],\n",
       "       [0.51013514],\n",
       "       [0.46385135],\n",
       "       [0.33141892],\n",
       "       [0.37815541],\n",
       "       [0.26238514],\n",
       "       [0.68479392],\n",
       "       [0.32128378],\n",
       "       [0.42567568],\n",
       "       [0.375     ],\n",
       "       [0.3597973 ],\n",
       "       [0.42567568],\n",
       "       [0.32111486],\n",
       "       [0.52702703],\n",
       "       [0.68006757],\n",
       "       [0.46081081],\n",
       "       [0.58108108],\n",
       "       [0.47297297],\n",
       "       [0.6625    ],\n",
       "       [0.52702703],\n",
       "       [0.47635135],\n",
       "       [0.22466216],\n",
       "       [0.68006757],\n",
       "       [0.46081081],\n",
       "       [0.68006757],\n",
       "       [0.61047297],\n",
       "       [0.57804054],\n",
       "       [0.46030405],\n",
       "       [0.37888514],\n",
       "       [0.16891892],\n",
       "       [0.56081081],\n",
       "       [0.15540541],\n",
       "       [0.25675676],\n",
       "       [0.45945946],\n",
       "       [0.69594595],\n",
       "       [0.45945946],\n",
       "       [0.32432432],\n",
       "       [0.21959459],\n",
       "       [0.69594595],\n",
       "       [0.45945946],\n",
       "       [0.69594595],\n",
       "       [0.49349662],\n",
       "       [0.32432432],\n",
       "       [0.07094595],\n",
       "       [0.41385135],\n",
       "       [0.34547297],\n",
       "       [0.73010135],\n",
       "       [0.5272973 ],\n",
       "       [0.34121622],\n",
       "       [0.36123311],\n",
       "       [0.10472973],\n",
       "       [0.45945946],\n",
       "       [0.32094595],\n",
       "       [0.18918919],\n",
       "       [0.63704054],\n",
       "       [0.47585811],\n",
       "       [0.76351351],\n",
       "       [0.49324324],\n",
       "       [0.49412162],\n",
       "       [0.35567568],\n",
       "       [0.69594595],\n",
       "       [0.56081081],\n",
       "       [0.52702703],\n",
       "       [0.42567568],\n",
       "       [0.21283784],\n",
       "       [0.16216216],\n",
       "       [0.50675676],\n",
       "       [0.41216216],\n",
       "       [0.4222973 ],\n",
       "       [0.49324324],\n",
       "       [0.66216216]])"
      ]
     },
     "execution_count": 19,
     "metadata": {},
     "output_type": "execute_result"
    }
   ],
   "source": [
    "y1"
   ]
  },
  {
   "cell_type": "code",
   "execution_count": null,
   "id": "ecf21ddc",
   "metadata": {},
   "outputs": [],
   "source": []
  },
  {
   "cell_type": "code",
   "execution_count": 20,
   "id": "c0a76764",
   "metadata": {},
   "outputs": [
    {
     "data": {
      "text/plain": [
       "array([[-0.16747424,  0.02348485,  0.10144401, ..., -1.75251179,\n",
       "        -1.51790325, -1.29161419],\n",
       "       [ 0.81469242,  0.02348485,  1.94050233, ..., -1.75251179,\n",
       "        -0.49207442,  1.84954688],\n",
       "       [ 0.81469242,  0.02348485, -1.32893468, ..., -0.52531759,\n",
       "        -1.13321744,  0.27896635],\n",
       "       ...,\n",
       "       [ 0.81469242,  0.02348485, -0.81808515, ..., -1.75251179,\n",
       "         0.72609732,  0.27896635],\n",
       "       [ 0.81469242,  0.02348485, -0.81808515, ...,  0.70187661,\n",
       "         0.72609732,  0.27896635],\n",
       "       [-0.16747424,  0.02348485, -1.94195412, ...,  0.70187661,\n",
       "         0.72609732, -1.29161419]])"
      ]
     },
     "execution_count": 20,
     "metadata": {},
     "output_type": "execute_result"
    }
   ],
   "source": [
    "x2"
   ]
  },
  {
   "cell_type": "code",
   "execution_count": null,
   "id": "ffa5c251",
   "metadata": {},
   "outputs": [],
   "source": []
  },
  {
   "cell_type": "code",
   "execution_count": 21,
   "id": "7e47700a",
   "metadata": {},
   "outputs": [
    {
     "data": {
      "text/plain": [
       "array([[0.28181049],\n",
       "       [0.9414222 ],\n",
       "       [0.38868204],\n",
       "       [0.06275513],\n",
       "       [0.53869979],\n",
       "       [0.253133  ],\n",
       "       [0.6851443 ],\n",
       "       [0.4837831 ],\n",
       "       [0.44717197],\n",
       "       [0.17742485],\n",
       "       [0.13566986],\n",
       "       [0.30804969],\n",
       "       [0.30072746],\n",
       "       [0.01882178],\n",
       "       [0.40707181],\n",
       "       [0.19455519],\n",
       "       [0.14817256],\n",
       "       [0.16489652],\n",
       "       [0.34832193],\n",
       "       [0.41056085],\n",
       "       [0.14329961],\n",
       "       [0.35564415],\n",
       "       [0.41826383],\n",
       "       [0.20664785],\n",
       "       [0.24581077],\n",
       "       [0.2400555 ],\n",
       "       [0.16072285],\n",
       "       [0.26093117],\n",
       "       [0.36662749],\n",
       "       [0.90481107],\n",
       "       [0.02614401],\n",
       "       [0.49476644],\n",
       "       [0.1570654 ],\n",
       "       [0.28181049],\n",
       "       [0.17324752],\n",
       "       [0.37761083],\n",
       "       [0.40277   ],\n",
       "       [0.0479862 ],\n",
       "       [0.27128479],\n",
       "       [0.67782208],\n",
       "       [0.37394972],\n",
       "       [0.24631967],\n",
       "       [0.32269414],\n",
       "       [0.15756331],\n",
       "       [0.18994951],\n",
       "       [0.20919964],\n",
       "       [0.53233312],\n",
       "       [0.13149619],\n",
       "       [0.42154418],\n",
       "       [0.42886641],\n",
       "       [0.49604783],\n",
       "       [0.39225528],\n",
       "       [0.46840643],\n",
       "       [0.06886553],\n",
       "       [0.15654552],\n",
       "       [0.21917984],\n",
       "       [0.16990858],\n",
       "       [0.68587653],\n",
       "       [0.37394972],\n",
       "       [0.32356182],\n",
       "       [0.21917984],\n",
       "       [0.14402085],\n",
       "       [0.29167719],\n",
       "       [0.53869979],\n",
       "       [0.84989438],\n",
       "       [0.18427479],\n",
       "       [0.35564415],\n",
       "       [0.97803332],\n",
       "       [0.2824219 ],\n",
       "       [0.27948203],\n",
       "       [0.50208866],\n",
       "       [0.18810431],\n",
       "       [0.16263761],\n",
       "       [0.55212509],\n",
       "       [0.09378673],\n",
       "       [0.20591196],\n",
       "       [0.39225528],\n",
       "       [0.61192205],\n",
       "       [0.2824219 ],\n",
       "       [0.31410517],\n",
       "       [0.27082716],\n",
       "       [1.        ],\n",
       "       [0.31644828],\n",
       "       [0.03346623],\n",
       "       [0.24581077],\n",
       "       [0.34006978],\n",
       "       [0.26411634],\n",
       "       [0.53869979],\n",
       "       [0.21652187],\n",
       "       [0.25679411],\n",
       "       [0.17814975],\n",
       "       [0.67577918],\n",
       "       [0.41056085],\n",
       "       [0.53869979],\n",
       "       [0.33574235],\n",
       "       [0.40498131],\n",
       "       [0.36721327],\n",
       "       [0.03346623],\n",
       "       [0.15571445],\n",
       "       [0.81328325],\n",
       "       [0.17258852],\n",
       "       [0.13666934],\n",
       "       [0.31903303],\n",
       "       [0.72175543],\n",
       "       [0.20919964],\n",
       "       [0.72175543],\n",
       "       [0.17258852],\n",
       "       [0.39239074],\n",
       "       [0.02744004],\n",
       "       [0.54236091],\n",
       "       [0.42886641],\n",
       "       [0.06275513],\n",
       "       [0.35564415],\n",
       "       [0.17129248],\n",
       "       [0.13011961],\n",
       "       [0.07739958],\n",
       "       [0.35564415],\n",
       "       [0.31903303],\n",
       "       [0.79497769],\n",
       "       [0.2824219 ],\n",
       "       [0.4837831 ],\n",
       "       [0.86819994],\n",
       "       [0.53869979],\n",
       "       [0.29157468],\n",
       "       [0.35564415],\n",
       "       [0.29246799],\n",
       "       [0.21889793],\n",
       "       [0.31903303],\n",
       "       [0.54968313],\n",
       "       [0.57531092],\n",
       "       [0.60459982],\n",
       "       [0.53869979],\n",
       "       [0.26695004],\n",
       "       [0.03859179],\n",
       "       [0.51673312],\n",
       "       [0.4553033 ],\n",
       "       [0.4254213 ],\n",
       "       [0.42886641],\n",
       "       [0.44717197],\n",
       "       [0.83158881],\n",
       "       [0.30072746],\n",
       "       [0.09339499],\n",
       "       [0.22322537],\n",
       "       [0.46557273],\n",
       "       [0.59361648],\n",
       "       [0.2824219 ],\n",
       "       [0.90481107],\n",
       "       [0.19089408],\n",
       "       [0.53869979],\n",
       "       [0.61192205],\n",
       "       [0.29167719],\n",
       "       [0.20919964],\n",
       "       [0.84989438],\n",
       "       [0.21197111],\n",
       "       [0.6265665 ],\n",
       "       [0.        ],\n",
       "       [0.28608301],\n",
       "       [0.32172028],\n",
       "       [0.08474012],\n",
       "       [0.21614111],\n",
       "       [0.03346623],\n",
       "       [0.00417733],\n",
       "       [0.17258852],\n",
       "       [0.24486254],\n",
       "       [0.27082716],\n",
       "       [0.26045522],\n",
       "       [0.54602202],\n",
       "       [0.06950623],\n",
       "       [0.05543291],\n",
       "       [0.6265665 ],\n",
       "       [0.34141341],\n",
       "       [0.52771645],\n",
       "       [0.02347872],\n",
       "       [0.31903303],\n",
       "       [0.2145705 ],\n",
       "       [0.70344987],\n",
       "       [0.12801447],\n",
       "       [0.17258852],\n",
       "       [0.57531092],\n",
       "       [0.03676489],\n",
       "       [0.72175543],\n",
       "       [0.59361648],\n",
       "       [0.06275513],\n",
       "       [0.42886641],\n",
       "       [0.08041268],\n",
       "       [0.19725709],\n",
       "       [0.23124687],\n",
       "       [0.08041268],\n",
       "       [0.66683874],\n",
       "       [0.09427365],\n",
       "       [0.32172028],\n",
       "       [0.31410517],\n",
       "       [0.50208866],\n",
       "       [0.16012975],\n",
       "       [0.41756822],\n",
       "       [0.19549244],\n",
       "       [0.81328325],\n",
       "       [0.31075159],\n",
       "       [0.31410517],\n",
       "       [0.4837831 ],\n",
       "       [0.25234952],\n",
       "       [0.92677774],\n",
       "       [0.72175543],\n",
       "       [0.72175543],\n",
       "       [0.64853318],\n",
       "       [0.39225528],\n",
       "       [0.22314848],\n",
       "       [0.16090591],\n",
       "       [0.00417733],\n",
       "       [0.36915732],\n",
       "       [0.2824219 ],\n",
       "       [0.39225528],\n",
       "       [0.59361648],\n",
       "       [0.25390915],\n",
       "       [0.12368703],\n",
       "       [0.03384333],\n",
       "       [0.34203214],\n",
       "       [0.61192205],\n",
       "       [0.41056085],\n",
       "       [0.31903303],\n",
       "       [0.33001637],\n",
       "       [0.3545568 ],\n",
       "       [0.72175543],\n",
       "       [0.62569515],\n",
       "       [0.66683874],\n",
       "       [0.50884708],\n",
       "       [0.46547754],\n",
       "       [0.22322537],\n",
       "       [0.08300841],\n",
       "       [0.57531092],\n",
       "       [0.33056553],\n",
       "       [0.39875376],\n",
       "       [0.09210261],\n",
       "       [0.2275528 ],\n",
       "       [0.25496355],\n",
       "       [0.05875354],\n",
       "       [0.27082716],\n",
       "       [0.30072746],\n",
       "       [0.27394276],\n",
       "       [0.35564415],\n",
       "       [0.20187742],\n",
       "       [0.19089408],\n",
       "       [0.06338118],\n",
       "       [0.20591196],\n",
       "       [0.39957751],\n",
       "       [0.35564415],\n",
       "       [0.24486254],\n",
       "       [0.37394972],\n",
       "       [0.24580711],\n",
       "       [0.36603805],\n",
       "       [0.38859417],\n",
       "       [0.17648394],\n",
       "       [0.4837831 ],\n",
       "       [0.55700536],\n",
       "       [0.43106308],\n",
       "       [0.46547754],\n",
       "       [0.31903303],\n",
       "       [0.61192205],\n",
       "       [0.53869979],\n",
       "       [0.36333249],\n",
       "       [0.30036135],\n",
       "       [0.4897141 ],\n",
       "       [0.35330104],\n",
       "       [0.42077169],\n",
       "       [0.37285871],\n",
       "       [0.52405534],\n",
       "       [0.43984975],\n",
       "       [0.18119579],\n",
       "       [0.35198304],\n",
       "       [0.41422196],\n",
       "       [0.37856272],\n",
       "       [0.45266364],\n",
       "       [0.87552217],\n",
       "       [0.72175543],\n",
       "       [0.22910878],\n",
       "       [0.13327915],\n",
       "       [0.27702542],\n",
       "       [0.18119579],\n",
       "       [0.59442193],\n",
       "       [0.15723747],\n",
       "       [0.42945219],\n",
       "       [0.32020458],\n",
       "       [0.65563573],\n",
       "       [0.47397132],\n",
       "       [0.79538041],\n",
       "       [0.57560381],\n",
       "       [0.64853318],\n",
       "       [0.42886641],\n",
       "       [0.44420647],\n",
       "       [0.46547754],\n",
       "       [0.39225528],\n",
       "       [0.61192205],\n",
       "       [0.4123914 ],\n",
       "       [0.40287251],\n",
       "       [0.32020458],\n",
       "       [0.40287251],\n",
       "       [0.32020458],\n",
       "       [0.59508093],\n",
       "       [0.47397132],\n",
       "       [0.60093871],\n",
       "       [0.88247828],\n",
       "       [0.48964088],\n",
       "       [0.38961928],\n",
       "       [0.46135879],\n",
       "       [0.33257914],\n",
       "       [0.80962214],\n",
       "       [0.60414218],\n",
       "       [0.63022761],\n",
       "       [0.56286314],\n",
       "       [0.38786195],\n",
       "       [0.3393522 ],\n",
       "       [0.40323862],\n",
       "       [0.4837831 ],\n",
       "       [0.58022413],\n",
       "       [0.49162154],\n",
       "       [0.60093871],\n",
       "       [0.43984975],\n",
       "       [0.27702542],\n",
       "       [0.22910878],\n",
       "       [0.53869979],\n",
       "       [0.76385823],\n",
       "       [0.69393097],\n",
       "       [0.32159581],\n",
       "       [0.46547754],\n",
       "       [0.21395909],\n",
       "       [0.46547754],\n",
       "       [0.21395909],\n",
       "       [0.57531092],\n",
       "       [0.49696311],\n",
       "       [0.48744421],\n",
       "       [0.20187742],\n",
       "       [0.4837831 ],\n",
       "       [0.61192205],\n",
       "       [0.43984975],\n",
       "       [0.68386291],\n",
       "       [0.59360184],\n",
       "       [0.19073665],\n",
       "       [0.19073665],\n",
       "       [0.42222881],\n",
       "       [0.47279976],\n",
       "       [0.59508093],\n",
       "       [0.75388169],\n",
       "       [0.53064534],\n",
       "       [0.49108336],\n",
       "       [0.3613921 ],\n",
       "       [0.46135879],\n",
       "       [0.33257914],\n",
       "       [0.47397132],\n",
       "       [0.12609238],\n",
       "       [0.58995537],\n",
       "       [0.55700536],\n",
       "       [0.44473001],\n",
       "       [0.34890038],\n",
       "       [0.42886641],\n",
       "       [0.40287251],\n",
       "       [0.32020458],\n",
       "       [0.52039423],\n",
       "       [0.37541416],\n",
       "       [0.31146185],\n",
       "       [0.42077169],\n",
       "       [0.77777046],\n",
       "       [0.56872092],\n",
       "       [0.75507156],\n",
       "       [0.55554091],\n",
       "       [0.41398033],\n",
       "       [0.28852131],\n",
       "       [0.63022761],\n",
       "       [0.34890038],\n",
       "       [0.20187742],\n",
       "       [0.66171318],\n",
       "       [0.18119579],\n",
       "       [0.64853318],\n",
       "       [0.2530671 ],\n",
       "       [0.15723747],\n",
       "       [0.2309796 ],\n",
       "       [0.17061518],\n",
       "       [0.27702542],\n",
       "       [0.20515045],\n",
       "       [0.9414222 ],\n",
       "       [0.20919964],\n",
       "       [0.22347798],\n",
       "       [0.57531092],\n",
       "       [0.40067584],\n",
       "       [0.87186105],\n",
       "       [0.57164981],\n",
       "       [0.64853318],\n",
       "       [0.2824219 ],\n",
       "       [0.29303913],\n",
       "       [0.35857304],\n",
       "       [0.17061518],\n",
       "       [0.50355311],\n",
       "       [0.13327915],\n",
       "       [0.15049736],\n",
       "       [0.11025441],\n",
       "       [0.31146185],\n",
       "       [0.27121889],\n",
       "       [0.37285871],\n",
       "       [0.32494206],\n",
       "       [0.2309796 ],\n",
       "       [0.31146185],\n",
       "       [0.68386291],\n",
       "       [0.59360184],\n",
       "       [0.15049736],\n",
       "       [0.11025441],\n",
       "       [0.34890038],\n",
       "       [0.27702542],\n",
       "       [0.77777046],\n",
       "       [0.27121889],\n",
       "       [0.75507156],\n",
       "       [0.55554091],\n",
       "       [0.64853318],\n",
       "       [0.07001512],\n",
       "       [0.2824219 ],\n",
       "       [0.27799561],\n",
       "       [0.71069521],\n",
       "       [0.42886641],\n",
       "       [0.44717197],\n",
       "       [0.12585807],\n",
       "       [0.37394972],\n",
       "       [0.31146185],\n",
       "       [0.202811  ],\n",
       "       [0.35564415],\n",
       "       [0.19073665],\n",
       "       [0.58510074],\n",
       "       [0.42886641],\n",
       "       [0.51673312],\n",
       "       [0.373547  ],\n",
       "       [0.35564415],\n",
       "       [0.50208866],\n",
       "       [0.4837831 ],\n",
       "       [0.17258852],\n",
       "       [0.79497769],\n",
       "       [0.50208866],\n",
       "       [0.66035125],\n",
       "       [0.32494206],\n",
       "       [0.66720485],\n",
       "       [0.79497769],\n",
       "       [0.72175543],\n",
       "       [0.42886641],\n",
       "       [0.42886641],\n",
       "       [0.22750521],\n",
       "       [0.78033323],\n",
       "       [0.75836656],\n",
       "       [0.42886641],\n",
       "       [0.83158881],\n",
       "       [0.35564415],\n",
       "       [0.35564415],\n",
       "       [0.10623085],\n",
       "       [0.72175543],\n",
       "       [0.26411634],\n",
       "       [0.11983188],\n",
       "       [0.27799561],\n",
       "       [0.35564415],\n",
       "       [0.54968313],\n",
       "       [0.20200556],\n",
       "       [0.59361648],\n",
       "       [0.33157966],\n",
       "       [0.18136054],\n",
       "       [0.21890525],\n",
       "       [0.11025441],\n",
       "       [0.13597739],\n",
       "       [0.30960566],\n",
       "       [0.41056085],\n",
       "       [0.30696234],\n",
       "       [0.26411634],\n",
       "       [0.22695238],\n",
       "       [0.42886641],\n",
       "       [0.56432758],\n",
       "       [0.53869979],\n",
       "       [0.24914971],\n",
       "       [0.22750521],\n",
       "       [0.25109742],\n",
       "       [0.06275513],\n",
       "       [0.16526629],\n",
       "       [0.54785257],\n",
       "       [0.23902673],\n",
       "       [0.43745538],\n",
       "       [0.24337979],\n",
       "       [0.02614401],\n",
       "       [0.06275513],\n",
       "       [0.4837831 ],\n",
       "       [0.63754984],\n",
       "       [0.27509967],\n",
       "       [0.4837831 ],\n",
       "       [0.35564415],\n",
       "       [0.32020458],\n",
       "       [0.30072746],\n",
       "       [0.26411634],\n",
       "       [0.77301101],\n",
       "       [0.6946632 ],\n",
       "       [0.96485332],\n",
       "       [0.76978923],\n",
       "       [0.40287251],\n",
       "       [0.55700536],\n",
       "       [0.50684811],\n",
       "       [0.36333249],\n",
       "       [0.41398033],\n",
       "       [0.28852131],\n",
       "       [0.74628122],\n",
       "       [0.35234915],\n",
       "       [0.46547754],\n",
       "       [0.41056085],\n",
       "       [0.39408584],\n",
       "       [0.46547754],\n",
       "       [0.3521661 ],\n",
       "       [0.57531092],\n",
       "       [0.74115933],\n",
       "       [0.50355311],\n",
       "       [0.63388872],\n",
       "       [0.51673312],\n",
       "       [0.72212154],\n",
       "       [0.57531092],\n",
       "       [0.52039423],\n",
       "       [0.24764133],\n",
       "       [0.74115933],\n",
       "       [0.50355311],\n",
       "       [0.74115933],\n",
       "       [0.66574041],\n",
       "       [0.63059372],\n",
       "       [0.50300394],\n",
       "       [0.41477113],\n",
       "       [0.18723297],\n",
       "       [0.61192205],\n",
       "       [0.22910878],\n",
       "       [0.2824219 ],\n",
       "       [0.50208866],\n",
       "       [0.75836656],\n",
       "       [0.50208866],\n",
       "       [0.35564415],\n",
       "       [0.24214966],\n",
       "       [0.75836656],\n",
       "       [0.50208866],\n",
       "       [0.75836656],\n",
       "       [0.53897438],\n",
       "       [0.35564415],\n",
       "       [0.0810607 ],\n",
       "       [0.45266364],\n",
       "       [0.37856272],\n",
       "       [0.79538041],\n",
       "       [0.57560381],\n",
       "       [0.37394972],\n",
       "       [0.39564181],\n",
       "       [0.15723747],\n",
       "       [0.50208866],\n",
       "       [0.35198304],\n",
       "       [0.20919964],\n",
       "       [0.6945314 ],\n",
       "       [0.51985971],\n",
       "       [0.83158881],\n",
       "       [0.53869979],\n",
       "       [0.53965168],\n",
       "       [0.38961928],\n",
       "       [0.75836656],\n",
       "       [0.61192205],\n",
       "       [0.57531092],\n",
       "       [0.46547754],\n",
       "       [0.23482743],\n",
       "       [0.17991074],\n",
       "       [0.55334424],\n",
       "       [0.45083309],\n",
       "       [0.46181642],\n",
       "       [0.53869979],\n",
       "       [0.72175543]])"
      ]
     },
     "execution_count": 21,
     "metadata": {},
     "output_type": "execute_result"
    }
   ],
   "source": [
    "y2"
   ]
  },
  {
   "cell_type": "code",
   "execution_count": null,
   "id": "e72ea38d",
   "metadata": {},
   "outputs": [],
   "source": []
  },
  {
   "cell_type": "markdown",
   "id": "0ea4fe90",
   "metadata": {},
   "source": [
    "# Model Training"
   ]
  },
  {
   "cell_type": "code",
   "execution_count": null,
   "id": "6d8de266",
   "metadata": {},
   "outputs": [],
   "source": []
  },
  {
   "cell_type": "code",
   "execution_count": 22,
   "id": "68193636",
   "metadata": {},
   "outputs": [],
   "source": [
    "x_train1,x_test1,y_train1,y_test1=train_test_split(x1,y1,test_size=0.2,random_state=0)\n",
    "x_train2,x_test2,y_train2,y_test2=train_test_split(x2,y2,test_size=0.2,random_state=0)"
   ]
  },
  {
   "cell_type": "code",
   "execution_count": null,
   "id": "d5bf6a95",
   "metadata": {},
   "outputs": [],
   "source": []
  },
  {
   "cell_type": "code",
   "execution_count": 23,
   "id": "ffef5e78",
   "metadata": {},
   "outputs": [
    {
     "data": {
      "text/plain": [
       "(450, 8)"
      ]
     },
     "execution_count": 23,
     "metadata": {},
     "output_type": "execute_result"
    }
   ],
   "source": [
    "x_train1.shape"
   ]
  },
  {
   "cell_type": "code",
   "execution_count": null,
   "id": "f948c9e5",
   "metadata": {},
   "outputs": [],
   "source": []
  },
  {
   "cell_type": "code",
   "execution_count": 24,
   "id": "78c31d07",
   "metadata": {},
   "outputs": [
    {
     "data": {
      "text/plain": [
       "(113, 8)"
      ]
     },
     "execution_count": 24,
     "metadata": {},
     "output_type": "execute_result"
    }
   ],
   "source": [
    "x_test1.shape"
   ]
  },
  {
   "cell_type": "code",
   "execution_count": null,
   "id": "d417c485",
   "metadata": {},
   "outputs": [],
   "source": []
  },
  {
   "cell_type": "code",
   "execution_count": 25,
   "id": "530e9a77",
   "metadata": {},
   "outputs": [
    {
     "data": {
      "text/plain": [
       "(450, 1)"
      ]
     },
     "execution_count": 25,
     "metadata": {},
     "output_type": "execute_result"
    }
   ],
   "source": [
    "y_train1.shape"
   ]
  },
  {
   "cell_type": "code",
   "execution_count": null,
   "id": "b2aa9dc0",
   "metadata": {},
   "outputs": [],
   "source": []
  },
  {
   "cell_type": "code",
   "execution_count": 26,
   "id": "fc16fda0",
   "metadata": {},
   "outputs": [
    {
     "data": {
      "text/plain": [
       "(113, 1)"
      ]
     },
     "execution_count": 26,
     "metadata": {},
     "output_type": "execute_result"
    }
   ],
   "source": [
    "y_test1.shape"
   ]
  },
  {
   "cell_type": "code",
   "execution_count": null,
   "id": "f11bc303",
   "metadata": {},
   "outputs": [],
   "source": []
  },
  {
   "cell_type": "code",
   "execution_count": 27,
   "id": "18817789",
   "metadata": {},
   "outputs": [
    {
     "data": {
      "text/plain": [
       "(450, 9)"
      ]
     },
     "execution_count": 27,
     "metadata": {},
     "output_type": "execute_result"
    }
   ],
   "source": [
    "x_train2.shape"
   ]
  },
  {
   "cell_type": "code",
   "execution_count": null,
   "id": "fe9f5da3",
   "metadata": {},
   "outputs": [],
   "source": []
  },
  {
   "cell_type": "code",
   "execution_count": 28,
   "id": "96d07c1a",
   "metadata": {},
   "outputs": [
    {
     "data": {
      "text/plain": [
       "(113, 9)"
      ]
     },
     "execution_count": 28,
     "metadata": {},
     "output_type": "execute_result"
    }
   ],
   "source": [
    "x_test2.shape"
   ]
  },
  {
   "cell_type": "code",
   "execution_count": null,
   "id": "391b5118",
   "metadata": {},
   "outputs": [],
   "source": []
  },
  {
   "cell_type": "code",
   "execution_count": 29,
   "id": "88c47909",
   "metadata": {},
   "outputs": [
    {
     "data": {
      "text/plain": [
       "(450, 1)"
      ]
     },
     "execution_count": 29,
     "metadata": {},
     "output_type": "execute_result"
    }
   ],
   "source": [
    "y_train2.shape"
   ]
  },
  {
   "cell_type": "code",
   "execution_count": null,
   "id": "9abf3bf7",
   "metadata": {},
   "outputs": [],
   "source": []
  },
  {
   "cell_type": "code",
   "execution_count": 30,
   "id": "621e0f9c",
   "metadata": {},
   "outputs": [
    {
     "data": {
      "text/plain": [
       "(113, 1)"
      ]
     },
     "execution_count": 30,
     "metadata": {},
     "output_type": "execute_result"
    }
   ],
   "source": [
    "y_test2.shape"
   ]
  },
  {
   "cell_type": "code",
   "execution_count": null,
   "id": "2d4808ee",
   "metadata": {},
   "outputs": [],
   "source": []
  },
  {
   "cell_type": "markdown",
   "id": "16deee34",
   "metadata": {},
   "source": [
    "# Linear Regression"
   ]
  },
  {
   "cell_type": "code",
   "execution_count": null,
   "id": "9fb8366f",
   "metadata": {},
   "outputs": [],
   "source": []
  },
  {
   "cell_type": "code",
   "execution_count": 31,
   "id": "1f9ecf7a",
   "metadata": {},
   "outputs": [],
   "source": [
    "lr1=LinearRegression()\n",
    "lr2=LinearRegression()"
   ]
  },
  {
   "cell_type": "code",
   "execution_count": null,
   "id": "a2c9da06",
   "metadata": {},
   "outputs": [],
   "source": []
  },
  {
   "cell_type": "markdown",
   "id": "e4de3423",
   "metadata": {},
   "source": [
    "# x_train1,y_train1,x_test1,y_test1 model training"
   ]
  },
  {
   "cell_type": "code",
   "execution_count": null,
   "id": "22230cb1",
   "metadata": {},
   "outputs": [],
   "source": []
  },
  {
   "cell_type": "code",
   "execution_count": 32,
   "id": "189edc60",
   "metadata": {},
   "outputs": [
    {
     "name": "stdout",
     "output_type": "stream",
     "text": [
      "Train Data MSE:  0.02939258917508507\n",
      "Test Data MSE:  0.02004503717624745\n"
     ]
    }
   ],
   "source": [
    "lr1.fit(x_train1,y_train1)\n",
    "\n",
    "ytrain1_pred=lr1.predict(x_train1)\n",
    "\n",
    "#ytrain_pred=minmax.inverse_transform(ytrain_pred)\n",
    "\n",
    "ytest1_pred=lr1.predict(x_test1)\n",
    "\n",
    "#ytest_pred=minmax.inverse_transform(ytest_pred)\n",
    "\n",
    "print(\"Train Data MSE: \",mean_squared_error(y_train1,ytrain1_pred))\n",
    "print(\"Test Data MSE: \",mean_squared_error(y_test1,ytest1_pred))\n"
   ]
  },
  {
   "cell_type": "code",
   "execution_count": null,
   "id": "56a644e6",
   "metadata": {},
   "outputs": [],
   "source": []
  },
  {
   "cell_type": "code",
   "execution_count": 33,
   "id": "954c417a",
   "metadata": {},
   "outputs": [
    {
     "name": "stdout",
     "output_type": "stream",
     "text": [
      "Train RMSE:  0.17144267022852003\n",
      "Test RMSE:  0.1415804971606169\n"
     ]
    }
   ],
   "source": [
    "print(\"Train RMSE: \",np.sqrt(metrics.mean_squared_error(y_train1,ytrain1_pred)))\n",
    "print(\"Test RMSE: \",np.sqrt(metrics.mean_squared_error(y_test1,ytest1_pred)))"
   ]
  },
  {
   "cell_type": "code",
   "execution_count": null,
   "id": "e4961241",
   "metadata": {},
   "outputs": [],
   "source": []
  },
  {
   "cell_type": "markdown",
   "id": "4cb16bb6",
   "metadata": {},
   "source": [
    "# x_train2,y_train2,x_test2,y_test2 model training"
   ]
  },
  {
   "cell_type": "code",
   "execution_count": null,
   "id": "19938944",
   "metadata": {},
   "outputs": [],
   "source": []
  },
  {
   "cell_type": "code",
   "execution_count": 34,
   "id": "bf97c1c3",
   "metadata": {},
   "outputs": [
    {
     "name": "stdout",
     "output_type": "stream",
     "text": [
      "Train Data MSE:  0.007771069143941931\n",
      "Test Data MSE:  0.005480261534347417\n"
     ]
    }
   ],
   "source": [
    "lr2.fit(x_train2,y_train2)\n",
    "\n",
    "ytrain2_pred=lr2.predict(x_train2)\n",
    "\n",
    "#ytrain_pred=minmax.inverse_transform(ytrain_pred)\n",
    "\n",
    "ytest2_pred=lr2.predict(x_test2)\n",
    "\n",
    "#ytest_pred=minmax.inverse_transform(ytest_pred)\n",
    "\n",
    "print(\"Train Data MSE: \",mean_squared_error(y_train2,ytrain2_pred))\n",
    "print(\"Test Data MSE: \",mean_squared_error(y_test2,ytest2_pred))\n"
   ]
  },
  {
   "cell_type": "code",
   "execution_count": null,
   "id": "e278840d",
   "metadata": {},
   "outputs": [],
   "source": []
  },
  {
   "cell_type": "code",
   "execution_count": 35,
   "id": "1acb6156",
   "metadata": {},
   "outputs": [
    {
     "name": "stdout",
     "output_type": "stream",
     "text": [
      "Train RMSE:  0.08815366778496474\n",
      "Test RMSE:  0.07402878855112663\n"
     ]
    }
   ],
   "source": [
    "print(\"Train RMSE: \",np.sqrt(metrics.mean_squared_error(y_train2,ytrain2_pred)))\n",
    "print(\"Test RMSE: \",np.sqrt(metrics.mean_squared_error(y_test2,ytest2_pred)))"
   ]
  },
  {
   "cell_type": "code",
   "execution_count": null,
   "id": "16581cd0",
   "metadata": {},
   "outputs": [],
   "source": []
  },
  {
   "cell_type": "markdown",
   "id": "27eeb86e",
   "metadata": {},
   "source": [
    "# SVR"
   ]
  },
  {
   "cell_type": "code",
   "execution_count": null,
   "id": "f31a80fc",
   "metadata": {},
   "outputs": [],
   "source": []
  },
  {
   "cell_type": "code",
   "execution_count": 36,
   "id": "74e64e56",
   "metadata": {},
   "outputs": [],
   "source": [
    "from sklearn.svm import SVR"
   ]
  },
  {
   "cell_type": "code",
   "execution_count": null,
   "id": "be667a45",
   "metadata": {},
   "outputs": [],
   "source": []
  },
  {
   "cell_type": "code",
   "execution_count": 37,
   "id": "78698243",
   "metadata": {},
   "outputs": [],
   "source": [
    "svr1=SVR()\n",
    "svr2=SVR()"
   ]
  },
  {
   "cell_type": "code",
   "execution_count": null,
   "id": "f70e7772",
   "metadata": {},
   "outputs": [],
   "source": []
  },
  {
   "cell_type": "markdown",
   "id": "8f7e0039",
   "metadata": {},
   "source": [
    "# x_train1,y_train1,x_test1,y_test1 model training"
   ]
  },
  {
   "cell_type": "code",
   "execution_count": null,
   "id": "ecadf1b3",
   "metadata": {},
   "outputs": [],
   "source": []
  },
  {
   "cell_type": "code",
   "execution_count": 38,
   "id": "99e3db20",
   "metadata": {},
   "outputs": [
    {
     "name": "stdout",
     "output_type": "stream",
     "text": [
      "Train Data MSE:  0.01533168203522121\n",
      "Test Data MSE:  0.019476702536581667\n"
     ]
    },
    {
     "name": "stderr",
     "output_type": "stream",
     "text": [
      "C:\\Users\\Arsh\\anaconda3\\lib\\site-packages\\sklearn\\utils\\validation.py:1111: DataConversionWarning: A column-vector y was passed when a 1d array was expected. Please change the shape of y to (n_samples, ), for example using ravel().\n",
      "  y = column_or_1d(y, warn=True)\n"
     ]
    }
   ],
   "source": [
    "svr1.fit(x_train1,y_train1)\n",
    "\n",
    "ytrain1_pred=svr1.predict(x_train1)\n",
    "\n",
    "#ytrain_pred=minmax.inverse_transform(ytrain_pred)\n",
    "\n",
    "ytest1_pred=svr1.predict(x_test1)\n",
    "\n",
    "#ytest_pred=minmax.inverse_transform(ytest_pred)\n",
    "\n",
    "print(\"Train Data MSE: \",mean_squared_error(y_train1,ytrain1_pred))\n",
    "print(\"Test Data MSE: \",mean_squared_error(y_test1,ytest1_pred))\n"
   ]
  },
  {
   "cell_type": "code",
   "execution_count": null,
   "id": "6f01820a",
   "metadata": {},
   "outputs": [],
   "source": []
  },
  {
   "cell_type": "code",
   "execution_count": 39,
   "id": "5815bcfc",
   "metadata": {},
   "outputs": [
    {
     "name": "stdout",
     "output_type": "stream",
     "text": [
      "Train RMSE:  0.12382116957621266\n",
      "Test RMSE:  0.1395589572065572\n"
     ]
    }
   ],
   "source": [
    "print(\"Train RMSE: \",np.sqrt(metrics.mean_squared_error(y_train1,ytrain1_pred)))\n",
    "print(\"Test RMSE: \",np.sqrt(metrics.mean_squared_error(y_test1,ytest1_pred)))"
   ]
  },
  {
   "cell_type": "code",
   "execution_count": null,
   "id": "94f2aa5a",
   "metadata": {},
   "outputs": [],
   "source": []
  },
  {
   "cell_type": "markdown",
   "id": "ab333458",
   "metadata": {},
   "source": [
    "# x_train2,y_train2,x_test2,y_test2 model training"
   ]
  },
  {
   "cell_type": "code",
   "execution_count": null,
   "id": "7bd2ca4d",
   "metadata": {},
   "outputs": [],
   "source": []
  },
  {
   "cell_type": "code",
   "execution_count": 40,
   "id": "a0ddd478",
   "metadata": {},
   "outputs": [
    {
     "name": "stdout",
     "output_type": "stream",
     "text": [
      "Train Data MSE:  0.004549316354154223\n",
      "Test Data MSE:  0.0074270914262923775\n"
     ]
    },
    {
     "name": "stderr",
     "output_type": "stream",
     "text": [
      "C:\\Users\\Arsh\\anaconda3\\lib\\site-packages\\sklearn\\utils\\validation.py:1111: DataConversionWarning: A column-vector y was passed when a 1d array was expected. Please change the shape of y to (n_samples, ), for example using ravel().\n",
      "  y = column_or_1d(y, warn=True)\n"
     ]
    }
   ],
   "source": [
    "svr2.fit(x_train2,y_train2)\n",
    "\n",
    "ytrain2_pred=svr2.predict(x_train2)\n",
    "\n",
    "#ytrain_pred=minmax.inverse_transform(ytrain_pred)\n",
    "\n",
    "ytest2_pred=svr2.predict(x_test2)\n",
    "\n",
    "#ytest_pred=minmax.inverse_transform(ytest_pred)\n",
    "\n",
    "print(\"Train Data MSE: \",mean_squared_error(y_train2,ytrain2_pred))\n",
    "print(\"Test Data MSE: \",mean_squared_error(y_test2,ytest2_pred))\n"
   ]
  },
  {
   "cell_type": "code",
   "execution_count": null,
   "id": "6f5456e7",
   "metadata": {},
   "outputs": [],
   "source": []
  },
  {
   "cell_type": "code",
   "execution_count": 41,
   "id": "594d90ad",
   "metadata": {},
   "outputs": [
    {
     "name": "stdout",
     "output_type": "stream",
     "text": [
      "Train RMSE:  0.06744862010563465\n",
      "Test RMSE:  0.0861805745298346\n"
     ]
    }
   ],
   "source": [
    "print(\"Train RMSE: \",np.sqrt(metrics.mean_squared_error(y_train2,ytrain2_pred)))\n",
    "print(\"Test RMSE: \",np.sqrt(metrics.mean_squared_error(y_test2,ytest2_pred)))"
   ]
  },
  {
   "cell_type": "code",
   "execution_count": null,
   "id": "33eb3637",
   "metadata": {},
   "outputs": [],
   "source": []
  },
  {
   "cell_type": "markdown",
   "id": "396255bc",
   "metadata": {},
   "source": [
    "# LR is slightly better than SVR on data dataset"
   ]
  },
  {
   "cell_type": "code",
   "execution_count": null,
   "id": "d8bf3c75",
   "metadata": {},
   "outputs": [],
   "source": []
  },
  {
   "cell_type": "markdown",
   "id": "66346ef4",
   "metadata": {},
   "source": [
    "# Decision Tree Regressor"
   ]
  },
  {
   "cell_type": "code",
   "execution_count": null,
   "id": "9025a05d",
   "metadata": {},
   "outputs": [],
   "source": []
  },
  {
   "cell_type": "code",
   "execution_count": 42,
   "id": "6645a9b4",
   "metadata": {},
   "outputs": [],
   "source": [
    "from sklearn.tree import DecisionTreeRegressor"
   ]
  },
  {
   "cell_type": "code",
   "execution_count": null,
   "id": "fe2f308f",
   "metadata": {},
   "outputs": [],
   "source": []
  },
  {
   "cell_type": "code",
   "execution_count": 43,
   "id": "6fe065fd",
   "metadata": {},
   "outputs": [],
   "source": [
    "dtr1=DecisionTreeRegressor()\n",
    "dtr2=DecisionTreeRegressor()"
   ]
  },
  {
   "cell_type": "code",
   "execution_count": null,
   "id": "3902cb72",
   "metadata": {},
   "outputs": [],
   "source": []
  },
  {
   "cell_type": "markdown",
   "id": "5ce1ad42",
   "metadata": {},
   "source": [
    "# x_train1,y_train1,x_test1,y_test1 model training"
   ]
  },
  {
   "cell_type": "code",
   "execution_count": null,
   "id": "fc01c988",
   "metadata": {},
   "outputs": [],
   "source": []
  },
  {
   "cell_type": "code",
   "execution_count": 44,
   "id": "f8ffdb1f",
   "metadata": {},
   "outputs": [
    {
     "name": "stdout",
     "output_type": "stream",
     "text": [
      "Train Data MSE:  0.00565645177963482\n",
      "Test Data MSE:  0.02183813130830913\n",
      "Train RMSE:  0.0752093862468962\n",
      "Test RMSE:  0.14777730308917242\n"
     ]
    }
   ],
   "source": [
    "dtr1.fit(x_train1,y_train1)\n",
    "\n",
    "ytrain1_pred=dtr1.predict(x_train1)\n",
    "\n",
    "#ytrain_pred=minmax.inverse_transform(ytrain_pred)\n",
    "\n",
    "ytest1_pred=dtr1.predict(x_test1)\n",
    "\n",
    "#ytest_pred=minmax.inverse_transform(ytest_pred)\n",
    "\n",
    "print(\"Train Data MSE: \",mean_squared_error(y_train1,ytrain1_pred))\n",
    "print(\"Test Data MSE: \",mean_squared_error(y_test1,ytest1_pred))\n",
    "print(\"Train RMSE: \",np.sqrt(metrics.mean_squared_error(y_train1,ytrain1_pred)))\n",
    "print(\"Test RMSE: \",np.sqrt(metrics.mean_squared_error(y_test1,ytest1_pred)))"
   ]
  },
  {
   "cell_type": "code",
   "execution_count": null,
   "id": "07757922",
   "metadata": {},
   "outputs": [],
   "source": []
  },
  {
   "cell_type": "markdown",
   "id": "e9d8825d",
   "metadata": {},
   "source": [
    "# x_train2,y_train2,x_test2,y_test2 model training"
   ]
  },
  {
   "cell_type": "code",
   "execution_count": null,
   "id": "4ad80d31",
   "metadata": {},
   "outputs": [],
   "source": []
  },
  {
   "cell_type": "code",
   "execution_count": 45,
   "id": "f769cdad",
   "metadata": {},
   "outputs": [
    {
     "name": "stdout",
     "output_type": "stream",
     "text": [
      "Train Data MSE:  2.3967128196818935e-34\n",
      "Test Data MSE:  0.003918975284394695\n",
      "Train RMSE:  1.5481320420693753e-17\n",
      "Test RMSE:  0.06260171950030363\n"
     ]
    }
   ],
   "source": [
    "dtr2.fit(x_train2,y_train2)\n",
    "\n",
    "ytrain2_pred=dtr2.predict(x_train2)\n",
    "\n",
    "#ytrain_pred=minmax.inverse_transform(ytrain_pred)\n",
    "\n",
    "ytest2_pred=dtr2.predict(x_test2)\n",
    "\n",
    "#ytest_pred=minmax.inverse_transform(ytest_pred)\n",
    "\n",
    "print(\"Train Data MSE: \",mean_squared_error(y_train2,ytrain2_pred))\n",
    "print(\"Test Data MSE: \",mean_squared_error(y_test2,ytest2_pred))\n",
    "print(\"Train RMSE: \",np.sqrt(metrics.mean_squared_error(y_train2,ytrain2_pred)))\n",
    "print(\"Test RMSE: \",np.sqrt(metrics.mean_squared_error(y_test2,ytest2_pred)))"
   ]
  },
  {
   "cell_type": "code",
   "execution_count": null,
   "id": "7e766eb4",
   "metadata": {},
   "outputs": [],
   "source": []
  },
  {
   "cell_type": "markdown",
   "id": "dc3bb499",
   "metadata": {},
   "source": [
    "# DTR is biased on  data dataset still well try with hyperparameter Tuning"
   ]
  },
  {
   "cell_type": "code",
   "execution_count": null,
   "id": "e4587401",
   "metadata": {},
   "outputs": [],
   "source": []
  },
  {
   "cell_type": "markdown",
   "id": "1643ad3e",
   "metadata": {},
   "source": [
    "# DTR Hyperparameter  Tuning"
   ]
  },
  {
   "cell_type": "code",
   "execution_count": null,
   "id": "14e3b5f7",
   "metadata": {},
   "outputs": [],
   "source": []
  },
  {
   "cell_type": "markdown",
   "id": "44250b18",
   "metadata": {},
   "source": [
    "# max_depth at max_features NONE"
   ]
  },
  {
   "cell_type": "code",
   "execution_count": null,
   "id": "720e281c",
   "metadata": {},
   "outputs": [],
   "source": []
  },
  {
   "cell_type": "code",
   "execution_count": 46,
   "id": "fe5b95aa",
   "metadata": {},
   "outputs": [
    {
     "name": "stdout",
     "output_type": "stream",
     "text": [
      "At depth:  2\n",
      "Sal Train RMSE:  0.15589102984120318\n",
      "Sal Test RMSE:  0.14627534973895978\n",
      "\n",
      "\n",
      "Sal_in_usd Train RMSE:  0.09703379923191395\n",
      "Sal_in_usd Test RMSE:  0.07935857217359045\n",
      "\n",
      "\n",
      "\n",
      "At depth:  3\n",
      "Sal Train RMSE:  0.14472975293913773\n",
      "Sal Test RMSE:  0.1385654905866779\n",
      "\n",
      "\n",
      "Sal_in_usd Train RMSE:  0.07197220527143532\n",
      "Sal_in_usd Test RMSE:  0.07036017455616049\n",
      "\n",
      "\n",
      "\n",
      "At depth:  4\n",
      "Sal Train RMSE:  0.13149829136525024\n",
      "Sal Test RMSE:  0.15562364971588327\n",
      "\n",
      "\n",
      "Sal_in_usd Train RMSE:  0.046232071056796366\n",
      "Sal_in_usd Test RMSE:  0.06643340077954919\n",
      "\n",
      "\n",
      "\n",
      "At depth:  5\n",
      "Sal Train RMSE:  0.1215738811475454\n",
      "Sal Test RMSE:  0.15861865179753998\n",
      "\n",
      "\n",
      "Sal_in_usd Train RMSE:  0.034506040474563404\n",
      "Sal_in_usd Test RMSE:  0.06467264862873451\n",
      "\n",
      "\n",
      "\n",
      "At depth:  6\n",
      "Sal Train RMSE:  0.11188679761449741\n",
      "Sal Test RMSE:  0.14392406361807003\n",
      "\n",
      "\n",
      "Sal_in_usd Train RMSE:  0.019515973288735458\n",
      "Sal_in_usd Test RMSE:  0.06464972912127641\n",
      "\n",
      "\n",
      "\n",
      "At depth:  7\n",
      "Sal Train RMSE:  0.10097386286392956\n",
      "Sal Test RMSE:  0.14053720131552452\n",
      "\n",
      "\n",
      "Sal_in_usd Train RMSE:  0.013220566259955343\n",
      "Sal_in_usd Test RMSE:  0.06383630199257259\n",
      "\n",
      "\n",
      "\n",
      "At depth:  8\n",
      "Sal Train RMSE:  0.0927009681446589\n",
      "Sal Test RMSE:  0.1379988291888821\n",
      "\n",
      "\n",
      "Sal_in_usd Train RMSE:  0.007730624797688969\n",
      "Sal_in_usd Test RMSE:  0.06311419002011437\n",
      "\n",
      "\n",
      "\n"
     ]
    }
   ],
   "source": [
    "max_depth=[2,3,4,5,6,7,8]\n",
    "\n",
    "for md in max_depth:\n",
    "    \n",
    "    dtr1=DecisionTreeRegressor(max_depth=md)\n",
    "    dtr2=DecisionTreeRegressor(max_depth=md)\n",
    "    \n",
    "    print(\"At depth: \",md)\n",
    "    \n",
    "    dtr1.fit(x_train1,y_train1)\n",
    "\n",
    "    ytrain1_pred=dtr1.predict(x_train1)\n",
    "    ytest1_pred=dtr1.predict(x_test1)\n",
    "\n",
    "    print(\"Sal Train RMSE: \",np.sqrt(metrics.mean_squared_error(y_train1,ytrain1_pred)))\n",
    "    print(\"Sal Test RMSE: \",np.sqrt(metrics.mean_squared_error(y_test1,ytest1_pred)))\n",
    "    \n",
    "    print(\"\\n\")\n",
    "    \n",
    "    dtr2.fit(x_train2,y_train2)\n",
    "\n",
    "    ytrain2_pred=dtr2.predict(x_train2)\n",
    "    \n",
    "    ytest2_pred=dtr2.predict(x_test2)\n",
    "\n",
    "    print(\"Sal_in_usd Train RMSE: \",np.sqrt(metrics.mean_squared_error(y_train2,ytrain2_pred)))\n",
    "    print(\"Sal_in_usd Test RMSE: \",np.sqrt(metrics.mean_squared_error(y_test2,ytest2_pred)))\n",
    "    \n",
    "    print(\"\\n\\n\")\n",
    "    \n",
    "    "
   ]
  },
  {
   "cell_type": "code",
   "execution_count": null,
   "id": "2cd66611",
   "metadata": {},
   "outputs": [],
   "source": []
  },
  {
   "cell_type": "markdown",
   "id": "6e4c687f",
   "metadata": {},
   "source": [
    "# max_features at max_depth 5"
   ]
  },
  {
   "cell_type": "code",
   "execution_count": null,
   "id": "9accc3f9",
   "metadata": {},
   "outputs": [],
   "source": []
  },
  {
   "cell_type": "code",
   "execution_count": 47,
   "id": "9deacae5",
   "metadata": {},
   "outputs": [
    {
     "name": "stdout",
     "output_type": "stream",
     "text": [
      "At max_features:  auto\n",
      "Sal Train RMSE:  0.1215738811475454\n",
      "Sal Test RMSE:  0.1587659960533633\n",
      "\n",
      "\n",
      "Sal_in_usd Train RMSE:  0.034506040474563404\n",
      "Sal_in_usd Test RMSE:  0.06467264862873448\n",
      "\n",
      "\n",
      "\n",
      "At max_features:  sqrt\n",
      "Sal Train RMSE:  0.1440104739695644\n",
      "Sal Test RMSE:  0.15985588223011\n",
      "\n",
      "\n",
      "Sal_in_usd Train RMSE:  0.09043720509237799\n",
      "Sal_in_usd Test RMSE:  0.11481138455956479\n",
      "\n",
      "\n",
      "\n",
      "At max_features:  log2\n",
      "Sal Train RMSE:  0.14437556762779472\n",
      "Sal Test RMSE:  0.14318544140586928\n",
      "\n",
      "\n",
      "Sal_in_usd Train RMSE:  0.09187657835376782\n",
      "Sal_in_usd Test RMSE:  0.09705747666235241\n",
      "\n",
      "\n",
      "\n"
     ]
    },
    {
     "name": "stderr",
     "output_type": "stream",
     "text": [
      "C:\\Users\\Arsh\\anaconda3\\lib\\site-packages\\sklearn\\tree\\_classes.py:306: FutureWarning: `max_features='auto'` has been deprecated in 1.1 and will be removed in 1.3. To keep the past behaviour, explicitly set `max_features=1.0'`.\n",
      "  warnings.warn(\n",
      "C:\\Users\\Arsh\\anaconda3\\lib\\site-packages\\sklearn\\tree\\_classes.py:306: FutureWarning: `max_features='auto'` has been deprecated in 1.1 and will be removed in 1.3. To keep the past behaviour, explicitly set `max_features=1.0'`.\n",
      "  warnings.warn(\n"
     ]
    }
   ],
   "source": [
    "max_features=[\"auto\",\"sqrt\",\"log2\"]\n",
    "\n",
    "for mf in max_features:\n",
    "    \n",
    "    dtr1=DecisionTreeRegressor(max_depth=5,max_features=mf)\n",
    "    dtr2=DecisionTreeRegressor(max_depth=5,max_features=mf)\n",
    "    \n",
    "    print(\"At max_features: \",mf)\n",
    "    \n",
    "    dtr1.fit(x_train1,y_train1)\n",
    "\n",
    "    ytrain1_pred=dtr1.predict(x_train1)\n",
    "    ytest1_pred=dtr1.predict(x_test1)\n",
    "\n",
    "    print(\"Sal Train RMSE: \",np.sqrt(metrics.mean_squared_error(y_train1,ytrain1_pred)))\n",
    "    print(\"Sal Test RMSE: \",np.sqrt(metrics.mean_squared_error(y_test1,ytest1_pred)))\n",
    "    \n",
    "    print(\"\\n\")\n",
    "    \n",
    "    dtr2.fit(x_train2,y_train2)\n",
    "\n",
    "    ytrain2_pred=dtr2.predict(x_train2)\n",
    "    \n",
    "    ytest2_pred=dtr2.predict(x_test2)\n",
    "\n",
    "    print(\"Sal_in_usd Train RMSE: \",np.sqrt(metrics.mean_squared_error(y_train2,ytrain2_pred)))\n",
    "    print(\"Sal_in_usd Test RMSE: \",np.sqrt(metrics.mean_squared_error(y_test2,ytest2_pred)))\n",
    "    \n",
    "    print(\"\\n\\n\")\n",
    "    \n",
    "    "
   ]
  },
  {
   "cell_type": "code",
   "execution_count": null,
   "id": "b7d7fb7c",
   "metadata": {},
   "outputs": [],
   "source": []
  },
  {
   "cell_type": "markdown",
   "id": "6c8bfe6a",
   "metadata": {},
   "source": [
    "# DTR working much better with max_depth=5 . It is not biased and better performance than SVR and LR"
   ]
  },
  {
   "cell_type": "code",
   "execution_count": null,
   "id": "5b728bcc",
   "metadata": {},
   "outputs": [],
   "source": []
  },
  {
   "cell_type": "markdown",
   "id": "337e80a7",
   "metadata": {},
   "source": [
    "# RandomForestRegressor"
   ]
  },
  {
   "cell_type": "code",
   "execution_count": null,
   "id": "37fe78ed",
   "metadata": {},
   "outputs": [],
   "source": []
  },
  {
   "cell_type": "code",
   "execution_count": 48,
   "id": "4e398124",
   "metadata": {},
   "outputs": [],
   "source": [
    "from sklearn.ensemble import RandomForestRegressor"
   ]
  },
  {
   "cell_type": "code",
   "execution_count": null,
   "id": "c3285c91",
   "metadata": {},
   "outputs": [],
   "source": []
  },
  {
   "cell_type": "code",
   "execution_count": 49,
   "id": "10799e29",
   "metadata": {},
   "outputs": [],
   "source": [
    "rft1=RandomForestRegressor()\n",
    "rft2=RandomForestRegressor()"
   ]
  },
  {
   "cell_type": "code",
   "execution_count": null,
   "id": "8b0d91c4",
   "metadata": {},
   "outputs": [],
   "source": []
  },
  {
   "cell_type": "code",
   "execution_count": 50,
   "id": "f603b4da",
   "metadata": {},
   "outputs": [
    {
     "name": "stderr",
     "output_type": "stream",
     "text": [
      "C:\\Users\\Arsh\\AppData\\Local\\Temp/ipykernel_7400/2902215390.py:1: DataConversionWarning: A column-vector y was passed when a 1d array was expected. Please change the shape of y to (n_samples,), for example using ravel().\n",
      "  rft1.fit(x_train1,y_train1)\n"
     ]
    },
    {
     "name": "stdout",
     "output_type": "stream",
     "text": [
      "Sal Train RMSE:  0.08770543449629195\n",
      "Sal Test RMSE:  0.13149291628930926\n",
      "\n",
      "\n"
     ]
    },
    {
     "name": "stderr",
     "output_type": "stream",
     "text": [
      "C:\\Users\\Arsh\\AppData\\Local\\Temp/ipykernel_7400/2902215390.py:11: DataConversionWarning: A column-vector y was passed when a 1d array was expected. Please change the shape of y to (n_samples,), for example using ravel().\n",
      "  rft2.fit(x_train2,y_train2)\n"
     ]
    },
    {
     "name": "stdout",
     "output_type": "stream",
     "text": [
      "Sal_in_usd Train RMSE:  0.0216986938300504\n",
      "Sal_in_usd Test RMSE:  0.0491474223376994\n"
     ]
    }
   ],
   "source": [
    "rft1.fit(x_train1,y_train1)\n",
    "\n",
    "ytrain1_pred=rft1.predict(x_train1)\n",
    "ytest1_pred=rft1.predict(x_test1)\n",
    "\n",
    "print(\"Sal Train RMSE: \",np.sqrt(metrics.mean_squared_error(y_train1,ytrain1_pred)))\n",
    "print(\"Sal Test RMSE: \",np.sqrt(metrics.mean_squared_error(y_test1,ytest1_pred)))\n",
    "    \n",
    "print(\"\\n\")\n",
    "    \n",
    "rft2.fit(x_train2,y_train2)\n",
    "\n",
    "ytrain2_pred=rft2.predict(x_train2)\n",
    "    \n",
    "ytest2_pred=rft2.predict(x_test2)\n",
    "\n",
    "print(\"Sal_in_usd Train RMSE: \",np.sqrt(metrics.mean_squared_error(y_train2,ytrain2_pred)))\n",
    "print(\"Sal_in_usd Test RMSE: \",np.sqrt(metrics.mean_squared_error(y_test2,ytest2_pred)))"
   ]
  },
  {
   "cell_type": "code",
   "execution_count": null,
   "id": "3d672ef9",
   "metadata": {},
   "outputs": [],
   "source": []
  },
  {
   "cell_type": "markdown",
   "id": "2337b8c1",
   "metadata": {},
   "source": [
    "# rft working pretty good try to improvise through hyperparameter tuning"
   ]
  },
  {
   "cell_type": "code",
   "execution_count": null,
   "id": "7d8602cc",
   "metadata": {},
   "outputs": [],
   "source": []
  },
  {
   "cell_type": "markdown",
   "id": "c74170b9",
   "metadata": {},
   "source": [
    "# n_estimators at default depth None"
   ]
  },
  {
   "cell_type": "code",
   "execution_count": null,
   "id": "f3f221e9",
   "metadata": {},
   "outputs": [],
   "source": []
  },
  {
   "cell_type": "code",
   "execution_count": 51,
   "id": "0c895b21",
   "metadata": {},
   "outputs": [
    {
     "name": "stdout",
     "output_type": "stream",
     "text": [
      "At estimators:  150\n"
     ]
    },
    {
     "name": "stderr",
     "output_type": "stream",
     "text": [
      "C:\\Users\\Arsh\\AppData\\Local\\Temp/ipykernel_7400/267109605.py:10: DataConversionWarning: A column-vector y was passed when a 1d array was expected. Please change the shape of y to (n_samples,), for example using ravel().\n",
      "  rft1.fit(x_train1,y_train1)\n"
     ]
    },
    {
     "name": "stdout",
     "output_type": "stream",
     "text": [
      "Sal Train RMSE:  0.08772041803951193\n",
      "Sal Test RMSE:  0.13193368189572205\n",
      "\n",
      "\n"
     ]
    },
    {
     "name": "stderr",
     "output_type": "stream",
     "text": [
      "C:\\Users\\Arsh\\AppData\\Local\\Temp/ipykernel_7400/267109605.py:20: DataConversionWarning: A column-vector y was passed when a 1d array was expected. Please change the shape of y to (n_samples,), for example using ravel().\n",
      "  rft2.fit(x_train2,y_train2)\n"
     ]
    },
    {
     "name": "stdout",
     "output_type": "stream",
     "text": [
      "Sal_in_usd Train RMSE:  0.02345778877263712\n",
      "Sal_in_usd Test RMSE:  0.054913075038773046\n",
      "\n",
      "\n",
      "\n",
      "At estimators:  160\n"
     ]
    },
    {
     "name": "stderr",
     "output_type": "stream",
     "text": [
      "C:\\Users\\Arsh\\AppData\\Local\\Temp/ipykernel_7400/267109605.py:10: DataConversionWarning: A column-vector y was passed when a 1d array was expected. Please change the shape of y to (n_samples,), for example using ravel().\n",
      "  rft1.fit(x_train1,y_train1)\n"
     ]
    },
    {
     "name": "stdout",
     "output_type": "stream",
     "text": [
      "Sal Train RMSE:  0.08720678365170632\n",
      "Sal Test RMSE:  0.13110166862304967\n",
      "\n",
      "\n"
     ]
    },
    {
     "name": "stderr",
     "output_type": "stream",
     "text": [
      "C:\\Users\\Arsh\\AppData\\Local\\Temp/ipykernel_7400/267109605.py:20: DataConversionWarning: A column-vector y was passed when a 1d array was expected. Please change the shape of y to (n_samples,), for example using ravel().\n",
      "  rft2.fit(x_train2,y_train2)\n"
     ]
    },
    {
     "name": "stdout",
     "output_type": "stream",
     "text": [
      "Sal_in_usd Train RMSE:  0.0224735698463026\n",
      "Sal_in_usd Test RMSE:  0.05327600302451715\n",
      "\n",
      "\n",
      "\n",
      "At estimators:  170\n"
     ]
    },
    {
     "name": "stderr",
     "output_type": "stream",
     "text": [
      "C:\\Users\\Arsh\\AppData\\Local\\Temp/ipykernel_7400/267109605.py:10: DataConversionWarning: A column-vector y was passed when a 1d array was expected. Please change the shape of y to (n_samples,), for example using ravel().\n",
      "  rft1.fit(x_train1,y_train1)\n"
     ]
    },
    {
     "name": "stdout",
     "output_type": "stream",
     "text": [
      "Sal Train RMSE:  0.0873671777765074\n",
      "Sal Test RMSE:  0.1326579704216209\n",
      "\n",
      "\n"
     ]
    },
    {
     "name": "stderr",
     "output_type": "stream",
     "text": [
      "C:\\Users\\Arsh\\AppData\\Local\\Temp/ipykernel_7400/267109605.py:20: DataConversionWarning: A column-vector y was passed when a 1d array was expected. Please change the shape of y to (n_samples,), for example using ravel().\n",
      "  rft2.fit(x_train2,y_train2)\n"
     ]
    },
    {
     "name": "stdout",
     "output_type": "stream",
     "text": [
      "Sal_in_usd Train RMSE:  0.024270226286838746\n",
      "Sal_in_usd Test RMSE:  0.05449704676198354\n",
      "\n",
      "\n",
      "\n",
      "At estimators:  180\n"
     ]
    },
    {
     "name": "stderr",
     "output_type": "stream",
     "text": [
      "C:\\Users\\Arsh\\AppData\\Local\\Temp/ipykernel_7400/267109605.py:10: DataConversionWarning: A column-vector y was passed when a 1d array was expected. Please change the shape of y to (n_samples,), for example using ravel().\n",
      "  rft1.fit(x_train1,y_train1)\n"
     ]
    },
    {
     "name": "stdout",
     "output_type": "stream",
     "text": [
      "Sal Train RMSE:  0.0876966602134003\n",
      "Sal Test RMSE:  0.13263670090037025\n",
      "\n",
      "\n"
     ]
    },
    {
     "name": "stderr",
     "output_type": "stream",
     "text": [
      "C:\\Users\\Arsh\\AppData\\Local\\Temp/ipykernel_7400/267109605.py:20: DataConversionWarning: A column-vector y was passed when a 1d array was expected. Please change the shape of y to (n_samples,), for example using ravel().\n",
      "  rft2.fit(x_train2,y_train2)\n"
     ]
    },
    {
     "name": "stdout",
     "output_type": "stream",
     "text": [
      "Sal_in_usd Train RMSE:  0.024037312802299562\n",
      "Sal_in_usd Test RMSE:  0.05298120166303218\n",
      "\n",
      "\n",
      "\n",
      "At estimators:  190\n"
     ]
    },
    {
     "name": "stderr",
     "output_type": "stream",
     "text": [
      "C:\\Users\\Arsh\\AppData\\Local\\Temp/ipykernel_7400/267109605.py:10: DataConversionWarning: A column-vector y was passed when a 1d array was expected. Please change the shape of y to (n_samples,), for example using ravel().\n",
      "  rft1.fit(x_train1,y_train1)\n"
     ]
    },
    {
     "name": "stdout",
     "output_type": "stream",
     "text": [
      "Sal Train RMSE:  0.08708859393800375\n",
      "Sal Test RMSE:  0.1326859376478548\n",
      "\n",
      "\n"
     ]
    },
    {
     "name": "stderr",
     "output_type": "stream",
     "text": [
      "C:\\Users\\Arsh\\AppData\\Local\\Temp/ipykernel_7400/267109605.py:20: DataConversionWarning: A column-vector y was passed when a 1d array was expected. Please change the shape of y to (n_samples,), for example using ravel().\n",
      "  rft2.fit(x_train2,y_train2)\n"
     ]
    },
    {
     "name": "stdout",
     "output_type": "stream",
     "text": [
      "Sal_in_usd Train RMSE:  0.02355195476483673\n",
      "Sal_in_usd Test RMSE:  0.05294445020410492\n",
      "\n",
      "\n",
      "\n",
      "At estimators:  200\n"
     ]
    },
    {
     "name": "stderr",
     "output_type": "stream",
     "text": [
      "C:\\Users\\Arsh\\AppData\\Local\\Temp/ipykernel_7400/267109605.py:10: DataConversionWarning: A column-vector y was passed when a 1d array was expected. Please change the shape of y to (n_samples,), for example using ravel().\n",
      "  rft1.fit(x_train1,y_train1)\n"
     ]
    },
    {
     "name": "stdout",
     "output_type": "stream",
     "text": [
      "Sal Train RMSE:  0.08711132473450148\n",
      "Sal Test RMSE:  0.1315003130633185\n",
      "\n",
      "\n"
     ]
    },
    {
     "name": "stderr",
     "output_type": "stream",
     "text": [
      "C:\\Users\\Arsh\\AppData\\Local\\Temp/ipykernel_7400/267109605.py:20: DataConversionWarning: A column-vector y was passed when a 1d array was expected. Please change the shape of y to (n_samples,), for example using ravel().\n",
      "  rft2.fit(x_train2,y_train2)\n"
     ]
    },
    {
     "name": "stdout",
     "output_type": "stream",
     "text": [
      "Sal_in_usd Train RMSE:  0.023433768914616324\n",
      "Sal_in_usd Test RMSE:  0.05313679791446567\n",
      "\n",
      "\n",
      "\n"
     ]
    }
   ],
   "source": [
    "estimators=[150,160,170,180,190,200]\n",
    "\n",
    "for est in estimators:\n",
    "    \n",
    "    rft1=RandomForestRegressor(n_estimators=est)\n",
    "    rft2=RandomForestRegressor(n_estimators=est)\n",
    "    \n",
    "    print(\"At estimators: \",est)\n",
    "    \n",
    "    rft1.fit(x_train1,y_train1)\n",
    "\n",
    "    ytrain1_pred=rft1.predict(x_train1)\n",
    "    ytest1_pred=rft1.predict(x_test1)\n",
    "\n",
    "    print(\"Sal Train RMSE: \",np.sqrt(metrics.mean_squared_error(y_train1,ytrain1_pred)))\n",
    "    print(\"Sal Test RMSE: \",np.sqrt(metrics.mean_squared_error(y_test1,ytest1_pred)))\n",
    "    \n",
    "    print(\"\\n\")\n",
    "    \n",
    "    rft2.fit(x_train2,y_train2)\n",
    "\n",
    "    ytrain2_pred=rft2.predict(x_train2)\n",
    "    \n",
    "    ytest2_pred=rft2.predict(x_test2)\n",
    "\n",
    "    print(\"Sal_in_usd Train RMSE: \",np.sqrt(metrics.mean_squared_error(y_train2,ytrain2_pred)))\n",
    "    print(\"Sal_in_usd Test RMSE: \",np.sqrt(metrics.mean_squared_error(y_test2,ytest2_pred)))\n",
    "    \n",
    "    print(\"\\n\\n\")\n",
    "    \n",
    "    "
   ]
  },
  {
   "cell_type": "code",
   "execution_count": null,
   "id": "917a1b45",
   "metadata": {},
   "outputs": [],
   "source": []
  },
  {
   "cell_type": "markdown",
   "id": "285798e0",
   "metadata": {},
   "source": [
    "# max_depth at n_estimators at 200"
   ]
  },
  {
   "cell_type": "code",
   "execution_count": null,
   "id": "8d192232",
   "metadata": {},
   "outputs": [],
   "source": []
  },
  {
   "cell_type": "code",
   "execution_count": 52,
   "id": "935fc661",
   "metadata": {},
   "outputs": [
    {
     "name": "stdout",
     "output_type": "stream",
     "text": [
      "At depth:  2\n"
     ]
    },
    {
     "name": "stderr",
     "output_type": "stream",
     "text": [
      "C:\\Users\\Arsh\\AppData\\Local\\Temp/ipykernel_7400/3284441760.py:10: DataConversionWarning: A column-vector y was passed when a 1d array was expected. Please change the shape of y to (n_samples,), for example using ravel().\n",
      "  rft1.fit(x_train1,y_train1)\n"
     ]
    },
    {
     "name": "stdout",
     "output_type": "stream",
     "text": [
      "Sal Train RMSE:  0.15179514644821693\n",
      "Sal Test RMSE:  0.14416309135811664\n",
      "\n",
      "\n"
     ]
    },
    {
     "name": "stderr",
     "output_type": "stream",
     "text": [
      "C:\\Users\\Arsh\\AppData\\Local\\Temp/ipykernel_7400/3284441760.py:20: DataConversionWarning: A column-vector y was passed when a 1d array was expected. Please change the shape of y to (n_samples,), for example using ravel().\n",
      "  rft2.fit(x_train2,y_train2)\n"
     ]
    },
    {
     "name": "stdout",
     "output_type": "stream",
     "text": [
      "Sal_in_usd Train RMSE:  0.08943193334357524\n",
      "Sal_in_usd Test RMSE:  0.07578681557887007\n",
      "\n",
      "\n",
      "\n",
      "At depth:  3\n"
     ]
    },
    {
     "name": "stderr",
     "output_type": "stream",
     "text": [
      "C:\\Users\\Arsh\\AppData\\Local\\Temp/ipykernel_7400/3284441760.py:10: DataConversionWarning: A column-vector y was passed when a 1d array was expected. Please change the shape of y to (n_samples,), for example using ravel().\n",
      "  rft1.fit(x_train1,y_train1)\n"
     ]
    },
    {
     "name": "stdout",
     "output_type": "stream",
     "text": [
      "Sal Train RMSE:  0.13783040177357234\n",
      "Sal Test RMSE:  0.1381965368173691\n",
      "\n",
      "\n"
     ]
    },
    {
     "name": "stderr",
     "output_type": "stream",
     "text": [
      "C:\\Users\\Arsh\\AppData\\Local\\Temp/ipykernel_7400/3284441760.py:20: DataConversionWarning: A column-vector y was passed when a 1d array was expected. Please change the shape of y to (n_samples,), for example using ravel().\n",
      "  rft2.fit(x_train2,y_train2)\n"
     ]
    },
    {
     "name": "stdout",
     "output_type": "stream",
     "text": [
      "Sal_in_usd Train RMSE:  0.06425923198805202\n",
      "Sal_in_usd Test RMSE:  0.06283660803296294\n",
      "\n",
      "\n",
      "\n",
      "At depth:  4\n"
     ]
    },
    {
     "name": "stderr",
     "output_type": "stream",
     "text": [
      "C:\\Users\\Arsh\\AppData\\Local\\Temp/ipykernel_7400/3284441760.py:10: DataConversionWarning: A column-vector y was passed when a 1d array was expected. Please change the shape of y to (n_samples,), for example using ravel().\n",
      "  rft1.fit(x_train1,y_train1)\n"
     ]
    },
    {
     "name": "stdout",
     "output_type": "stream",
     "text": [
      "Sal Train RMSE:  0.12712642853049597\n",
      "Sal Test RMSE:  0.1358572994064735\n",
      "\n",
      "\n"
     ]
    },
    {
     "name": "stderr",
     "output_type": "stream",
     "text": [
      "C:\\Users\\Arsh\\AppData\\Local\\Temp/ipykernel_7400/3284441760.py:20: DataConversionWarning: A column-vector y was passed when a 1d array was expected. Please change the shape of y to (n_samples,), for example using ravel().\n",
      "  rft2.fit(x_train2,y_train2)\n"
     ]
    },
    {
     "name": "stdout",
     "output_type": "stream",
     "text": [
      "Sal_in_usd Train RMSE:  0.0440461551292147\n",
      "Sal_in_usd Test RMSE:  0.05381493517373794\n",
      "\n",
      "\n",
      "\n",
      "At depth:  5\n"
     ]
    },
    {
     "name": "stderr",
     "output_type": "stream",
     "text": [
      "C:\\Users\\Arsh\\AppData\\Local\\Temp/ipykernel_7400/3284441760.py:10: DataConversionWarning: A column-vector y was passed when a 1d array was expected. Please change the shape of y to (n_samples,), for example using ravel().\n",
      "  rft1.fit(x_train1,y_train1)\n"
     ]
    },
    {
     "name": "stdout",
     "output_type": "stream",
     "text": [
      "Sal Train RMSE:  0.11586535993548881\n",
      "Sal Test RMSE:  0.1319778542699289\n",
      "\n",
      "\n"
     ]
    },
    {
     "name": "stderr",
     "output_type": "stream",
     "text": [
      "C:\\Users\\Arsh\\AppData\\Local\\Temp/ipykernel_7400/3284441760.py:20: DataConversionWarning: A column-vector y was passed when a 1d array was expected. Please change the shape of y to (n_samples,), for example using ravel().\n",
      "  rft2.fit(x_train2,y_train2)\n"
     ]
    },
    {
     "name": "stdout",
     "output_type": "stream",
     "text": [
      "Sal_in_usd Train RMSE:  0.03653606741908136\n",
      "Sal_in_usd Test RMSE:  0.05300662585040449\n",
      "\n",
      "\n",
      "\n",
      "At depth:  6\n"
     ]
    },
    {
     "name": "stderr",
     "output_type": "stream",
     "text": [
      "C:\\Users\\Arsh\\AppData\\Local\\Temp/ipykernel_7400/3284441760.py:10: DataConversionWarning: A column-vector y was passed when a 1d array was expected. Please change the shape of y to (n_samples,), for example using ravel().\n",
      "  rft1.fit(x_train1,y_train1)\n"
     ]
    },
    {
     "name": "stdout",
     "output_type": "stream",
     "text": [
      "Sal Train RMSE:  0.10697255230406351\n",
      "Sal Test RMSE:  0.1306352929226325\n",
      "\n",
      "\n"
     ]
    },
    {
     "name": "stderr",
     "output_type": "stream",
     "text": [
      "C:\\Users\\Arsh\\AppData\\Local\\Temp/ipykernel_7400/3284441760.py:20: DataConversionWarning: A column-vector y was passed when a 1d array was expected. Please change the shape of y to (n_samples,), for example using ravel().\n",
      "  rft2.fit(x_train2,y_train2)\n"
     ]
    },
    {
     "name": "stdout",
     "output_type": "stream",
     "text": [
      "Sal_in_usd Train RMSE:  0.03110314981422502\n",
      "Sal_in_usd Test RMSE:  0.055087846802668254\n",
      "\n",
      "\n",
      "\n",
      "At depth:  7\n"
     ]
    },
    {
     "name": "stderr",
     "output_type": "stream",
     "text": [
      "C:\\Users\\Arsh\\AppData\\Local\\Temp/ipykernel_7400/3284441760.py:10: DataConversionWarning: A column-vector y was passed when a 1d array was expected. Please change the shape of y to (n_samples,), for example using ravel().\n",
      "  rft1.fit(x_train1,y_train1)\n"
     ]
    },
    {
     "name": "stdout",
     "output_type": "stream",
     "text": [
      "Sal Train RMSE:  0.099566066986775\n",
      "Sal Test RMSE:  0.13044688390068843\n",
      "\n",
      "\n"
     ]
    },
    {
     "name": "stderr",
     "output_type": "stream",
     "text": [
      "C:\\Users\\Arsh\\AppData\\Local\\Temp/ipykernel_7400/3284441760.py:20: DataConversionWarning: A column-vector y was passed when a 1d array was expected. Please change the shape of y to (n_samples,), for example using ravel().\n",
      "  rft2.fit(x_train2,y_train2)\n"
     ]
    },
    {
     "name": "stdout",
     "output_type": "stream",
     "text": [
      "Sal_in_usd Train RMSE:  0.02439370837212642\n",
      "Sal_in_usd Test RMSE:  0.05452024565527669\n",
      "\n",
      "\n",
      "\n",
      "At depth:  8\n"
     ]
    },
    {
     "name": "stderr",
     "output_type": "stream",
     "text": [
      "C:\\Users\\Arsh\\AppData\\Local\\Temp/ipykernel_7400/3284441760.py:10: DataConversionWarning: A column-vector y was passed when a 1d array was expected. Please change the shape of y to (n_samples,), for example using ravel().\n",
      "  rft1.fit(x_train1,y_train1)\n"
     ]
    },
    {
     "name": "stdout",
     "output_type": "stream",
     "text": [
      "Sal Train RMSE:  0.09480894336587357\n",
      "Sal Test RMSE:  0.13009566010744247\n",
      "\n",
      "\n"
     ]
    },
    {
     "name": "stderr",
     "output_type": "stream",
     "text": [
      "C:\\Users\\Arsh\\AppData\\Local\\Temp/ipykernel_7400/3284441760.py:20: DataConversionWarning: A column-vector y was passed when a 1d array was expected. Please change the shape of y to (n_samples,), for example using ravel().\n",
      "  rft2.fit(x_train2,y_train2)\n"
     ]
    },
    {
     "name": "stdout",
     "output_type": "stream",
     "text": [
      "Sal_in_usd Train RMSE:  0.022570618058116425\n",
      "Sal_in_usd Test RMSE:  0.05250079623618185\n",
      "\n",
      "\n",
      "\n"
     ]
    }
   ],
   "source": [
    "max_depth=[2,3,4,5,6,7,8]\n",
    "\n",
    "for md in max_depth:\n",
    "    \n",
    "    rft1=RandomForestRegressor(n_estimators=200,max_depth=md)\n",
    "    rft2=RandomForestRegressor(n_estimators=200,max_depth=md)\n",
    "    \n",
    "    print(\"At depth: \",md)\n",
    "    \n",
    "    rft1.fit(x_train1,y_train1)\n",
    "\n",
    "    ytrain1_pred=rft1.predict(x_train1)\n",
    "    ytest1_pred=rft1.predict(x_test1)\n",
    "\n",
    "    print(\"Sal Train RMSE: \",np.sqrt(metrics.mean_squared_error(y_train1,ytrain1_pred)))\n",
    "    print(\"Sal Test RMSE: \",np.sqrt(metrics.mean_squared_error(y_test1,ytest1_pred)))\n",
    "    \n",
    "    print(\"\\n\")\n",
    "    \n",
    "    rft2.fit(x_train2,y_train2)\n",
    "\n",
    "    ytrain2_pred=rft2.predict(x_train2)\n",
    "    \n",
    "    ytest2_pred=rft2.predict(x_test2)\n",
    "\n",
    "    print(\"Sal_in_usd Train RMSE: \",np.sqrt(metrics.mean_squared_error(y_train2,ytrain2_pred)))\n",
    "    print(\"Sal_in_usd Test RMSE: \",np.sqrt(metrics.mean_squared_error(y_test2,ytest2_pred)))\n",
    "    \n",
    "    print(\"\\n\\n\")\n",
    "    \n",
    "    "
   ]
  },
  {
   "cell_type": "code",
   "execution_count": null,
   "id": "d1ba0b24",
   "metadata": {},
   "outputs": [],
   "source": []
  },
  {
   "cell_type": "markdown",
   "id": "7830402f",
   "metadata": {},
   "source": [
    "# RFT is at estimators 200 and max_depth 8 working better than DTR "
   ]
  },
  {
   "cell_type": "code",
   "execution_count": null,
   "id": "40d97e76",
   "metadata": {},
   "outputs": [],
   "source": []
  },
  {
   "cell_type": "markdown",
   "id": "07890a25",
   "metadata": {},
   "source": [
    "# ExtraTreesRegressor"
   ]
  },
  {
   "cell_type": "code",
   "execution_count": null,
   "id": "2bb681e8",
   "metadata": {},
   "outputs": [],
   "source": []
  },
  {
   "cell_type": "code",
   "execution_count": 53,
   "id": "3778376b",
   "metadata": {},
   "outputs": [],
   "source": [
    "from sklearn.ensemble import ExtraTreesRegressor"
   ]
  },
  {
   "cell_type": "code",
   "execution_count": null,
   "id": "60021654",
   "metadata": {},
   "outputs": [],
   "source": []
  },
  {
   "cell_type": "code",
   "execution_count": 54,
   "id": "ae58c973",
   "metadata": {},
   "outputs": [],
   "source": [
    "eft1=ExtraTreesRegressor()\n",
    "eft2=ExtraTreesRegressor()"
   ]
  },
  {
   "cell_type": "code",
   "execution_count": null,
   "id": "8ac04cbe",
   "metadata": {},
   "outputs": [],
   "source": []
  },
  {
   "cell_type": "code",
   "execution_count": 55,
   "id": "1ca57fdf",
   "metadata": {},
   "outputs": [
    {
     "name": "stderr",
     "output_type": "stream",
     "text": [
      "C:\\Users\\Arsh\\AppData\\Local\\Temp/ipykernel_7400/1925755365.py:1: DataConversionWarning: A column-vector y was passed when a 1d array was expected. Please change the shape of y to (n_samples,), for example using ravel().\n",
      "  eft1.fit(x_train1,y_train1)\n"
     ]
    },
    {
     "name": "stdout",
     "output_type": "stream",
     "text": [
      "Sal Train RMSE:  0.0752093862468962\n",
      "Sal Test RMSE:  0.13771952831202408\n",
      "\n",
      "\n"
     ]
    },
    {
     "name": "stderr",
     "output_type": "stream",
     "text": [
      "C:\\Users\\Arsh\\AppData\\Local\\Temp/ipykernel_7400/1925755365.py:11: DataConversionWarning: A column-vector y was passed when a 1d array was expected. Please change the shape of y to (n_samples,), for example using ravel().\n",
      "  eft2.fit(x_train2,y_train2)\n"
     ]
    },
    {
     "name": "stdout",
     "output_type": "stream",
     "text": [
      "Sal_in_usd Train RMSE:  6.519470766456775e-16\n",
      "Sal_in_usd Test RMSE:  0.04197939732815651\n"
     ]
    }
   ],
   "source": [
    "eft1.fit(x_train1,y_train1)\n",
    "\n",
    "ytrain1_pred=eft1.predict(x_train1)\n",
    "ytest1_pred=eft1.predict(x_test1)\n",
    "\n",
    "print(\"Sal Train RMSE: \",np.sqrt(metrics.mean_squared_error(y_train1,ytrain1_pred)))\n",
    "print(\"Sal Test RMSE: \",np.sqrt(metrics.mean_squared_error(y_test1,ytest1_pred)))\n",
    "    \n",
    "print(\"\\n\")\n",
    "    \n",
    "eft2.fit(x_train2,y_train2)\n",
    "\n",
    "ytrain2_pred=eft2.predict(x_train2)\n",
    "    \n",
    "ytest2_pred=eft2.predict(x_test2)\n",
    "\n",
    "print(\"Sal_in_usd Train RMSE: \",np.sqrt(metrics.mean_squared_error(y_train2,ytrain2_pred)))\n",
    "print(\"Sal_in_usd Test RMSE: \",np.sqrt(metrics.mean_squared_error(y_test2,ytest2_pred)))"
   ]
  },
  {
   "cell_type": "code",
   "execution_count": null,
   "id": "fa186693",
   "metadata": {},
   "outputs": [],
   "source": []
  },
  {
   "cell_type": "markdown",
   "id": "e2712710",
   "metadata": {},
   "source": [
    "# eft is biased try to improvise through hyperparameter tuning"
   ]
  },
  {
   "cell_type": "code",
   "execution_count": null,
   "id": "5643e4cc",
   "metadata": {},
   "outputs": [],
   "source": []
  },
  {
   "cell_type": "markdown",
   "id": "cf2af0f8",
   "metadata": {},
   "source": [
    "# n_estimators at default depth None"
   ]
  },
  {
   "cell_type": "code",
   "execution_count": null,
   "id": "664d8e16",
   "metadata": {},
   "outputs": [],
   "source": []
  },
  {
   "cell_type": "code",
   "execution_count": 56,
   "id": "b5380cff",
   "metadata": {},
   "outputs": [
    {
     "name": "stdout",
     "output_type": "stream",
     "text": [
      "At estimators:  120\n"
     ]
    },
    {
     "name": "stderr",
     "output_type": "stream",
     "text": [
      "C:\\Users\\Arsh\\AppData\\Local\\Temp/ipykernel_7400/1535922193.py:10: DataConversionWarning: A column-vector y was passed when a 1d array was expected. Please change the shape of y to (n_samples,), for example using ravel().\n",
      "  eft1.fit(x_train1,y_train1)\n"
     ]
    },
    {
     "name": "stdout",
     "output_type": "stream",
     "text": [
      "Sal Train RMSE:  0.0752093862468962\n",
      "Sal Test RMSE:  0.13676721258905764\n",
      "\n",
      "\n"
     ]
    },
    {
     "name": "stderr",
     "output_type": "stream",
     "text": [
      "C:\\Users\\Arsh\\AppData\\Local\\Temp/ipykernel_7400/1535922193.py:20: DataConversionWarning: A column-vector y was passed when a 1d array was expected. Please change the shape of y to (n_samples,), for example using ravel().\n",
      "  eft2.fit(x_train2,y_train2)\n"
     ]
    },
    {
     "name": "stdout",
     "output_type": "stream",
     "text": [
      "Sal_in_usd Train RMSE:  7.598498687251373e-16\n",
      "Sal_in_usd Test RMSE:  0.04539865899355363\n",
      "\n",
      "\n",
      "\n",
      "At estimators:  140\n"
     ]
    },
    {
     "name": "stderr",
     "output_type": "stream",
     "text": [
      "C:\\Users\\Arsh\\AppData\\Local\\Temp/ipykernel_7400/1535922193.py:10: DataConversionWarning: A column-vector y was passed when a 1d array was expected. Please change the shape of y to (n_samples,), for example using ravel().\n",
      "  eft1.fit(x_train1,y_train1)\n"
     ]
    },
    {
     "name": "stdout",
     "output_type": "stream",
     "text": [
      "Sal Train RMSE:  0.0752093862468962\n",
      "Sal Test RMSE:  0.1372859819124748\n",
      "\n",
      "\n"
     ]
    },
    {
     "name": "stderr",
     "output_type": "stream",
     "text": [
      "C:\\Users\\Arsh\\AppData\\Local\\Temp/ipykernel_7400/1535922193.py:20: DataConversionWarning: A column-vector y was passed when a 1d array was expected. Please change the shape of y to (n_samples,), for example using ravel().\n",
      "  eft2.fit(x_train2,y_train2)\n"
     ]
    },
    {
     "name": "stdout",
     "output_type": "stream",
     "text": [
      "Sal_in_usd Train RMSE:  8.510509684745772e-16\n",
      "Sal_in_usd Test RMSE:  0.04115137579395525\n",
      "\n",
      "\n",
      "\n",
      "At estimators:  160\n"
     ]
    },
    {
     "name": "stderr",
     "output_type": "stream",
     "text": [
      "C:\\Users\\Arsh\\AppData\\Local\\Temp/ipykernel_7400/1535922193.py:10: DataConversionWarning: A column-vector y was passed when a 1d array was expected. Please change the shape of y to (n_samples,), for example using ravel().\n",
      "  eft1.fit(x_train1,y_train1)\n"
     ]
    },
    {
     "name": "stdout",
     "output_type": "stream",
     "text": [
      "Sal Train RMSE:  0.0752093862468962\n",
      "Sal Test RMSE:  0.13592736736332148\n",
      "\n",
      "\n"
     ]
    },
    {
     "name": "stderr",
     "output_type": "stream",
     "text": [
      "C:\\Users\\Arsh\\AppData\\Local\\Temp/ipykernel_7400/1535922193.py:20: DataConversionWarning: A column-vector y was passed when a 1d array was expected. Please change the shape of y to (n_samples,), for example using ravel().\n",
      "  eft2.fit(x_train2,y_train2)\n"
     ]
    },
    {
     "name": "stdout",
     "output_type": "stream",
     "text": [
      "Sal_in_usd Train RMSE:  9.6932960735306e-16\n",
      "Sal_in_usd Test RMSE:  0.04134327102997882\n",
      "\n",
      "\n",
      "\n",
      "At estimators:  180\n"
     ]
    },
    {
     "name": "stderr",
     "output_type": "stream",
     "text": [
      "C:\\Users\\Arsh\\AppData\\Local\\Temp/ipykernel_7400/1535922193.py:10: DataConversionWarning: A column-vector y was passed when a 1d array was expected. Please change the shape of y to (n_samples,), for example using ravel().\n",
      "  eft1.fit(x_train1,y_train1)\n"
     ]
    },
    {
     "name": "stdout",
     "output_type": "stream",
     "text": [
      "Sal Train RMSE:  0.0752093862468962\n",
      "Sal Test RMSE:  0.13740221971727326\n",
      "\n",
      "\n"
     ]
    },
    {
     "name": "stderr",
     "output_type": "stream",
     "text": [
      "C:\\Users\\Arsh\\AppData\\Local\\Temp/ipykernel_7400/1535922193.py:20: DataConversionWarning: A column-vector y was passed when a 1d array was expected. Please change the shape of y to (n_samples,), for example using ravel().\n",
      "  eft2.fit(x_train2,y_train2)\n"
     ]
    },
    {
     "name": "stdout",
     "output_type": "stream",
     "text": [
      "Sal_in_usd Train RMSE:  1.0824508692382216e-15\n",
      "Sal_in_usd Test RMSE:  0.04664534508541009\n",
      "\n",
      "\n",
      "\n",
      "At estimators:  200\n"
     ]
    },
    {
     "name": "stderr",
     "output_type": "stream",
     "text": [
      "C:\\Users\\Arsh\\AppData\\Local\\Temp/ipykernel_7400/1535922193.py:10: DataConversionWarning: A column-vector y was passed when a 1d array was expected. Please change the shape of y to (n_samples,), for example using ravel().\n",
      "  eft1.fit(x_train1,y_train1)\n"
     ]
    },
    {
     "name": "stdout",
     "output_type": "stream",
     "text": [
      "Sal Train RMSE:  0.0752093862468962\n",
      "Sal Test RMSE:  0.1364947104330151\n",
      "\n",
      "\n"
     ]
    },
    {
     "name": "stderr",
     "output_type": "stream",
     "text": [
      "C:\\Users\\Arsh\\AppData\\Local\\Temp/ipykernel_7400/1535922193.py:20: DataConversionWarning: A column-vector y was passed when a 1d array was expected. Please change the shape of y to (n_samples,), for example using ravel().\n",
      "  eft2.fit(x_train2,y_train2)\n"
     ]
    },
    {
     "name": "stdout",
     "output_type": "stream",
     "text": [
      "Sal_in_usd Train RMSE:  1.1880272508093884e-15\n",
      "Sal_in_usd Test RMSE:  0.046240439206311434\n",
      "\n",
      "\n",
      "\n"
     ]
    }
   ],
   "source": [
    "estimators=[120,140,160,180,200]\n",
    "\n",
    "for est in estimators:\n",
    "    \n",
    "    eft1=ExtraTreesRegressor(n_estimators=est)\n",
    "    eft2=ExtraTreesRegressor(n_estimators=est)\n",
    "    \n",
    "    print(\"At estimators: \",est)\n",
    "    \n",
    "    eft1.fit(x_train1,y_train1)\n",
    "\n",
    "    ytrain1_pred=eft1.predict(x_train1)\n",
    "    ytest1_pred=eft1.predict(x_test1)\n",
    "\n",
    "    print(\"Sal Train RMSE: \",np.sqrt(metrics.mean_squared_error(y_train1,ytrain1_pred)))\n",
    "    print(\"Sal Test RMSE: \",np.sqrt(metrics.mean_squared_error(y_test1,ytest1_pred)))\n",
    "    \n",
    "    print(\"\\n\")\n",
    "    \n",
    "    eft2.fit(x_train2,y_train2)\n",
    "\n",
    "    ytrain2_pred=eft2.predict(x_train2)\n",
    "    \n",
    "    ytest2_pred=eft2.predict(x_test2)\n",
    "\n",
    "    print(\"Sal_in_usd Train RMSE: \",np.sqrt(metrics.mean_squared_error(y_train2,ytrain2_pred)))\n",
    "    print(\"Sal_in_usd Test RMSE: \",np.sqrt(metrics.mean_squared_error(y_test2,ytest2_pred)))\n",
    "    \n",
    "    print(\"\\n\\n\")\n",
    "    \n",
    "    "
   ]
  },
  {
   "cell_type": "code",
   "execution_count": null,
   "id": "341f654f",
   "metadata": {},
   "outputs": [],
   "source": []
  },
  {
   "cell_type": "markdown",
   "id": "b566f3ac",
   "metadata": {},
   "source": [
    "# max_depth at n_estimators at 100(default)"
   ]
  },
  {
   "cell_type": "code",
   "execution_count": null,
   "id": "e25ef45b",
   "metadata": {},
   "outputs": [],
   "source": []
  },
  {
   "cell_type": "code",
   "execution_count": 57,
   "id": "7af121b0",
   "metadata": {},
   "outputs": [
    {
     "name": "stdout",
     "output_type": "stream",
     "text": [
      "At depth:  2\n"
     ]
    },
    {
     "name": "stderr",
     "output_type": "stream",
     "text": [
      "C:\\Users\\Arsh\\AppData\\Local\\Temp/ipykernel_7400/3597693287.py:10: DataConversionWarning: A column-vector y was passed when a 1d array was expected. Please change the shape of y to (n_samples,), for example using ravel().\n",
      "  eft1.fit(x_train1,y_train1)\n"
     ]
    },
    {
     "name": "stdout",
     "output_type": "stream",
     "text": [
      "Sal Train RMSE:  0.16204110181600523\n",
      "Sal Test RMSE:  0.14483349532091377\n",
      "\n",
      "\n"
     ]
    },
    {
     "name": "stderr",
     "output_type": "stream",
     "text": [
      "C:\\Users\\Arsh\\AppData\\Local\\Temp/ipykernel_7400/3597693287.py:20: DataConversionWarning: A column-vector y was passed when a 1d array was expected. Please change the shape of y to (n_samples,), for example using ravel().\n",
      "  eft2.fit(x_train2,y_train2)\n"
     ]
    },
    {
     "name": "stdout",
     "output_type": "stream",
     "text": [
      "Sal_in_usd Train RMSE:  0.10543475388567371\n",
      "Sal_in_usd Test RMSE:  0.10377264122529371\n",
      "\n",
      "\n",
      "\n",
      "At depth:  3\n"
     ]
    },
    {
     "name": "stderr",
     "output_type": "stream",
     "text": [
      "C:\\Users\\Arsh\\AppData\\Local\\Temp/ipykernel_7400/3597693287.py:10: DataConversionWarning: A column-vector y was passed when a 1d array was expected. Please change the shape of y to (n_samples,), for example using ravel().\n",
      "  eft1.fit(x_train1,y_train1)\n"
     ]
    },
    {
     "name": "stdout",
     "output_type": "stream",
     "text": [
      "Sal Train RMSE:  0.14952075702562354\n",
      "Sal Test RMSE:  0.13920373696249597\n",
      "\n",
      "\n"
     ]
    },
    {
     "name": "stderr",
     "output_type": "stream",
     "text": [
      "C:\\Users\\Arsh\\AppData\\Local\\Temp/ipykernel_7400/3597693287.py:20: DataConversionWarning: A column-vector y was passed when a 1d array was expected. Please change the shape of y to (n_samples,), for example using ravel().\n",
      "  eft2.fit(x_train2,y_train2)\n"
     ]
    },
    {
     "name": "stdout",
     "output_type": "stream",
     "text": [
      "Sal_in_usd Train RMSE:  0.07452903942161138\n",
      "Sal_in_usd Test RMSE:  0.07710007706772992\n",
      "\n",
      "\n",
      "\n",
      "At depth:  4\n"
     ]
    },
    {
     "name": "stderr",
     "output_type": "stream",
     "text": [
      "C:\\Users\\Arsh\\AppData\\Local\\Temp/ipykernel_7400/3597693287.py:10: DataConversionWarning: A column-vector y was passed when a 1d array was expected. Please change the shape of y to (n_samples,), for example using ravel().\n",
      "  eft1.fit(x_train1,y_train1)\n"
     ]
    },
    {
     "name": "stdout",
     "output_type": "stream",
     "text": [
      "Sal Train RMSE:  0.1377014071565983\n",
      "Sal Test RMSE:  0.13684308343926882\n",
      "\n",
      "\n"
     ]
    },
    {
     "name": "stderr",
     "output_type": "stream",
     "text": [
      "C:\\Users\\Arsh\\AppData\\Local\\Temp/ipykernel_7400/3597693287.py:20: DataConversionWarning: A column-vector y was passed when a 1d array was expected. Please change the shape of y to (n_samples,), for example using ravel().\n",
      "  eft2.fit(x_train2,y_train2)\n"
     ]
    },
    {
     "name": "stdout",
     "output_type": "stream",
     "text": [
      "Sal_in_usd Train RMSE:  0.05651734181062869\n",
      "Sal_in_usd Test RMSE:  0.06349447371916495\n",
      "\n",
      "\n",
      "\n",
      "At depth:  5\n"
     ]
    },
    {
     "name": "stderr",
     "output_type": "stream",
     "text": [
      "C:\\Users\\Arsh\\AppData\\Local\\Temp/ipykernel_7400/3597693287.py:10: DataConversionWarning: A column-vector y was passed when a 1d array was expected. Please change the shape of y to (n_samples,), for example using ravel().\n",
      "  eft1.fit(x_train1,y_train1)\n"
     ]
    },
    {
     "name": "stdout",
     "output_type": "stream",
     "text": [
      "Sal Train RMSE:  0.12329327808562565\n",
      "Sal Test RMSE:  0.13149793435229118\n",
      "\n",
      "\n"
     ]
    },
    {
     "name": "stderr",
     "output_type": "stream",
     "text": [
      "C:\\Users\\Arsh\\AppData\\Local\\Temp/ipykernel_7400/3597693287.py:20: DataConversionWarning: A column-vector y was passed when a 1d array was expected. Please change the shape of y to (n_samples,), for example using ravel().\n",
      "  eft2.fit(x_train2,y_train2)\n"
     ]
    },
    {
     "name": "stdout",
     "output_type": "stream",
     "text": [
      "Sal_in_usd Train RMSE:  0.04012175537085707\n",
      "Sal_in_usd Test RMSE:  0.05417868694651492\n",
      "\n",
      "\n",
      "\n",
      "At depth:  6\n"
     ]
    },
    {
     "name": "stderr",
     "output_type": "stream",
     "text": [
      "C:\\Users\\Arsh\\AppData\\Local\\Temp/ipykernel_7400/3597693287.py:10: DataConversionWarning: A column-vector y was passed when a 1d array was expected. Please change the shape of y to (n_samples,), for example using ravel().\n",
      "  eft1.fit(x_train1,y_train1)\n"
     ]
    },
    {
     "name": "stdout",
     "output_type": "stream",
     "text": [
      "Sal Train RMSE:  0.11088764966754862\n",
      "Sal Test RMSE:  0.13320032916649172\n",
      "\n",
      "\n"
     ]
    },
    {
     "name": "stderr",
     "output_type": "stream",
     "text": [
      "C:\\Users\\Arsh\\AppData\\Local\\Temp/ipykernel_7400/3597693287.py:20: DataConversionWarning: A column-vector y was passed when a 1d array was expected. Please change the shape of y to (n_samples,), for example using ravel().\n",
      "  eft2.fit(x_train2,y_train2)\n"
     ]
    },
    {
     "name": "stdout",
     "output_type": "stream",
     "text": [
      "Sal_in_usd Train RMSE:  0.02722965538990342\n",
      "Sal_in_usd Test RMSE:  0.04922280492334083\n",
      "\n",
      "\n",
      "\n",
      "At depth:  7\n"
     ]
    },
    {
     "name": "stderr",
     "output_type": "stream",
     "text": [
      "C:\\Users\\Arsh\\AppData\\Local\\Temp/ipykernel_7400/3597693287.py:10: DataConversionWarning: A column-vector y was passed when a 1d array was expected. Please change the shape of y to (n_samples,), for example using ravel().\n",
      "  eft1.fit(x_train1,y_train1)\n"
     ]
    },
    {
     "name": "stdout",
     "output_type": "stream",
     "text": [
      "Sal Train RMSE:  0.10043055932311352\n",
      "Sal Test RMSE:  0.1288528219453134\n",
      "\n",
      "\n"
     ]
    },
    {
     "name": "stderr",
     "output_type": "stream",
     "text": [
      "C:\\Users\\Arsh\\AppData\\Local\\Temp/ipykernel_7400/3597693287.py:20: DataConversionWarning: A column-vector y was passed when a 1d array was expected. Please change the shape of y to (n_samples,), for example using ravel().\n",
      "  eft2.fit(x_train2,y_train2)\n"
     ]
    },
    {
     "name": "stdout",
     "output_type": "stream",
     "text": [
      "Sal_in_usd Train RMSE:  0.01665385089251307\n",
      "Sal_in_usd Test RMSE:  0.0446683500899318\n",
      "\n",
      "\n",
      "\n",
      "At depth:  8\n"
     ]
    },
    {
     "name": "stderr",
     "output_type": "stream",
     "text": [
      "C:\\Users\\Arsh\\AppData\\Local\\Temp/ipykernel_7400/3597693287.py:10: DataConversionWarning: A column-vector y was passed when a 1d array was expected. Please change the shape of y to (n_samples,), for example using ravel().\n",
      "  eft1.fit(x_train1,y_train1)\n"
     ]
    },
    {
     "name": "stdout",
     "output_type": "stream",
     "text": [
      "Sal Train RMSE:  0.0921129467128632\n",
      "Sal Test RMSE:  0.1289302123420246\n",
      "\n",
      "\n"
     ]
    },
    {
     "name": "stderr",
     "output_type": "stream",
     "text": [
      "C:\\Users\\Arsh\\AppData\\Local\\Temp/ipykernel_7400/3597693287.py:20: DataConversionWarning: A column-vector y was passed when a 1d array was expected. Please change the shape of y to (n_samples,), for example using ravel().\n",
      "  eft2.fit(x_train2,y_train2)\n"
     ]
    },
    {
     "name": "stdout",
     "output_type": "stream",
     "text": [
      "Sal_in_usd Train RMSE:  0.011126685879183017\n",
      "Sal_in_usd Test RMSE:  0.04651794588215853\n",
      "\n",
      "\n",
      "\n"
     ]
    }
   ],
   "source": [
    "max_depth=[2,3,4,5,6,7,8]\n",
    "\n",
    "for md in max_depth:\n",
    "    \n",
    "    eft1=ExtraTreesRegressor(max_depth=md)\n",
    "    eft2=ExtraTreesRegressor(max_depth=md)\n",
    "    \n",
    "    print(\"At depth: \",md)\n",
    "    \n",
    "    eft1.fit(x_train1,y_train1)\n",
    "\n",
    "    ytrain1_pred=eft1.predict(x_train1)\n",
    "    ytest1_pred=eft1.predict(x_test1)\n",
    "\n",
    "    print(\"Sal Train RMSE: \",np.sqrt(metrics.mean_squared_error(y_train1,ytrain1_pred)))\n",
    "    print(\"Sal Test RMSE: \",np.sqrt(metrics.mean_squared_error(y_test1,ytest1_pred)))\n",
    "    \n",
    "    print(\"\\n\")\n",
    "    \n",
    "    eft2.fit(x_train2,y_train2)\n",
    "\n",
    "    ytrain2_pred=eft2.predict(x_train2)\n",
    "    \n",
    "    ytest2_pred=eft2.predict(x_test2)\n",
    "\n",
    "    print(\"Sal_in_usd Train RMSE: \",np.sqrt(metrics.mean_squared_error(y_train2,ytrain2_pred)))\n",
    "    print(\"Sal_in_usd Test RMSE: \",np.sqrt(metrics.mean_squared_error(y_test2,ytest2_pred)))\n",
    "    \n",
    "    print(\"\\n\\n\")\n",
    "    \n",
    "    "
   ]
  },
  {
   "cell_type": "code",
   "execution_count": null,
   "id": "307f057d",
   "metadata": {},
   "outputs": [],
   "source": []
  },
  {
   "cell_type": "markdown",
   "id": "25011852",
   "metadata": {},
   "source": [
    "# etf at max_depth 8 is performing slightly  better than rtf waithout being biased"
   ]
  },
  {
   "cell_type": "code",
   "execution_count": null,
   "id": "fdcebaf6",
   "metadata": {},
   "outputs": [],
   "source": []
  },
  {
   "cell_type": "code",
   "execution_count": 58,
   "id": "cff64683",
   "metadata": {},
   "outputs": [
    {
     "name": "stderr",
     "output_type": "stream",
     "text": [
      "C:\\Users\\Arsh\\AppData\\Local\\Temp/ipykernel_7400/374811886.py:2: DataConversionWarning: A column-vector y was passed when a 1d array was expected. Please change the shape of y to (n_samples,), for example using ravel().\n",
      "  rft1.fit(x_train1,y_train1)\n",
      "C:\\Users\\Arsh\\AppData\\Local\\Temp/ipykernel_7400/374811886.py:4: DataConversionWarning: A column-vector y was passed when a 1d array was expected. Please change the shape of y to (n_samples,), for example using ravel().\n",
      "  rft2.fit(x_train2,y_train2)\n",
      "C:\\Users\\Arsh\\AppData\\Local\\Temp/ipykernel_7400/374811886.py:7: DataConversionWarning: A column-vector y was passed when a 1d array was expected. Please change the shape of y to (n_samples,), for example using ravel().\n",
      "  eft1.fit(x_train1,y_train1)\n",
      "C:\\Users\\Arsh\\AppData\\Local\\Temp/ipykernel_7400/374811886.py:9: DataConversionWarning: A column-vector y was passed when a 1d array was expected. Please change the shape of y to (n_samples,), for example using ravel().\n",
      "  eft2.fit(x_train2,y_train2)\n"
     ]
    },
    {
     "data": {
      "text/html": [
       "<style>#sk-container-id-1 {color: black;background-color: white;}#sk-container-id-1 pre{padding: 0;}#sk-container-id-1 div.sk-toggleable {background-color: white;}#sk-container-id-1 label.sk-toggleable__label {cursor: pointer;display: block;width: 100%;margin-bottom: 0;padding: 0.3em;box-sizing: border-box;text-align: center;}#sk-container-id-1 label.sk-toggleable__label-arrow:before {content: \"▸\";float: left;margin-right: 0.25em;color: #696969;}#sk-container-id-1 label.sk-toggleable__label-arrow:hover:before {color: black;}#sk-container-id-1 div.sk-estimator:hover label.sk-toggleable__label-arrow:before {color: black;}#sk-container-id-1 div.sk-toggleable__content {max-height: 0;max-width: 0;overflow: hidden;text-align: left;background-color: #f0f8ff;}#sk-container-id-1 div.sk-toggleable__content pre {margin: 0.2em;color: black;border-radius: 0.25em;background-color: #f0f8ff;}#sk-container-id-1 input.sk-toggleable__control:checked~div.sk-toggleable__content {max-height: 200px;max-width: 100%;overflow: auto;}#sk-container-id-1 input.sk-toggleable__control:checked~label.sk-toggleable__label-arrow:before {content: \"▾\";}#sk-container-id-1 div.sk-estimator input.sk-toggleable__control:checked~label.sk-toggleable__label {background-color: #d4ebff;}#sk-container-id-1 div.sk-label input.sk-toggleable__control:checked~label.sk-toggleable__label {background-color: #d4ebff;}#sk-container-id-1 input.sk-hidden--visually {border: 0;clip: rect(1px 1px 1px 1px);clip: rect(1px, 1px, 1px, 1px);height: 1px;margin: -1px;overflow: hidden;padding: 0;position: absolute;width: 1px;}#sk-container-id-1 div.sk-estimator {font-family: monospace;background-color: #f0f8ff;border: 1px dotted black;border-radius: 0.25em;box-sizing: border-box;margin-bottom: 0.5em;}#sk-container-id-1 div.sk-estimator:hover {background-color: #d4ebff;}#sk-container-id-1 div.sk-parallel-item::after {content: \"\";width: 100%;border-bottom: 1px solid gray;flex-grow: 1;}#sk-container-id-1 div.sk-label:hover label.sk-toggleable__label {background-color: #d4ebff;}#sk-container-id-1 div.sk-serial::before {content: \"\";position: absolute;border-left: 1px solid gray;box-sizing: border-box;top: 0;bottom: 0;left: 50%;z-index: 0;}#sk-container-id-1 div.sk-serial {display: flex;flex-direction: column;align-items: center;background-color: white;padding-right: 0.2em;padding-left: 0.2em;position: relative;}#sk-container-id-1 div.sk-item {position: relative;z-index: 1;}#sk-container-id-1 div.sk-parallel {display: flex;align-items: stretch;justify-content: center;background-color: white;position: relative;}#sk-container-id-1 div.sk-item::before, #sk-container-id-1 div.sk-parallel-item::before {content: \"\";position: absolute;border-left: 1px solid gray;box-sizing: border-box;top: 0;bottom: 0;left: 50%;z-index: -1;}#sk-container-id-1 div.sk-parallel-item {display: flex;flex-direction: column;z-index: 1;position: relative;background-color: white;}#sk-container-id-1 div.sk-parallel-item:first-child::after {align-self: flex-end;width: 50%;}#sk-container-id-1 div.sk-parallel-item:last-child::after {align-self: flex-start;width: 50%;}#sk-container-id-1 div.sk-parallel-item:only-child::after {width: 0;}#sk-container-id-1 div.sk-dashed-wrapped {border: 1px dashed gray;margin: 0 0.4em 0.5em 0.4em;box-sizing: border-box;padding-bottom: 0.4em;background-color: white;}#sk-container-id-1 div.sk-label label {font-family: monospace;font-weight: bold;display: inline-block;line-height: 1.2em;}#sk-container-id-1 div.sk-label-container {text-align: center;}#sk-container-id-1 div.sk-container {/* jupyter's `normalize.less` sets `[hidden] { display: none; }` but bootstrap.min.css set `[hidden] { display: none !important; }` so we also need the `!important` here to be able to override the default hidden behavior on the sphinx rendered scikit-learn.org. See: https://github.com/scikit-learn/scikit-learn/issues/21755 */display: inline-block !important;position: relative;}#sk-container-id-1 div.sk-text-repr-fallback {display: none;}</style><div id=\"sk-container-id-1\" class=\"sk-top-container\"><div class=\"sk-text-repr-fallback\"><pre>ExtraTreesRegressor(max_depth=8)</pre><b>In a Jupyter environment, please rerun this cell to show the HTML representation or trust the notebook. <br />On GitHub, the HTML representation is unable to render, please try loading this page with nbviewer.org.</b></div><div class=\"sk-container\" hidden><div class=\"sk-item\"><div class=\"sk-estimator sk-toggleable\"><input class=\"sk-toggleable__control sk-hidden--visually\" id=\"sk-estimator-id-1\" type=\"checkbox\" checked><label for=\"sk-estimator-id-1\" class=\"sk-toggleable__label sk-toggleable__label-arrow\">ExtraTreesRegressor</label><div class=\"sk-toggleable__content\"><pre>ExtraTreesRegressor(max_depth=8)</pre></div></div></div></div></div>"
      ],
      "text/plain": [
       "ExtraTreesRegressor(max_depth=8)"
      ]
     },
     "execution_count": 58,
     "metadata": {},
     "output_type": "execute_result"
    }
   ],
   "source": [
    "rft1=RandomForestRegressor(n_estimators=200,max_depth=8)\n",
    "rft1.fit(x_train1,y_train1)\n",
    "rft2=RandomForestRegressor(n_estimators=200,max_depth=8)\n",
    "rft2.fit(x_train2,y_train2)\n",
    "\n",
    "eft1=ExtraTreesRegressor(max_depth=8)\n",
    "eft1.fit(x_train1,y_train1)\n",
    "eft2=ExtraTreesRegressor(max_depth=8)\n",
    "eft2.fit(x_train2,y_train2)"
   ]
  },
  {
   "cell_type": "code",
   "execution_count": null,
   "id": "c157ac38",
   "metadata": {},
   "outputs": [],
   "source": []
  },
  {
   "cell_type": "markdown",
   "id": "522ff511",
   "metadata": {},
   "source": [
    "# Testing both eft and rft on random Data"
   ]
  },
  {
   "cell_type": "code",
   "execution_count": null,
   "id": "bf7659a6",
   "metadata": {},
   "outputs": [],
   "source": []
  },
  {
   "cell_type": "code",
   "execution_count": 62,
   "id": "f3fd13f2",
   "metadata": {},
   "outputs": [
    {
     "data": {
      "text/html": [
       "<div>\n",
       "<style scoped>\n",
       "    .dataframe tbody tr th:only-of-type {\n",
       "        vertical-align: middle;\n",
       "    }\n",
       "\n",
       "    .dataframe tbody tr th {\n",
       "        vertical-align: top;\n",
       "    }\n",
       "\n",
       "    .dataframe thead th {\n",
       "        text-align: right;\n",
       "    }\n",
       "</style>\n",
       "<table border=\"1\" class=\"dataframe\">\n",
       "  <thead>\n",
       "    <tr style=\"text-align: right;\">\n",
       "      <th></th>\n",
       "      <th>work_year</th>\n",
       "      <th>experience_level</th>\n",
       "      <th>employment_type</th>\n",
       "      <th>job_title</th>\n",
       "      <th>salary</th>\n",
       "      <th>salary_currency</th>\n",
       "      <th>salary_in_usd</th>\n",
       "      <th>employee_residence</th>\n",
       "      <th>remote_ratio</th>\n",
       "      <th>company_location</th>\n",
       "      <th>company_size</th>\n",
       "    </tr>\n",
       "  </thead>\n",
       "  <tbody>\n",
       "    <tr>\n",
       "      <th>360</th>\n",
       "      <td>2022</td>\n",
       "      <td>3</td>\n",
       "      <td>2</td>\n",
       "      <td>20</td>\n",
       "      <td>215300</td>\n",
       "      <td>12</td>\n",
       "      <td>215300</td>\n",
       "      <td>53</td>\n",
       "      <td>100</td>\n",
       "      <td>45</td>\n",
       "      <td>0</td>\n",
       "    </tr>\n",
       "    <tr>\n",
       "      <th>237</th>\n",
       "      <td>2021</td>\n",
       "      <td>0</td>\n",
       "      <td>2</td>\n",
       "      <td>35</td>\n",
       "      <td>85000</td>\n",
       "      <td>12</td>\n",
       "      <td>85000</td>\n",
       "      <td>38</td>\n",
       "      <td>100</td>\n",
       "      <td>10</td>\n",
       "      <td>2</td>\n",
       "    </tr>\n",
       "    <tr>\n",
       "      <th>348</th>\n",
       "      <td>2022</td>\n",
       "      <td>0</td>\n",
       "      <td>2</td>\n",
       "      <td>35</td>\n",
       "      <td>28500</td>\n",
       "      <td>7</td>\n",
       "      <td>37300</td>\n",
       "      <td>19</td>\n",
       "      <td>100</td>\n",
       "      <td>16</td>\n",
       "      <td>0</td>\n",
       "    </tr>\n",
       "    <tr>\n",
       "      <th>458</th>\n",
       "      <td>2022</td>\n",
       "      <td>3</td>\n",
       "      <td>2</td>\n",
       "      <td>35</td>\n",
       "      <td>57000</td>\n",
       "      <td>6</td>\n",
       "      <td>62651</td>\n",
       "      <td>38</td>\n",
       "      <td>100</td>\n",
       "      <td>34</td>\n",
       "      <td>0</td>\n",
       "    </tr>\n",
       "    <tr>\n",
       "      <th>517</th>\n",
       "      <td>2022</td>\n",
       "      <td>3</td>\n",
       "      <td>2</td>\n",
       "      <td>1</td>\n",
       "      <td>184700</td>\n",
       "      <td>12</td>\n",
       "      <td>184700</td>\n",
       "      <td>53</td>\n",
       "      <td>0</td>\n",
       "      <td>45</td>\n",
       "      <td>1</td>\n",
       "    </tr>\n",
       "    <tr>\n",
       "      <th>368</th>\n",
       "      <td>2022</td>\n",
       "      <td>2</td>\n",
       "      <td>2</td>\n",
       "      <td>11</td>\n",
       "      <td>58000</td>\n",
       "      <td>12</td>\n",
       "      <td>58000</td>\n",
       "      <td>53</td>\n",
       "      <td>0</td>\n",
       "      <td>45</td>\n",
       "      <td>2</td>\n",
       "    </tr>\n",
       "    <tr>\n",
       "      <th>68</th>\n",
       "      <td>2021</td>\n",
       "      <td>0</td>\n",
       "      <td>2</td>\n",
       "      <td>11</td>\n",
       "      <td>80000</td>\n",
       "      <td>12</td>\n",
       "      <td>80000</td>\n",
       "      <td>53</td>\n",
       "      <td>100</td>\n",
       "      <td>45</td>\n",
       "      <td>1</td>\n",
       "    </tr>\n",
       "    <tr>\n",
       "      <th>160</th>\n",
       "      <td>2021</td>\n",
       "      <td>2</td>\n",
       "      <td>1</td>\n",
       "      <td>38</td>\n",
       "      <td>12000</td>\n",
       "      <td>12</td>\n",
       "      <td>12000</td>\n",
       "      <td>41</td>\n",
       "      <td>50</td>\n",
       "      <td>36</td>\n",
       "      <td>1</td>\n",
       "    </tr>\n",
       "    <tr>\n",
       "      <th>372</th>\n",
       "      <td>2022</td>\n",
       "      <td>2</td>\n",
       "      <td>2</td>\n",
       "      <td>20</td>\n",
       "      <td>55000</td>\n",
       "      <td>7</td>\n",
       "      <td>71982</td>\n",
       "      <td>19</td>\n",
       "      <td>0</td>\n",
       "      <td>16</td>\n",
       "      <td>1</td>\n",
       "    </tr>\n",
       "    <tr>\n",
       "      <th>27</th>\n",
       "      <td>2020</td>\n",
       "      <td>2</td>\n",
       "      <td>2</td>\n",
       "      <td>15</td>\n",
       "      <td>65000</td>\n",
       "      <td>6</td>\n",
       "      <td>74130</td>\n",
       "      <td>2</td>\n",
       "      <td>50</td>\n",
       "      <td>1</td>\n",
       "      <td>0</td>\n",
       "    </tr>\n",
       "  </tbody>\n",
       "</table>\n",
       "</div>"
      ],
      "text/plain": [
       "     work_year  experience_level  employment_type  job_title  salary  \\\n",
       "360       2022                 3                2         20  215300   \n",
       "237       2021                 0                2         35   85000   \n",
       "348       2022                 0                2         35   28500   \n",
       "458       2022                 3                2         35   57000   \n",
       "517       2022                 3                2          1  184700   \n",
       "368       2022                 2                2         11   58000   \n",
       "68        2021                 0                2         11   80000   \n",
       "160       2021                 2                1         38   12000   \n",
       "372       2022                 2                2         20   55000   \n",
       "27        2020                 2                2         15   65000   \n",
       "\n",
       "     salary_currency  salary_in_usd  employee_residence  remote_ratio  \\\n",
       "360               12         215300                  53           100   \n",
       "237               12          85000                  38           100   \n",
       "348                7          37300                  19           100   \n",
       "458                6          62651                  38           100   \n",
       "517               12         184700                  53             0   \n",
       "368               12          58000                  53             0   \n",
       "68                12          80000                  53           100   \n",
       "160               12          12000                  41            50   \n",
       "372                7          71982                  19             0   \n",
       "27                 6          74130                   2            50   \n",
       "\n",
       "     company_location  company_size  \n",
       "360                45             0  \n",
       "237                10             2  \n",
       "348                16             0  \n",
       "458                34             0  \n",
       "517                45             1  \n",
       "368                45             2  \n",
       "68                 45             1  \n",
       "160                36             1  \n",
       "372                16             1  \n",
       "27                  1             0  "
      ]
     },
     "execution_count": 62,
     "metadata": {},
     "output_type": "execute_result"
    }
   ],
   "source": [
    "sample=data1.sample(n=10)\n",
    "\n",
    "sample"
   ]
  },
  {
   "cell_type": "code",
   "execution_count": null,
   "id": "2552d16f",
   "metadata": {},
   "outputs": [],
   "source": []
  },
  {
   "cell_type": "code",
   "execution_count": null,
   "id": "280a9ba3",
   "metadata": {},
   "outputs": [],
   "source": []
  },
  {
   "cell_type": "code",
   "execution_count": 63,
   "id": "d657fdfc",
   "metadata": {},
   "outputs": [
    {
     "name": "stdout",
     "output_type": "stream",
     "text": [
      "215300\n",
      "85000\n",
      "28500\n",
      "57000\n",
      "184700\n",
      "58000\n",
      "80000\n",
      "12000\n",
      "55000\n",
      "65000\n"
     ]
    }
   ],
   "source": [
    "for sal in sample[\"salary\"]:\n",
    "    \n",
    "    print(sal)"
   ]
  },
  {
   "cell_type": "markdown",
   "id": "bd5db200",
   "metadata": {},
   "source": [
    "# eft"
   ]
  },
  {
   "cell_type": "code",
   "execution_count": null,
   "id": "be628d20",
   "metadata": {},
   "outputs": [],
   "source": []
  },
  {
   "cell_type": "code",
   "execution_count": 64,
   "id": "34e5ea17",
   "metadata": {},
   "outputs": [
    {
     "name": "stdout",
     "output_type": "stream",
     "text": [
      "Salary RMSE:  0.06586427587848935\n",
      "Salary_in_usd RMSE:  0.0056937922312044285\n"
     ]
    }
   ],
   "source": [
    "x1=sample.drop([\"salary\",\"salary_in_usd\",\"work_year\"],axis=1)\n",
    "x2=sample.drop([\"salary_in_usd\",\"work_year\"],axis=1)\n",
    "y1=sample[\"salary\"]\n",
    "y2=sample[\"salary_in_usd\"]\n",
    "\n",
    "y1=y1.to_numpy()\n",
    "y2=y2.to_numpy()\n",
    "\n",
    "y1=y1.reshape(-1,1)\n",
    "y2=y2.reshape(-1,1)\n",
    "\n",
    "y1_std=minmax1.transform(y1)\n",
    "y2_std=minmax2.transform(y2)\n",
    "\n",
    "x_std1=sc1.transform(x1)\n",
    "\n",
    "y_sal=eft1.predict(x_std1)\n",
    "\n",
    "#y_sal_inverse=minmax1.inverse_transform(y_sal.reshape(-1,1))\n",
    "\n",
    "print(\"Salary RMSE: \",np.sqrt(metrics.mean_squared_error(y1_std,y_sal)))\n",
    "\n",
    "for psal,sal in zip(y_sal,x2[\"salary\"]):\n",
    "    \n",
    "    sample.loc[x2[\"salary\"]==sal,\"salary\"]=psal\n",
    "\n",
    "    \n",
    "x_std2=sc2.transform(x2)\n",
    "\n",
    "y_salinusd=eft2.predict(x_std2)\n",
    "\n",
    "#y_salinusd=minmax2.inverse_transform(y_salinusd)\n",
    "\n",
    "print(\"Salary_in_usd RMSE: \",np.sqrt(metrics.mean_squared_error(y2_std,y_salinusd)))\n"
   ]
  },
  {
   "cell_type": "code",
   "execution_count": null,
   "id": "d0f9b2c4",
   "metadata": {},
   "outputs": [],
   "source": []
  },
  {
   "cell_type": "markdown",
   "id": "fdf6f3bc",
   "metadata": {},
   "source": [
    "# rft"
   ]
  },
  {
   "cell_type": "code",
   "execution_count": null,
   "id": "ba45ea2d",
   "metadata": {},
   "outputs": [],
   "source": []
  },
  {
   "cell_type": "code",
   "execution_count": 65,
   "id": "63bb3edb",
   "metadata": {},
   "outputs": [
    {
     "name": "stdout",
     "output_type": "stream",
     "text": [
      "Salary RMSE:  0.3227103657929783\n",
      "Salary_in_usd RMSE:  0.37045124561937454\n"
     ]
    }
   ],
   "source": [
    "x1=sample.drop([\"salary\",\"salary_in_usd\",\"work_year\"],axis=1)\n",
    "x2=sample.drop([\"salary_in_usd\",\"work_year\"],axis=1)\n",
    "y1=sample[\"salary\"]\n",
    "y2=sample[\"salary_in_usd\"]\n",
    "\n",
    "y1=y1.to_numpy()\n",
    "y2=y2.to_numpy()\n",
    "\n",
    "y1=y1.reshape(-1,1)\n",
    "y2=y2.reshape(-1,1)\n",
    "\n",
    "y1_std=minmax1.transform(y1)\n",
    "y2_std=minmax2.transform(y2)\n",
    "\n",
    "x_std1=sc1.transform(x1)\n",
    "\n",
    "y_sal=rft1.predict(x_std1)\n",
    "\n",
    "#y_sal_inverse=minmax1.inverse_transform(y_sal.reshape(-1,1))\n",
    "\n",
    "print(\"Salary RMSE: \",np.sqrt(metrics.mean_squared_error(y1_std,y_sal)))\n",
    "\n",
    "for psal,sal in zip(y_sal,x2[\"salary\"]):\n",
    "    \n",
    "    sample.loc[x2[\"salary\"]==sal,\"salary\"]=psal\n",
    "\n",
    "    \n",
    "x_std2=sc2.transform(x2)\n",
    "\n",
    "y_salinusd=rft2.predict(x_std2)\n",
    "\n",
    "#y_salinusd=minmax2.inverse_transform(y_salinusd)\n",
    "\n",
    "print(\"Salary_in_usd RMSE: \",np.sqrt(metrics.mean_squared_error(y2_std,y_salinusd)))\n"
   ]
  },
  {
   "cell_type": "code",
   "execution_count": null,
   "id": "ea22a46d",
   "metadata": {},
   "outputs": [],
   "source": []
  },
  {
   "cell_type": "markdown",
   "id": "043cf85f",
   "metadata": {},
   "source": [
    "# ExtraTreeRegressor works better than RandomForestRegressor on random data , hence we would go ahead with the same"
   ]
  },
  {
   "cell_type": "code",
   "execution_count": null,
   "id": "a1c48718",
   "metadata": {},
   "outputs": [],
   "source": []
  },
  {
   "cell_type": "markdown",
   "id": "c0704744",
   "metadata": {},
   "source": [
    "# Saving the models,encoders  and scales"
   ]
  },
  {
   "cell_type": "code",
   "execution_count": null,
   "id": "902c1874",
   "metadata": {},
   "outputs": [],
   "source": []
  },
  {
   "cell_type": "code",
   "execution_count": 67,
   "id": "cc16bb19",
   "metadata": {},
   "outputs": [],
   "source": [
    "import joblib"
   ]
  },
  {
   "cell_type": "code",
   "execution_count": null,
   "id": "d731f79e",
   "metadata": {},
   "outputs": [],
   "source": []
  },
  {
   "cell_type": "markdown",
   "id": "a6e4a8bf",
   "metadata": {},
   "source": [
    "# Model"
   ]
  },
  {
   "cell_type": "code",
   "execution_count": null,
   "id": "972e2f1d",
   "metadata": {},
   "outputs": [],
   "source": []
  },
  {
   "cell_type": "raw",
   "id": "217832f7",
   "metadata": {},
   "source": [
    "joblib.dump(eft1,\"C:/Users/Arsh/Desktop/my project/DS job saleries/salary_pred.pkl\")\n",
    "joblib.dump(eft2,\"C:/Users/Arsh/Desktop/my project/DS job saleries/salary_in_usd_pred.pkl\")"
   ]
  },
  {
   "cell_type": "code",
   "execution_count": null,
   "id": "0d017d98",
   "metadata": {},
   "outputs": [],
   "source": []
  },
  {
   "cell_type": "markdown",
   "id": "3ee49af2",
   "metadata": {},
   "source": [
    "# Scales"
   ]
  },
  {
   "cell_type": "code",
   "execution_count": null,
   "id": "3c521e9c",
   "metadata": {},
   "outputs": [],
   "source": []
  },
  {
   "cell_type": "raw",
   "id": "db779b11",
   "metadata": {},
   "source": [
    "joblib.dump(sc1,\"C:/Users/Arsh/Desktop/my project/DS job saleries/salary_sc.pkl\")\n",
    "joblib.dump(sc2,\"C:/Users/Arsh/Desktop/my project/DS job saleries/salary_in_usd_sc.pkl\")\n",
    "joblib.dump(minmax1,\"C:/Users/Arsh/Desktop/my project/DS job saleries/salary_minmax.pkl\")\n",
    "joblib.dump(minmax2,\"C:/Users/Arsh/Desktop/my project/DS job saleries/salary_in_usd_minmax.pkl\")"
   ]
  },
  {
   "cell_type": "code",
   "execution_count": null,
   "id": "e21c7197",
   "metadata": {},
   "outputs": [],
   "source": []
  },
  {
   "cell_type": "markdown",
   "id": "ca40c99b",
   "metadata": {},
   "source": [
    "# Labelencoders"
   ]
  },
  {
   "cell_type": "code",
   "execution_count": null,
   "id": "3e757e6e",
   "metadata": {},
   "outputs": [],
   "source": []
  },
  {
   "cell_type": "raw",
   "id": "ae310b91",
   "metadata": {},
   "source": [
    "le_explvl=LabelEncoder()\n",
    "le_emptype=LabelEncoder()\n",
    "le_jobtitle=LabelEncoder()\n",
    "le_compsize=LabelEncoder()\n",
    "\n",
    "le_comploc=LabelEncoder()\n",
    "le_empres=LabelEncoder()\n",
    "le_salcurr=LabelEncoder()"
   ]
  },
  {
   "cell_type": "code",
   "execution_count": null,
   "id": "ea1ed25e",
   "metadata": {},
   "outputs": [],
   "source": []
  },
  {
   "cell_type": "raw",
   "id": "e8c99999",
   "metadata": {},
   "source": [
    "joblib.dump(le_explvl,\"C:/Users/Arsh/Desktop/my project/DS job saleries/le_explvl.pkl\")\n",
    "joblib.dump(le_emptype,\"C:/Users/Arsh/Desktop/my project/DS job saleries/le_emptype.pkl\")\n",
    "joblib.dump(le_jobtitle,\"C:/Users/Arsh/Desktop/my project/DS job saleries/le_jobtitle.pkl\")\n",
    "joblib.dump(le_compsize,\"C:/Users/Arsh/Desktop/my project/DS job saleries/le_compsize.pkl\")\n",
    "joblib.dump(le_comploc,\"C:/Users/Arsh/Desktop/my project/DS job saleries/le_comploc.pkl\")\n",
    "joblib.dump(le_empres,\"C:/Users/Arsh/Desktop/my project/DS job saleries/le_empres.pkl\")\n",
    "joblib.dump(le_salcurr,\"C:/Users/Arsh/Desktop/my project/DS job saleries/le_salcurr.pkl\")\n"
   ]
  }
 ],
 "metadata": {
  "kernelspec": {
   "display_name": "Python 3 (ipykernel)",
   "language": "python",
   "name": "python3"
  },
  "language_info": {
   "codemirror_mode": {
    "name": "ipython",
    "version": 3
   },
   "file_extension": ".py",
   "mimetype": "text/x-python",
   "name": "python",
   "nbconvert_exporter": "python",
   "pygments_lexer": "ipython3",
   "version": "3.9.7"
  }
 },
 "nbformat": 4,
 "nbformat_minor": 5
}
